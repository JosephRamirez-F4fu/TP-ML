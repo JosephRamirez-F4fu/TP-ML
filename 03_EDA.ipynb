{
 "cells": [
  {
   "cell_type": "code",
   "execution_count": 1,
   "metadata": {},
   "outputs": [],
   "source": [
    "from requests import Session\n",
    "from requests.exceptions import ConnectionError, Timeout, TooManyRedirects\n",
    "import json\n",
    "import pandas as pd\n",
    "from pathlib import Path\n",
    "import seaborn as sns\n",
    "import matplotlib.pyplot as plt\n",
    "from datetime import datetime\n",
    "import os"
   ]
  },
  {
   "cell_type": "code",
   "execution_count": 3,
   "metadata": {},
   "outputs": [],
   "source": [
    "halving_01  = pd.read_csv('./data/clean/halving_01_v4.csv')\n",
    "halving_02_to_04 = pd.read_csv('./data/clean/halving_02_to_04.csv')"
   ]
  },
  {
   "cell_type": "code",
   "execution_count": 4,
   "metadata": {},
   "outputs": [
    {
     "name": "stdout",
     "output_type": "stream",
     "text": [
      "<class 'pandas.core.frame.DataFrame'>\n",
      "RangeIndex: 529 entries, 0 to 528\n",
      "Data columns (total 12 columns):\n",
      " #   Column              Non-Null Count  Dtype  \n",
      "---  ------              --------------  -----  \n",
      " 0   name                529 non-null    object \n",
      " 1   symbol              529 non-null    object \n",
      " 2   date                529 non-null    object \n",
      " 3   rank                529 non-null    float64\n",
      " 4   market_cap          529 non-null    float64\n",
      " 5   price               529 non-null    float64\n",
      " 6   circulating_supply  529 non-null    float64\n",
      " 7   %1h                 529 non-null    float64\n",
      " 8   %7h                 529 non-null    float64\n",
      " 9   %24h                529 non-null    float64\n",
      " 10  class               529 non-null    float64\n",
      " 11  ismultiplatform     529 non-null    float64\n",
      "dtypes: float64(9), object(3)\n",
      "memory usage: 49.7+ KB\n"
     ]
    }
   ],
   "source": [
    "halving_01.info()"
   ]
  },
  {
   "cell_type": "code",
   "execution_count": 6,
   "metadata": {},
   "outputs": [],
   "source": [
    "halving_02_to_04['rank']=halving_02_to_04['rank'].astype(int)\n",
    "halving_02_to_04['date']=pd.to_datetime(halving_02_to_04['date'])\n",
    "halving_02_to_04['ismultiplatform']=halving_02_to_04['ismultiplatform'].astype(bool)\n",
    "halving_02_to_04['class']=halving_02_to_04['class'].astype('object')"
   ]
  },
  {
   "cell_type": "code",
   "execution_count": 7,
   "metadata": {},
   "outputs": [
    {
     "name": "stdout",
     "output_type": "stream",
     "text": [
      "<class 'pandas.core.frame.DataFrame'>\n",
      "RangeIndex: 92282 entries, 0 to 92281\n",
      "Data columns (total 13 columns):\n",
      " #   Column              Non-Null Count  Dtype         \n",
      "---  ------              --------------  -----         \n",
      " 0   name                92282 non-null  object        \n",
      " 1   symbol              92282 non-null  object        \n",
      " 2   date                92282 non-null  datetime64[ns]\n",
      " 3   rank                92282 non-null  int32         \n",
      " 4   market_cap          92282 non-null  float64       \n",
      " 5   price               92282 non-null  float64       \n",
      " 6   circulating_supply  92282 non-null  float64       \n",
      " 7   volume_24h          92282 non-null  float64       \n",
      " 8   %1h                 92282 non-null  float64       \n",
      " 9   %7h                 92282 non-null  float64       \n",
      " 10  %24h                92282 non-null  float64       \n",
      " 11  class               92282 non-null  object        \n",
      " 12  ismultiplatform     92282 non-null  bool          \n",
      "dtypes: bool(1), datetime64[ns](1), float64(7), int32(1), object(3)\n",
      "memory usage: 8.2+ MB\n"
     ]
    }
   ],
   "source": [
    "halving_02_to_04.info()"
   ]
  }
 ],
 "metadata": {
  "kernelspec": {
   "display_name": "env",
   "language": "python",
   "name": "python3"
  },
  "language_info": {
   "codemirror_mode": {
    "name": "ipython",
    "version": 3
   },
   "file_extension": ".py",
   "mimetype": "text/x-python",
   "name": "python",
   "nbconvert_exporter": "python",
   "pygments_lexer": "ipython3",
   "version": "3.12.0"
  }
 },
 "nbformat": 4,
 "nbformat_minor": 2
}
