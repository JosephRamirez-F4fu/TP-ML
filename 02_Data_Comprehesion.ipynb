{
 "cells": [
  {
   "cell_type": "markdown",
   "metadata": {},
   "source": [
    "# DATA COMPREHESION"
   ]
  },
  {
   "cell_type": "markdown",
   "metadata": {},
   "source": [
    "## DATA MINING"
   ]
  },
  {
   "cell_type": "code",
   "execution_count": 1,
   "metadata": {},
   "outputs": [],
   "source": [
    "import os\n",
    "from dotenv import load_dotenv\n",
    "import time\n",
    "load_dotenv()\n",
    "api_key = os.getenv(\"API_KEY\")"
   ]
  },
  {
   "cell_type": "code",
   "execution_count": 2,
   "metadata": {},
   "outputs": [],
   "source": [
    "from requests import Session\n",
    "from requests.exceptions import ConnectionError, Timeout, TooManyRedirects\n",
    "import json\n",
    "import pandas as pd\n",
    "from pathlib import Path"
   ]
  },
  {
   "cell_type": "code",
   "execution_count": 8,
   "metadata": {},
   "outputs": [],
   "source": [
    "#load json file\n",
    "def load_json(filepath,filename):\n",
    "    with open(filepath+filename, 'r') as f:\n",
    "        data = json.load(f)\n",
    "    return data"
   ]
  },
  {
   "cell_type": "code",
   "execution_count": 6,
   "metadata": {},
   "outputs": [],
   "source": [
    "class CoinGeckoClass:\n",
    "    def __init__(self):\n",
    "        self.api_key=\"CG-4iykpMQk3bQNCYrS4pMjmmXJ\"\n",
    "        self.url_base=\"https://api.coingecko.com/api/v3/\"\n",
    "        self.headers={\n",
    "            \"accept\": \"application/json\",\n",
    "            \"x-cg-api-key\":\"CG-4gmHK6qGSZHmTp1Uh7ThLwr6\"\n",
    "            }\n",
    "        self.session = Session()\n",
    "        self.session.headers.update(self.headers)\n",
    "\n",
    "        \n",
    "    def __catch_error(self, url):\n",
    "        try:\n",
    "            response = self.session.get(url)\n",
    "            data = json.loads(response.text)\n",
    "            return data\n",
    "        except (ConnectionError, Timeout, TooManyRedirects) as e:\n",
    "            print(e)\n",
    "    \n",
    "    def get_categories(self):\n",
    "        url = 'coins/categories'\n",
    "        return self.__catch_error(self.url_base+url)\n",
    "    \n",
    "    def get_asset_platforms(self):\n",
    "        url = 'asset_platforms'\n",
    "        return self.__catch_error(self.url_base+url)\n",
    "    \n",
    "    def get_coin_list(self):\n",
    "        url = 'coins/list?include_platform=true'\n",
    "        return self.__catch_error(self.url_base+url)\n",
    "    \n",
    "    def get_coin_list_with_market_data(self,category):\n",
    "        url = f\"coins/markets?vs_currency=usd&category={category}&per_page=250&sparkline=true&price_change_percentage=1h%2C24h%2C7d&precision=full\"\n",
    "        return self.__catch_error(self.url_base+url)\n",
    "    \n",
    "    def get_exchange_list(self):\n",
    "        url = 'exchanges/list'\n",
    "        return self.__catch_error(self.url_base+url)\n",
    "\n",
    "    def save_json(self,data,filepath,filename):\n",
    "        with open(filepath+filename, 'w') as f:\n",
    "            json.dump(data, f)\n",
    "\n",
    "     \n",
    "\n",
    "    def ping(self):\n",
    "        url=self.url_base+\"ping\"\n",
    "        response = self.session.get(url)\n",
    "        data = json.loads(response.text)\n",
    "        print(data)"
   ]
  },
  {
   "cell_type": "code",
   "execution_count": 13,
   "metadata": {},
   "outputs": [
    {
     "name": "stdout",
     "output_type": "stream",
     "text": [
      "{'gecko_says': '(V3) To the Moon!'}\n"
     ]
    }
   ],
   "source": [
    "api = CoinGeckoClass()\n",
    "api.ping()"
   ]
  },
  {
   "cell_type": "code",
   "execution_count": 18,
   "metadata": {},
   "outputs": [],
   "source": [
    "categories=api.get_categories()\n",
    "api.save_json(categories,\"data/raw/\",\"categories.json\")"
   ]
  },
  {
   "cell_type": "code",
   "execution_count": 22,
   "metadata": {},
   "outputs": [],
   "source": [
    "asset_platforms=api.get_asset_platforms()\n",
    "api.save_json(asset_platforms,\"data/raw/\",\"asset_platforms.json\")"
   ]
  },
  {
   "cell_type": "code",
   "execution_count": 25,
   "metadata": {},
   "outputs": [],
   "source": [
    "coin_list=api.get_coin_list()\n",
    "api.save_json(coin_list,\"data/raw/\",\"coin_list.json\")"
   ]
  },
  {
   "cell_type": "markdown",
   "metadata": {},
   "source": [
    "### rwa"
   ]
  },
  {
   "cell_type": "code",
   "execution_count": 28,
   "metadata": {},
   "outputs": [],
   "source": [
    "coin_list_with_market_data=api.get_coin_list_with_market_data(\"real-world-assets-rwa\")\n",
    "api.save_json(coin_list_with_market_data,\"data/raw/\",\"coin_list_with_market_data_real_world_assets_rwa.json\")"
   ]
  },
  {
   "cell_type": "markdown",
   "metadata": {},
   "source": [
    "### gaming"
   ]
  },
  {
   "cell_type": "code",
   "execution_count": 30,
   "metadata": {},
   "outputs": [],
   "source": [
    "coin_list_with_market_data=api.get_coin_list_with_market_data(\"gaming\")\n",
    "api.save_json(coin_list_with_market_data,\"data/raw/\",\"coin_list_with_market_data_gaming.json\")"
   ]
  },
  {
   "cell_type": "code",
   "execution_count": 31,
   "metadata": {},
   "outputs": [],
   "source": [
    "coin_list_with_market_data=api.get_coin_list_with_market_data(\"play-to-earn\")\n",
    "api.save_json(coin_list_with_market_data,\"data/raw/coin_list_with_market_data/\",\"play_to_earn.json\")\n"
   ]
  },
  {
   "cell_type": "code",
   "execution_count": 32,
   "metadata": {},
   "outputs": [],
   "source": [
    "coin_list_with_market_data=api.get_coin_list_with_market_data(\"gaming-blockchains\")\n",
    "api.save_json(coin_list_with_market_data,\"data/raw/coin_list_with_market_data/\",\"gaming_blockchains.json\")"
   ]
  },
  {
   "cell_type": "code",
   "execution_count": 33,
   "metadata": {},
   "outputs": [],
   "source": [
    "coin_list_with_market_data=api.get_coin_list_with_market_data(\"gaming-utility-token\")\n",
    "api.save_json(coin_list_with_market_data,\"data/raw/coin_list_with_market_data/\",\"gaming_utility_token.json\")"
   ]
  },
  {
   "cell_type": "code",
   "execution_count": 34,
   "metadata": {},
   "outputs": [],
   "source": [
    "coin_list_with_market_data=api.get_coin_list_with_market_data(\"gaming-governance-token\")\n",
    "api.save_json(coin_list_with_market_data,\"data/raw/coin_list_with_market_data/\",\"gaming_governance_token.json\")"
   ]
  },
  {
   "cell_type": "code",
   "execution_count": 35,
   "metadata": {},
   "outputs": [],
   "source": [
    "coin_list_with_market_data=api.get_coin_list_with_market_data(\"gaming-platform\")\n",
    "api.save_json(coin_list_with_market_data,\"data/raw/coin_list_with_market_data/\",\"gaming_platform.json\")"
   ]
  },
  {
   "cell_type": "code",
   "execution_count": 36,
   "metadata": {},
   "outputs": [],
   "source": [
    "coin_list_with_market_data=api.get_coin_list_with_market_data(\"on-chain-gaming\")\n",
    "api.save_json(coin_list_with_market_data,\"data/raw/coin_list_with_market_data/\",\"on_chain_gaming.json\")"
   ]
  },
  {
   "cell_type": "markdown",
   "metadata": {},
   "source": [
    "### memes"
   ]
  },
  {
   "cell_type": "code",
   "execution_count": 4,
   "metadata": {},
   "outputs": [],
   "source": [
    "categories = load_json(\"data/raw/\",\"categories.json\")"
   ]
  },
  {
   "cell_type": "code",
   "execution_count": 5,
   "metadata": {},
   "outputs": [],
   "source": [
    "halving_03_categories=pd.DataFrame(categories)"
   ]
  },
  {
   "cell_type": "code",
   "execution_count": 6,
   "metadata": {},
   "outputs": [],
   "source": [
    "halving_03_categories_meme = halving_03_categories.loc[halving_03_categories['content'].apply(lambda x : \"meme\" in str(x).lower())]"
   ]
  },
  {
   "cell_type": "code",
   "execution_count": 7,
   "metadata": {},
   "outputs": [
    {
     "data": {
      "text/plain": [
       "['meme-token',\n",
       " 'dog-themed-coins',\n",
       " 'elon-musk-inspired-coins',\n",
       " 'solana-meme-coins',\n",
       " 'cat-themed-coins',\n",
       " 'base-meme-coins',\n",
       " 'presale-meme-coins',\n",
       " 'politifi',\n",
       " 'ai-meme-coins',\n",
       " 'parody-meme-coins',\n",
       " 'ton-meme-coins',\n",
       " 'anime-themed-coins',\n",
       " 'duck-themed-coins']"
      ]
     },
     "execution_count": 7,
     "metadata": {},
     "output_type": "execute_result"
    }
   ],
   "source": [
    "halving_03_categories_meme[\"id\"].to_list()"
   ]
  },
  {
   "cell_type": "code",
   "execution_count": 15,
   "metadata": {},
   "outputs": [],
   "source": [
    "for category in halving_03_categories_meme[\"id\"].to_list():\n",
    "    coin_list_with_market_data=api.get_coin_list_with_market_data(category)\n",
    "    api.save_json(coin_list_with_market_data,\"data/raw/coin_list_with_market_data/memes/\",f\"{category.replace('-','_')}.json\")"
   ]
  },
  {
   "cell_type": "markdown",
   "metadata": {},
   "source": [
    "### IA"
   ]
  },
  {
   "cell_type": "code",
   "execution_count": 107,
   "metadata": {},
   "outputs": [],
   "source": [
    "coin_list_with_market_data=api.get_coin_list_with_market_data(\"artificial-intelligence\")\n",
    "api.save_json(coin_list_with_market_data,\"data/raw/coin_list_with_market_data/AI/\",\"artificial_intelligence.json\")"
   ]
  },
  {
   "cell_type": "markdown",
   "metadata": {},
   "source": [
    "### CEX TOKENS"
   ]
  },
  {
   "cell_type": "code",
   "execution_count": 88,
   "metadata": {},
   "outputs": [],
   "source": [
    "coin_list_with_market_data=api.get_coin_list_with_market_data(\"centralized-exchange-token-cex\")\n",
    "api.save_json(coin_list_with_market_data,\"data/raw/coin_list_with_market_data/\",\"centralized_exchange_token_cex.json\")\n"
   ]
  },
  {
   "cell_type": "code",
   "execution_count": 93,
   "metadata": {},
   "outputs": [],
   "source": [
    "data_cex=load_json(\"data/raw/coin_list_with_market_data/\",\"centralized_exchange_token_cex.json\")"
   ]
  },
  {
   "cell_type": "code",
   "execution_count": 95,
   "metadata": {},
   "outputs": [
    {
     "data": {
      "text/plain": [
       "42"
      ]
     },
     "execution_count": 95,
     "metadata": {},
     "output_type": "execute_result"
    }
   ],
   "source": [
    "len(data_cex)"
   ]
  },
  {
   "cell_type": "markdown",
   "metadata": {},
   "source": [
    "### exchanges"
   ]
  },
  {
   "cell_type": "code",
   "execution_count": 74,
   "metadata": {},
   "outputs": [],
   "source": [
    "exchange_list=api.get_exchange_list()\n",
    "api.save_json(exchange_list,\"data/raw/\",\"exchange_list.json\")"
   ]
  },
  {
   "cell_type": "markdown",
   "metadata": {},
   "source": [
    "### clasificando tokens por clase"
   ]
  },
  {
   "cell_type": "markdown",
   "metadata": {},
   "source": [
    "#### gaming"
   ]
  },
  {
   "cell_type": "code",
   "execution_count": 27,
   "metadata": {},
   "outputs": [],
   "source": [
    "#load gaming json files\n",
    "data_folder = Path(\"data/raw/coin_list_with_market_data/gaming/\")\n",
    "gaming_files = [file for file in data_folder.iterdir() if file.is_file()]\n",
    "# to string list"
   ]
  },
  {
   "cell_type": "code",
   "execution_count": 28,
   "metadata": {},
   "outputs": [],
   "source": [
    "halving_03_all_tokens_gaming = pd.DataFrame()\n",
    "for file in gaming_files:\n",
    "    json_file=load_json(\"data/raw/coin_list_with_market_data/gaming/\",file.name)\n",
    "    halving_03 = pd.DataFrame(json_file)\n",
    "    halving_03 = halving_03[['id','symbol','name']]\n",
    "    halving_03['class']=1\n",
    "    halving_03_all_tokens_gaming = pd.concat([halving_03_all_tokens_gaming,halving_03])\n",
    "    "
   ]
  },
  {
   "cell_type": "code",
   "execution_count": 29,
   "metadata": {},
   "outputs": [],
   "source": [
    "halving_03_all_tokens_gaming.drop_duplicates(subset=['id'],inplace=True)"
   ]
  },
  {
   "cell_type": "code",
   "execution_count": 30,
   "metadata": {},
   "outputs": [
    {
     "data": {
      "text/plain": [
       "329"
      ]
     },
     "execution_count": 30,
     "metadata": {},
     "output_type": "execute_result"
    }
   ],
   "source": [
    "#numeor de toknens gaming\n",
    "len(halving_03_all_tokens_gaming)"
   ]
  },
  {
   "cell_type": "markdown",
   "metadata": {},
   "source": [
    "#### ia"
   ]
  },
  {
   "cell_type": "code",
   "execution_count": 31,
   "metadata": {},
   "outputs": [],
   "source": [
    "data_folder = Path(\"data/raw/coin_list_with_market_data/AI/\")\n",
    "files = [file for file in data_folder.iterdir() if file.is_file()]"
   ]
  },
  {
   "cell_type": "code",
   "execution_count": 32,
   "metadata": {},
   "outputs": [],
   "source": [
    "halving_03_all_tokens_ai = pd.DataFrame()\n",
    "for file in files:\n",
    "    json_file=load_json(\"data/raw/coin_list_with_market_data/AI/\",file.name)\n",
    "    halving_03 = pd.DataFrame(json_file)\n",
    "    halving_03 = halving_03[['id','symbol','name']]\n",
    "    halving_03['class']=0\n",
    "    halving_03_all_tokens_ai = pd.concat([halving_03_all_tokens_ai,halving_03])"
   ]
  },
  {
   "cell_type": "code",
   "execution_count": 41,
   "metadata": {},
   "outputs": [
    {
     "data": {
      "text/plain": [
       "166"
      ]
     },
     "execution_count": 41,
     "metadata": {},
     "output_type": "execute_result"
    }
   ],
   "source": [
    "len(halving_03_all_tokens_ai)"
   ]
  },
  {
   "cell_type": "markdown",
   "metadata": {},
   "source": [
    "#### memes"
   ]
  },
  {
   "cell_type": "code",
   "execution_count": 33,
   "metadata": {},
   "outputs": [],
   "source": [
    "data_folder = Path(\"data/raw/coin_list_with_market_data/memes/\")\n",
    "files = [file for file in data_folder.iterdir() if file.is_file()]"
   ]
  },
  {
   "cell_type": "code",
   "execution_count": 34,
   "metadata": {},
   "outputs": [],
   "source": [
    "halving_03_all_tokens_memes = pd.DataFrame()\n",
    "for file in files:\n",
    "    json_file=load_json(\"data/raw/coin_list_with_market_data/memes/\",file.name)\n",
    "    halving_03 = pd.DataFrame(json_file)\n",
    "    halving_03 = halving_03[['id','symbol','name']]\n",
    "    halving_03['class']=3\n",
    "    halving_03_all_tokens_memes = pd.concat([halving_03_all_tokens_memes,halving_03])"
   ]
  },
  {
   "cell_type": "code",
   "execution_count": 35,
   "metadata": {},
   "outputs": [
    {
     "data": {
      "text/plain": [
       "226"
      ]
     },
     "execution_count": 35,
     "metadata": {},
     "output_type": "execute_result"
    }
   ],
   "source": [
    "halving_03_all_tokens_memes.duplicated(subset=['id']).sum()"
   ]
  },
  {
   "cell_type": "code",
   "execution_count": 36,
   "metadata": {},
   "outputs": [],
   "source": [
    "halving_03_all_tokens_memes.drop_duplicates(subset=['id'],inplace=True)"
   ]
  },
  {
   "cell_type": "code",
   "execution_count": 40,
   "metadata": {},
   "outputs": [
    {
     "data": {
      "text/plain": [
       "414"
      ]
     },
     "execution_count": 40,
     "metadata": {},
     "output_type": "execute_result"
    }
   ],
   "source": [
    "len(halving_03_all_tokens_memes)"
   ]
  },
  {
   "cell_type": "markdown",
   "metadata": {},
   "source": [
    "### rwa"
   ]
  },
  {
   "cell_type": "code",
   "execution_count": 37,
   "metadata": {},
   "outputs": [],
   "source": [
    "data_folder = Path(\"data/raw/coin_list_with_market_data/rwa/\")\n",
    "files = [file for file in data_folder.iterdir() if file.is_file()]"
   ]
  },
  {
   "cell_type": "code",
   "execution_count": 38,
   "metadata": {},
   "outputs": [],
   "source": [
    "halving_03_all_tokens_rwa = pd.DataFrame()\n",
    "for file in files:\n",
    "    json_file=load_json(\"data/raw/coin_list_with_market_data/rwa/\",file.name)\n",
    "    halving_03 = pd.DataFrame(json_file)\n",
    "    halving_03 = halving_03[['id','symbol','name']]\n",
    "    halving_03['class']=2\n",
    "    halving_03_all_tokens_rwa = pd.concat([halving_03_all_tokens_rwa,halving_03])"
   ]
  },
  {
   "cell_type": "code",
   "execution_count": 39,
   "metadata": {},
   "outputs": [
    {
     "data": {
      "text/plain": [
       "131"
      ]
     },
     "execution_count": 39,
     "metadata": {},
     "output_type": "execute_result"
    }
   ],
   "source": [
    "len(halving_03_all_tokens_rwa)"
   ]
  },
  {
   "cell_type": "code",
   "execution_count": 44,
   "metadata": {},
   "outputs": [],
   "source": [
    "halving_03_all_tokens  = pd.concat([halving_03_all_tokens_gaming,halving_03_all_tokens_ai,halving_03_all_tokens_memes,halving_03_all_tokens_rwa])"
   ]
  },
  {
   "cell_type": "code",
   "execution_count": 45,
   "metadata": {},
   "outputs": [
    {
     "data": {
      "text/plain": [
       "21"
      ]
     },
     "execution_count": 45,
     "metadata": {},
     "output_type": "execute_result"
    }
   ],
   "source": [
    "halving_03_all_tokens.duplicated(subset=['id']).sum() # observamos que existen tokenes que tienen  mas de una class "
   ]
  },
  {
   "cell_type": "code",
   "execution_count": 46,
   "metadata": {},
   "outputs": [],
   "source": [
    "halving_03_all_tokens.to_csv(\"data/clean/halving_03_all_tokens.csv\",index=False)"
   ]
  },
  {
   "cell_type": "code",
   "execution_count": 22,
   "metadata": {},
   "outputs": [],
   "source": [
    "halving_03_all_tokens = pd.read_csv(\"data/clean/halving_03_all_tokens.csv\")"
   ]
  },
  {
   "cell_type": "code",
   "execution_count": 23,
   "metadata": {},
   "outputs": [
    {
     "data": {
      "text/html": [
       "<div>\n",
       "<style scoped>\n",
       "    .dataframe tbody tr th:only-of-type {\n",
       "        vertical-align: middle;\n",
       "    }\n",
       "\n",
       "    .dataframe tbody tr th {\n",
       "        vertical-align: top;\n",
       "    }\n",
       "\n",
       "    .dataframe thead th {\n",
       "        text-align: right;\n",
       "    }\n",
       "</style>\n",
       "<table border=\"1\" class=\"dataframe\">\n",
       "  <thead>\n",
       "    <tr style=\"text-align: right;\">\n",
       "      <th></th>\n",
       "      <th>id</th>\n",
       "      <th>symbol</th>\n",
       "      <th>name</th>\n",
       "      <th>class</th>\n",
       "    </tr>\n",
       "  </thead>\n",
       "  <tbody>\n",
       "    <tr>\n",
       "      <th>0</th>\n",
       "      <td>immutable-x</td>\n",
       "      <td>imx</td>\n",
       "      <td>Immutable</td>\n",
       "      <td>1</td>\n",
       "    </tr>\n",
       "    <tr>\n",
       "      <th>1</th>\n",
       "      <td>floki</td>\n",
       "      <td>floki</td>\n",
       "      <td>FLOKI</td>\n",
       "      <td>1</td>\n",
       "    </tr>\n",
       "    <tr>\n",
       "      <th>2</th>\n",
       "      <td>gala</td>\n",
       "      <td>gala</td>\n",
       "      <td>GALA</td>\n",
       "      <td>1</td>\n",
       "    </tr>\n",
       "    <tr>\n",
       "      <th>3</th>\n",
       "      <td>beam-2</td>\n",
       "      <td>beam</td>\n",
       "      <td>Beam</td>\n",
       "      <td>1</td>\n",
       "    </tr>\n",
       "    <tr>\n",
       "      <th>4</th>\n",
       "      <td>axie-infinity</td>\n",
       "      <td>axs</td>\n",
       "      <td>Axie Infinity</td>\n",
       "      <td>1</td>\n",
       "    </tr>\n",
       "  </tbody>\n",
       "</table>\n",
       "</div>"
      ],
      "text/plain": [
       "              id symbol           name  class\n",
       "0    immutable-x    imx      Immutable      1\n",
       "1          floki  floki          FLOKI      1\n",
       "2           gala   gala           GALA      1\n",
       "3         beam-2   beam           Beam      1\n",
       "4  axie-infinity    axs  Axie Infinity      1"
      ]
     },
     "execution_count": 23,
     "metadata": {},
     "output_type": "execute_result"
    }
   ],
   "source": [
    "halving_03_all_tokens.head()"
   ]
  },
  {
   "cell_type": "code",
   "execution_count": 9,
   "metadata": {},
   "outputs": [
    {
     "data": {
      "text/plain": [
       "1040"
      ]
     },
     "execution_count": 9,
     "metadata": {},
     "output_type": "execute_result"
    }
   ],
   "source": [
    "len(halving_03_all_tokens)"
   ]
  },
  {
   "cell_type": "code",
   "execution_count": 15,
   "metadata": {},
   "outputs": [],
   "source": [
    "## is in exchange centralized\n",
    "exchange_list=load_json(\"data/raw/coin_list_with_market_data/\",\"centralized_exchange_token_cex.json\")\n",
    "halving_03_exchange_list = pd.DataFrame(exchange_list)"
   ]
  },
  {
   "cell_type": "code",
   "execution_count": 17,
   "metadata": {},
   "outputs": [],
   "source": [
    "halving_03_exchange_list = halving_03_exchange_list[['id','name']]"
   ]
  },
  {
   "cell_type": "code",
   "execution_count": 24,
   "metadata": {},
   "outputs": [],
   "source": [
    "## if id is in exchange centralized centralizaed true\n",
    "halving_03_all_tokens['centralized']=halving_03_all_tokens['id'].apply(lambda x: 1 if x in halving_03_exchange_list['id'].to_list() else 0)"
   ]
  },
  {
   "cell_type": "code",
   "execution_count": 26,
   "metadata": {},
   "outputs": [
    {
     "data": {
      "text/plain": [
       "0"
      ]
     },
     "execution_count": 26,
     "metadata": {},
     "output_type": "execute_result"
    }
   ],
   "source": [
    "halving_03_all_tokens[halving_03_all_tokens['centralized']==1].count().sum()"
   ]
  },
  {
   "cell_type": "code",
   "execution_count": 27,
   "metadata": {},
   "outputs": [
    {
     "data": {
      "text/html": [
       "<div>\n",
       "<style scoped>\n",
       "    .dataframe tbody tr th:only-of-type {\n",
       "        vertical-align: middle;\n",
       "    }\n",
       "\n",
       "    .dataframe tbody tr th {\n",
       "        vertical-align: top;\n",
       "    }\n",
       "\n",
       "    .dataframe thead th {\n",
       "        text-align: right;\n",
       "    }\n",
       "</style>\n",
       "<table border=\"1\" class=\"dataframe\">\n",
       "  <thead>\n",
       "    <tr style=\"text-align: right;\">\n",
       "      <th></th>\n",
       "      <th>id</th>\n",
       "      <th>symbol</th>\n",
       "      <th>name</th>\n",
       "      <th>class</th>\n",
       "      <th>centralized</th>\n",
       "    </tr>\n",
       "  </thead>\n",
       "  <tbody>\n",
       "    <tr>\n",
       "      <th>0</th>\n",
       "      <td>immutable-x</td>\n",
       "      <td>imx</td>\n",
       "      <td>Immutable</td>\n",
       "      <td>1</td>\n",
       "      <td>0</td>\n",
       "    </tr>\n",
       "    <tr>\n",
       "      <th>1</th>\n",
       "      <td>floki</td>\n",
       "      <td>floki</td>\n",
       "      <td>FLOKI</td>\n",
       "      <td>1</td>\n",
       "      <td>0</td>\n",
       "    </tr>\n",
       "    <tr>\n",
       "      <th>2</th>\n",
       "      <td>gala</td>\n",
       "      <td>gala</td>\n",
       "      <td>GALA</td>\n",
       "      <td>1</td>\n",
       "      <td>0</td>\n",
       "    </tr>\n",
       "    <tr>\n",
       "      <th>3</th>\n",
       "      <td>beam-2</td>\n",
       "      <td>beam</td>\n",
       "      <td>Beam</td>\n",
       "      <td>1</td>\n",
       "      <td>0</td>\n",
       "    </tr>\n",
       "    <tr>\n",
       "      <th>4</th>\n",
       "      <td>axie-infinity</td>\n",
       "      <td>axs</td>\n",
       "      <td>Axie Infinity</td>\n",
       "      <td>1</td>\n",
       "      <td>0</td>\n",
       "    </tr>\n",
       "  </tbody>\n",
       "</table>\n",
       "</div>"
      ],
      "text/plain": [
       "              id symbol           name  class  centralized\n",
       "0    immutable-x    imx      Immutable      1            0\n",
       "1          floki  floki          FLOKI      1            0\n",
       "2           gala   gala           GALA      1            0\n",
       "3         beam-2   beam           Beam      1            0\n",
       "4  axie-infinity    axs  Axie Infinity      1            0"
      ]
     },
     "execution_count": 27,
     "metadata": {},
     "output_type": "execute_result"
    }
   ],
   "source": [
    "halving_03_all_tokens.head()"
   ]
  },
  {
   "cell_type": "code",
   "execution_count": 29,
   "metadata": {},
   "outputs": [],
   "source": [
    "token_list_json = load_json(\"data/raw/\",\"coin_list.json\")\n",
    "halving_03_token_list = pd.DataFrame(token_list_json)"
   ]
  },
  {
   "cell_type": "code",
   "execution_count": 30,
   "metadata": {},
   "outputs": [
    {
     "data": {
      "text/html": [
       "<div>\n",
       "<style scoped>\n",
       "    .dataframe tbody tr th:only-of-type {\n",
       "        vertical-align: middle;\n",
       "    }\n",
       "\n",
       "    .dataframe tbody tr th {\n",
       "        vertical-align: top;\n",
       "    }\n",
       "\n",
       "    .dataframe thead th {\n",
       "        text-align: right;\n",
       "    }\n",
       "</style>\n",
       "<table border=\"1\" class=\"dataframe\">\n",
       "  <thead>\n",
       "    <tr style=\"text-align: right;\">\n",
       "      <th></th>\n",
       "      <th>id</th>\n",
       "      <th>symbol</th>\n",
       "      <th>name</th>\n",
       "      <th>platforms</th>\n",
       "    </tr>\n",
       "  </thead>\n",
       "  <tbody>\n",
       "    <tr>\n",
       "      <th>0</th>\n",
       "      <td>01coin</td>\n",
       "      <td>zoc</td>\n",
       "      <td>01coin</td>\n",
       "      <td>{}</td>\n",
       "    </tr>\n",
       "    <tr>\n",
       "      <th>1</th>\n",
       "      <td>0chain</td>\n",
       "      <td>zcn</td>\n",
       "      <td>Zus</td>\n",
       "      <td>{'ethereum': '0xb9ef770b6a5e12e45983c5d8054525...</td>\n",
       "    </tr>\n",
       "    <tr>\n",
       "      <th>2</th>\n",
       "      <td>0-knowledge-network</td>\n",
       "      <td>0kn</td>\n",
       "      <td>0 Knowledge Network</td>\n",
       "      <td>{'ethereum': '0x4594cffbfc09bc5e7ecf1c2e1c1e24...</td>\n",
       "    </tr>\n",
       "    <tr>\n",
       "      <th>3</th>\n",
       "      <td>0-mee</td>\n",
       "      <td>ome</td>\n",
       "      <td>O-MEE</td>\n",
       "      <td>{'ethereum': '0xbd89b8d708809e7022135313683663...</td>\n",
       "    </tr>\n",
       "    <tr>\n",
       "      <th>4</th>\n",
       "      <td>0vix-protocol</td>\n",
       "      <td>vix</td>\n",
       "      <td>0VIX Protocol</td>\n",
       "      <td>{}</td>\n",
       "    </tr>\n",
       "  </tbody>\n",
       "</table>\n",
       "</div>"
      ],
      "text/plain": [
       "                    id symbol                 name  \\\n",
       "0               01coin    zoc               01coin   \n",
       "1               0chain    zcn                  Zus   \n",
       "2  0-knowledge-network    0kn  0 Knowledge Network   \n",
       "3                0-mee    ome                O-MEE   \n",
       "4        0vix-protocol    vix        0VIX Protocol   \n",
       "\n",
       "                                           platforms  \n",
       "0                                                 {}  \n",
       "1  {'ethereum': '0xb9ef770b6a5e12e45983c5d8054525...  \n",
       "2  {'ethereum': '0x4594cffbfc09bc5e7ecf1c2e1c1e24...  \n",
       "3  {'ethereum': '0xbd89b8d708809e7022135313683663...  \n",
       "4                                                 {}  "
      ]
     },
     "execution_count": 30,
     "metadata": {},
     "output_type": "execute_result"
    }
   ],
   "source": [
    "halving_03_token_list.head()"
   ]
  },
  {
   "cell_type": "code",
   "execution_count": 31,
   "metadata": {},
   "outputs": [],
   "source": [
    "halving_03_token_list['platforms']=halving_03_token_list['platforms'].apply(lambda x: len(x.keys()))"
   ]
  },
  {
   "cell_type": "code",
   "execution_count": 32,
   "metadata": {},
   "outputs": [
    {
     "data": {
      "text/html": [
       "<div>\n",
       "<style scoped>\n",
       "    .dataframe tbody tr th:only-of-type {\n",
       "        vertical-align: middle;\n",
       "    }\n",
       "\n",
       "    .dataframe tbody tr th {\n",
       "        vertical-align: top;\n",
       "    }\n",
       "\n",
       "    .dataframe thead th {\n",
       "        text-align: right;\n",
       "    }\n",
       "</style>\n",
       "<table border=\"1\" class=\"dataframe\">\n",
       "  <thead>\n",
       "    <tr style=\"text-align: right;\">\n",
       "      <th></th>\n",
       "      <th>id</th>\n",
       "      <th>symbol</th>\n",
       "      <th>name</th>\n",
       "      <th>platforms</th>\n",
       "    </tr>\n",
       "  </thead>\n",
       "  <tbody>\n",
       "    <tr>\n",
       "      <th>0</th>\n",
       "      <td>01coin</td>\n",
       "      <td>zoc</td>\n",
       "      <td>01coin</td>\n",
       "      <td>0</td>\n",
       "    </tr>\n",
       "    <tr>\n",
       "      <th>1</th>\n",
       "      <td>0chain</td>\n",
       "      <td>zcn</td>\n",
       "      <td>Zus</td>\n",
       "      <td>2</td>\n",
       "    </tr>\n",
       "    <tr>\n",
       "      <th>2</th>\n",
       "      <td>0-knowledge-network</td>\n",
       "      <td>0kn</td>\n",
       "      <td>0 Knowledge Network</td>\n",
       "      <td>1</td>\n",
       "    </tr>\n",
       "    <tr>\n",
       "      <th>3</th>\n",
       "      <td>0-mee</td>\n",
       "      <td>ome</td>\n",
       "      <td>O-MEE</td>\n",
       "      <td>1</td>\n",
       "    </tr>\n",
       "    <tr>\n",
       "      <th>4</th>\n",
       "      <td>0vix-protocol</td>\n",
       "      <td>vix</td>\n",
       "      <td>0VIX Protocol</td>\n",
       "      <td>0</td>\n",
       "    </tr>\n",
       "  </tbody>\n",
       "</table>\n",
       "</div>"
      ],
      "text/plain": [
       "                    id symbol                 name  platforms\n",
       "0               01coin    zoc               01coin          0\n",
       "1               0chain    zcn                  Zus          2\n",
       "2  0-knowledge-network    0kn  0 Knowledge Network          1\n",
       "3                0-mee    ome                O-MEE          1\n",
       "4        0vix-protocol    vix        0VIX Protocol          0"
      ]
     },
     "execution_count": 32,
     "metadata": {},
     "output_type": "execute_result"
    }
   ],
   "source": [
    "halving_03_token_list.head()"
   ]
  },
  {
   "cell_type": "code",
   "execution_count": 33,
   "metadata": {},
   "outputs": [],
   "source": [
    "## drop where platforms is 0\n",
    "halving_03_token_list = halving_03_token_list[halving_03_token_list['platforms']>0]"
   ]
  },
  {
   "cell_type": "code",
   "execution_count": 34,
   "metadata": {},
   "outputs": [
    {
     "data": {
      "text/html": [
       "<div>\n",
       "<style scoped>\n",
       "    .dataframe tbody tr th:only-of-type {\n",
       "        vertical-align: middle;\n",
       "    }\n",
       "\n",
       "    .dataframe tbody tr th {\n",
       "        vertical-align: top;\n",
       "    }\n",
       "\n",
       "    .dataframe thead th {\n",
       "        text-align: right;\n",
       "    }\n",
       "</style>\n",
       "<table border=\"1\" class=\"dataframe\">\n",
       "  <thead>\n",
       "    <tr style=\"text-align: right;\">\n",
       "      <th></th>\n",
       "      <th>id</th>\n",
       "      <th>symbol</th>\n",
       "      <th>name</th>\n",
       "      <th>platforms</th>\n",
       "    </tr>\n",
       "  </thead>\n",
       "  <tbody>\n",
       "    <tr>\n",
       "      <th>1</th>\n",
       "      <td>0chain</td>\n",
       "      <td>zcn</td>\n",
       "      <td>Zus</td>\n",
       "      <td>2</td>\n",
       "    </tr>\n",
       "    <tr>\n",
       "      <th>2</th>\n",
       "      <td>0-knowledge-network</td>\n",
       "      <td>0kn</td>\n",
       "      <td>0 Knowledge Network</td>\n",
       "      <td>1</td>\n",
       "    </tr>\n",
       "    <tr>\n",
       "      <th>3</th>\n",
       "      <td>0-mee</td>\n",
       "      <td>ome</td>\n",
       "      <td>O-MEE</td>\n",
       "      <td>1</td>\n",
       "    </tr>\n",
       "    <tr>\n",
       "      <th>5</th>\n",
       "      <td>0vm</td>\n",
       "      <td>zerovm</td>\n",
       "      <td>0VM</td>\n",
       "      <td>1</td>\n",
       "    </tr>\n",
       "    <tr>\n",
       "      <th>6</th>\n",
       "      <td>0x</td>\n",
       "      <td>zrx</td>\n",
       "      <td>0x Protocol</td>\n",
       "      <td>4</td>\n",
       "    </tr>\n",
       "  </tbody>\n",
       "</table>\n",
       "</div>"
      ],
      "text/plain": [
       "                    id  symbol                 name  platforms\n",
       "1               0chain     zcn                  Zus          2\n",
       "2  0-knowledge-network     0kn  0 Knowledge Network          1\n",
       "3                0-mee     ome                O-MEE          1\n",
       "5                  0vm  zerovm                  0VM          1\n",
       "6                   0x     zrx          0x Protocol          4"
      ]
     },
     "execution_count": 34,
     "metadata": {},
     "output_type": "execute_result"
    }
   ],
   "source": [
    "halving_03_token_list.head()"
   ]
  },
  {
   "cell_type": "code",
   "execution_count": 35,
   "metadata": {},
   "outputs": [],
   "source": [
    "## if id is in token list multiplatforms true and is more than one platform\n",
    "halving_03_all_tokens['isMultiplatforms']=halving_03_all_tokens['id'].apply(lambda x: 1 if x in halving_03_token_list['id'].to_list() \n",
    "                                                          and halving_04_token_list[halving_04_token_list['id']==x]['platforms'].values[0]>1 else 0)"
   ]
  },
  {
   "cell_type": "code",
   "execution_count": 36,
   "metadata": {},
   "outputs": [
    {
     "data": {
      "text/html": [
       "<div>\n",
       "<style scoped>\n",
       "    .dataframe tbody tr th:only-of-type {\n",
       "        vertical-align: middle;\n",
       "    }\n",
       "\n",
       "    .dataframe tbody tr th {\n",
       "        vertical-align: top;\n",
       "    }\n",
       "\n",
       "    .dataframe thead th {\n",
       "        text-align: right;\n",
       "    }\n",
       "</style>\n",
       "<table border=\"1\" class=\"dataframe\">\n",
       "  <thead>\n",
       "    <tr style=\"text-align: right;\">\n",
       "      <th></th>\n",
       "      <th>id</th>\n",
       "      <th>symbol</th>\n",
       "      <th>name</th>\n",
       "      <th>class</th>\n",
       "      <th>centralized</th>\n",
       "      <th>isMultiplatforms</th>\n",
       "    </tr>\n",
       "  </thead>\n",
       "  <tbody>\n",
       "    <tr>\n",
       "      <th>0</th>\n",
       "      <td>immutable-x</td>\n",
       "      <td>imx</td>\n",
       "      <td>Immutable</td>\n",
       "      <td>1</td>\n",
       "      <td>0</td>\n",
       "      <td>0</td>\n",
       "    </tr>\n",
       "    <tr>\n",
       "      <th>1</th>\n",
       "      <td>floki</td>\n",
       "      <td>floki</td>\n",
       "      <td>FLOKI</td>\n",
       "      <td>1</td>\n",
       "      <td>0</td>\n",
       "      <td>1</td>\n",
       "    </tr>\n",
       "    <tr>\n",
       "      <th>2</th>\n",
       "      <td>gala</td>\n",
       "      <td>gala</td>\n",
       "      <td>GALA</td>\n",
       "      <td>1</td>\n",
       "      <td>0</td>\n",
       "      <td>0</td>\n",
       "    </tr>\n",
       "    <tr>\n",
       "      <th>3</th>\n",
       "      <td>beam-2</td>\n",
       "      <td>beam</td>\n",
       "      <td>Beam</td>\n",
       "      <td>1</td>\n",
       "      <td>0</td>\n",
       "      <td>1</td>\n",
       "    </tr>\n",
       "    <tr>\n",
       "      <th>4</th>\n",
       "      <td>axie-infinity</td>\n",
       "      <td>axs</td>\n",
       "      <td>Axie Infinity</td>\n",
       "      <td>1</td>\n",
       "      <td>0</td>\n",
       "      <td>1</td>\n",
       "    </tr>\n",
       "  </tbody>\n",
       "</table>\n",
       "</div>"
      ],
      "text/plain": [
       "              id symbol           name  class  centralized  isMultiplatforms\n",
       "0    immutable-x    imx      Immutable      1            0                 0\n",
       "1          floki  floki          FLOKI      1            0                 1\n",
       "2           gala   gala           GALA      1            0                 0\n",
       "3         beam-2   beam           Beam      1            0                 1\n",
       "4  axie-infinity    axs  Axie Infinity      1            0                 1"
      ]
     },
     "execution_count": 36,
     "metadata": {},
     "output_type": "execute_result"
    }
   ],
   "source": [
    "halving_03_all_tokens.head()"
   ]
  },
  {
   "cell_type": "code",
   "execution_count": 37,
   "metadata": {},
   "outputs": [],
   "source": [
    "halving_03_all_tokens.to_csv(\"data/clean/halving_03_all_tokens_v2.csv\",index=False)"
   ]
  },
  {
   "cell_type": "markdown",
   "metadata": {},
   "source": [
    "### join all memes coins in one csv"
   ]
  },
  {
   "cell_type": "code",
   "execution_count": 55,
   "metadata": {},
   "outputs": [],
   "source": [
    "data_folder = Path(\"data/raw/coin_list_with_market_data/gaming/\")\n",
    "files = [file for file in data_folder.iterdir() if file.is_file()]\n",
    "halving_03_gaming = pd.DataFrame()\n",
    "for file in files:\n",
    "    halving_03 = pd.read_json(file)\n",
    "    halving_03_gaming = pd.concat([halving_03_gaming,halving_03])\n",
    "halving_03_gaming.drop_duplicates(subset=['id'],inplace=True)\n",
    "halving_03_gaming = halving_03_gaming[['id',\"symbol\",\"name\",'current_price','market_cap','market_cap_rank','fully_diluted_valuation','total_volume','high_24h','low_24h','price_change_24h','price_change_percentage_24h','market_cap_change_24h','market_cap_change_percentage_24h','circulating_supply','total_supply','max_supply']]\n",
    "halving_03_gaming.to_csv(\"data/clean/halving_03_gaming.csv\",index=False)"
   ]
  },
  {
   "cell_type": "code",
   "execution_count": 56,
   "metadata": {},
   "outputs": [],
   "source": [
    "data_folder = Path(\"data/raw/coin_list_with_market_data/memes/\")\n",
    "files = [file for file in data_folder.iterdir() if file.is_file()]\n",
    "halving_03_memes = pd.DataFrame()\n"
   ]
  },
  {
   "cell_type": "code",
   "execution_count": 57,
   "metadata": {},
   "outputs": [],
   "source": [
    "for file in files:\n",
    "    json_file=load_json(\"data/raw/coin_list_with_market_data/memes/\",file.name)\n",
    "    halving_03 = pd.DataFrame(json_file)\n",
    "    halving_03_memes = pd.concat([halving_03_gaming,halving_03])\n",
    "halving_03_memes.drop_duplicates(subset=['id'],inplace=True)\n",
    "halving_03_memes = halving_03_memes[['id',\"symbol\",\"name\",'current_price','market_cap','market_cap_rank','fully_diluted_valuation','total_volume','high_24h','low_24h','price_change_24h','price_change_percentage_24h','market_cap_change_24h','market_cap_change_percentage_24h','circulating_supply','total_supply','max_supply']]\n",
    "halving_03_memes.to_csv(\"data/clean/halving_03_memes.csv\",index=False)"
   ]
  },
  {
   "cell_type": "code",
   "execution_count": 58,
   "metadata": {},
   "outputs": [],
   "source": [
    "data_folder = Path(\"data/raw/coin_list_with_market_data/AI/\")\n",
    "files = [file for file in data_folder.iterdir() if file.is_file()]\n",
    "halving_03_ai = pd.DataFrame()\n",
    "for file in files:\n",
    "    halving_03 = pd.read_json(file)\n",
    "    halving_03_ai = pd.concat([halving_03_ai,halving_03])\n",
    "halving_03_ai.drop_duplicates(subset=['id'],inplace=True)\n",
    "halving_03_ai = halving_03_ai[['id',\"symbol\",\"name\",'current_price','market_cap','market_cap_rank','fully_diluted_valuation','total_volume','high_24h','low_24h','price_change_24h','price_change_percentage_24h','market_cap_change_24h','market_cap_change_percentage_24h','circulating_supply','total_supply','max_supply']]\n",
    "halving_03_ai.to_csv(\"data/clean/halving_03_ai.csv\",index=False)"
   ]
  },
  {
   "cell_type": "code",
   "execution_count": 59,
   "metadata": {},
   "outputs": [],
   "source": [
    "data_folder = Path(\"data/raw/coin_list_with_market_data/rwa/\")\n",
    "files = [file for file in data_folder.iterdir() if file.is_file()]\n",
    "halving_03_rwa = pd.DataFrame()\n",
    "for file in files:\n",
    "    halving_03 = pd.read_json(file)\n",
    "    halving_03_rwa = pd.concat([halving_03_rwa,halving_03])\n",
    "halving_03_rwa.drop_duplicates(subset=['id'],inplace=True)\n",
    "halving_03_rwa = halving_03_rwa[['id',\"symbol\",\"name\",'current_price','market_cap','market_cap_rank','fully_diluted_valuation','total_volume','high_24h','low_24h','price_change_24h','price_change_percentage_24h','market_cap_change_24h','market_cap_change_percentage_24h','circulating_supply','total_supply','max_supply']]\n",
    "halving_03_rwa.to_csv(\"data/clean/halving_03_rwa.csv\",index=False)"
   ]
  },
  {
   "cell_type": "code",
   "execution_count": 122,
   "metadata": {},
   "outputs": [],
   "source": [
    "halving_03_all_tokens = pd.read_csv(\"data/clean/halving_03_all_tokens_v2.csv\")"
   ]
  },
  {
   "cell_type": "code",
   "execution_count": 123,
   "metadata": {},
   "outputs": [],
   "source": [
    "halving_03_all_tokens.drop_duplicates(subset=['id'],inplace=True)"
   ]
  },
  {
   "cell_type": "code",
   "execution_count": 124,
   "metadata": {},
   "outputs": [],
   "source": [
    "halving_03_gaming = pd.read_csv(\"data/clean/halving_03_gaming.csv\")\n",
    "halving_03_memes = pd.read_csv(\"data/clean/halving_03_memes.csv\")\n",
    "halving_03_ai = pd.read_csv(\"data/clean/halving_03_ai.csv\")\n",
    "halving_03_rwa = pd.read_csv(\"data/clean/halving_03_rwa.csv\")"
   ]
  },
  {
   "cell_type": "code",
   "execution_count": 125,
   "metadata": {},
   "outputs": [],
   "source": [
    "halving_03_gaming = halving_03_gaming.rename(columns=lambda x: x + '_gaming' if x not in ['id'] else x)\n",
    "halving_03_ai = halving_03_ai.rename(columns=lambda x: x + '_ai' if x not in ['id'] else x)\n",
    "halving_03_memes = halving_03_memes.rename(columns=lambda x: x + '_memes' if x not in ['id'] else x)\n",
    "halving_03_rwa = halving_03_rwa.rename(columns=lambda x: x + '_rwa' if x not in ['id'] else x)\n"
   ]
  },
  {
   "cell_type": "code",
   "execution_count": 126,
   "metadata": {},
   "outputs": [],
   "source": [
    "halving_03_all_tokens = pd.merge(halving_03_all_tokens,halving_03_gaming,on='id',how='left')\n",
    "halving_03_all_tokens = pd.merge(halving_03_all_tokens,halving_03_ai,on='id',how='left')\n",
    "halving_03_all_tokens = pd.merge(halving_03_all_tokens,halving_03_memes,on='id',how='left')\n",
    "halving_03_all_tokens = pd.merge(halving_03_all_tokens,halving_03_rwa,on='id',how='left')\n"
   ]
  },
  {
   "cell_type": "code",
   "execution_count": 127,
   "metadata": {},
   "outputs": [
    {
     "data": {
      "text/html": [
       "<div>\n",
       "<style scoped>\n",
       "    .dataframe tbody tr th:only-of-type {\n",
       "        vertical-align: middle;\n",
       "    }\n",
       "\n",
       "    .dataframe tbody tr th {\n",
       "        vertical-align: top;\n",
       "    }\n",
       "\n",
       "    .dataframe thead th {\n",
       "        text-align: right;\n",
       "    }\n",
       "</style>\n",
       "<table border=\"1\" class=\"dataframe\">\n",
       "  <thead>\n",
       "    <tr style=\"text-align: right;\">\n",
       "      <th></th>\n",
       "      <th>id</th>\n",
       "      <th>symbol</th>\n",
       "      <th>name</th>\n",
       "      <th>class</th>\n",
       "      <th>centralized</th>\n",
       "      <th>isMultiplatforms</th>\n",
       "      <th>symbol_gaming</th>\n",
       "      <th>name_gaming</th>\n",
       "      <th>current_price_gaming</th>\n",
       "      <th>market_cap_gaming</th>\n",
       "      <th>...</th>\n",
       "      <th>total_volume_rwa</th>\n",
       "      <th>high_24h_rwa</th>\n",
       "      <th>low_24h_rwa</th>\n",
       "      <th>price_change_24h_rwa</th>\n",
       "      <th>price_change_percentage_24h_rwa</th>\n",
       "      <th>market_cap_change_24h_rwa</th>\n",
       "      <th>market_cap_change_percentage_24h_rwa</th>\n",
       "      <th>circulating_supply_rwa</th>\n",
       "      <th>total_supply_rwa</th>\n",
       "      <th>max_supply_rwa</th>\n",
       "    </tr>\n",
       "  </thead>\n",
       "  <tbody>\n",
       "    <tr>\n",
       "      <th>0</th>\n",
       "      <td>immutable-x</td>\n",
       "      <td>imx</td>\n",
       "      <td>Immutable</td>\n",
       "      <td>1</td>\n",
       "      <td>0</td>\n",
       "      <td>0</td>\n",
       "      <td>imx</td>\n",
       "      <td>Immutable</td>\n",
       "      <td>2.177597</td>\n",
       "      <td>3.178447e+09</td>\n",
       "      <td>...</td>\n",
       "      <td>NaN</td>\n",
       "      <td>NaN</td>\n",
       "      <td>NaN</td>\n",
       "      <td>NaN</td>\n",
       "      <td>NaN</td>\n",
       "      <td>NaN</td>\n",
       "      <td>NaN</td>\n",
       "      <td>NaN</td>\n",
       "      <td>NaN</td>\n",
       "      <td>NaN</td>\n",
       "    </tr>\n",
       "    <tr>\n",
       "      <th>1</th>\n",
       "      <td>floki</td>\n",
       "      <td>floki</td>\n",
       "      <td>FLOKI</td>\n",
       "      <td>1</td>\n",
       "      <td>0</td>\n",
       "      <td>1</td>\n",
       "      <td>floki</td>\n",
       "      <td>FLOKI</td>\n",
       "      <td>0.000184</td>\n",
       "      <td>1.791909e+09</td>\n",
       "      <td>...</td>\n",
       "      <td>NaN</td>\n",
       "      <td>NaN</td>\n",
       "      <td>NaN</td>\n",
       "      <td>NaN</td>\n",
       "      <td>NaN</td>\n",
       "      <td>NaN</td>\n",
       "      <td>NaN</td>\n",
       "      <td>NaN</td>\n",
       "      <td>NaN</td>\n",
       "      <td>NaN</td>\n",
       "    </tr>\n",
       "    <tr>\n",
       "      <th>2</th>\n",
       "      <td>gala</td>\n",
       "      <td>gala</td>\n",
       "      <td>GALA</td>\n",
       "      <td>1</td>\n",
       "      <td>0</td>\n",
       "      <td>0</td>\n",
       "      <td>gala</td>\n",
       "      <td>GALA</td>\n",
       "      <td>0.046156</td>\n",
       "      <td>1.615799e+09</td>\n",
       "      <td>...</td>\n",
       "      <td>NaN</td>\n",
       "      <td>NaN</td>\n",
       "      <td>NaN</td>\n",
       "      <td>NaN</td>\n",
       "      <td>NaN</td>\n",
       "      <td>NaN</td>\n",
       "      <td>NaN</td>\n",
       "      <td>NaN</td>\n",
       "      <td>NaN</td>\n",
       "      <td>NaN</td>\n",
       "    </tr>\n",
       "    <tr>\n",
       "      <th>3</th>\n",
       "      <td>beam-2</td>\n",
       "      <td>beam</td>\n",
       "      <td>Beam</td>\n",
       "      <td>1</td>\n",
       "      <td>0</td>\n",
       "      <td>1</td>\n",
       "      <td>beam</td>\n",
       "      <td>Beam</td>\n",
       "      <td>0.026762</td>\n",
       "      <td>1.424825e+09</td>\n",
       "      <td>...</td>\n",
       "      <td>NaN</td>\n",
       "      <td>NaN</td>\n",
       "      <td>NaN</td>\n",
       "      <td>NaN</td>\n",
       "      <td>NaN</td>\n",
       "      <td>NaN</td>\n",
       "      <td>NaN</td>\n",
       "      <td>NaN</td>\n",
       "      <td>NaN</td>\n",
       "      <td>NaN</td>\n",
       "    </tr>\n",
       "    <tr>\n",
       "      <th>4</th>\n",
       "      <td>axie-infinity</td>\n",
       "      <td>axs</td>\n",
       "      <td>Axie Infinity</td>\n",
       "      <td>1</td>\n",
       "      <td>0</td>\n",
       "      <td>1</td>\n",
       "      <td>axs</td>\n",
       "      <td>Axie Infinity</td>\n",
       "      <td>7.421892</td>\n",
       "      <td>1.070006e+09</td>\n",
       "      <td>...</td>\n",
       "      <td>NaN</td>\n",
       "      <td>NaN</td>\n",
       "      <td>NaN</td>\n",
       "      <td>NaN</td>\n",
       "      <td>NaN</td>\n",
       "      <td>NaN</td>\n",
       "      <td>NaN</td>\n",
       "      <td>NaN</td>\n",
       "      <td>NaN</td>\n",
       "      <td>NaN</td>\n",
       "    </tr>\n",
       "  </tbody>\n",
       "</table>\n",
       "<p>5 rows × 70 columns</p>\n",
       "</div>"
      ],
      "text/plain": [
       "              id symbol           name  class  centralized  isMultiplatforms  \\\n",
       "0    immutable-x    imx      Immutable      1            0                 0   \n",
       "1          floki  floki          FLOKI      1            0                 1   \n",
       "2           gala   gala           GALA      1            0                 0   \n",
       "3         beam-2   beam           Beam      1            0                 1   \n",
       "4  axie-infinity    axs  Axie Infinity      1            0                 1   \n",
       "\n",
       "  symbol_gaming    name_gaming  current_price_gaming  market_cap_gaming  ...  \\\n",
       "0           imx      Immutable              2.177597       3.178447e+09  ...   \n",
       "1         floki          FLOKI              0.000184       1.791909e+09  ...   \n",
       "2          gala           GALA              0.046156       1.615799e+09  ...   \n",
       "3          beam           Beam              0.026762       1.424825e+09  ...   \n",
       "4           axs  Axie Infinity              7.421892       1.070006e+09  ...   \n",
       "\n",
       "   total_volume_rwa  high_24h_rwa  low_24h_rwa  price_change_24h_rwa  \\\n",
       "0               NaN           NaN          NaN                   NaN   \n",
       "1               NaN           NaN          NaN                   NaN   \n",
       "2               NaN           NaN          NaN                   NaN   \n",
       "3               NaN           NaN          NaN                   NaN   \n",
       "4               NaN           NaN          NaN                   NaN   \n",
       "\n",
       "   price_change_percentage_24h_rwa  market_cap_change_24h_rwa  \\\n",
       "0                              NaN                        NaN   \n",
       "1                              NaN                        NaN   \n",
       "2                              NaN                        NaN   \n",
       "3                              NaN                        NaN   \n",
       "4                              NaN                        NaN   \n",
       "\n",
       "   market_cap_change_percentage_24h_rwa  circulating_supply_rwa  \\\n",
       "0                                   NaN                     NaN   \n",
       "1                                   NaN                     NaN   \n",
       "2                                   NaN                     NaN   \n",
       "3                                   NaN                     NaN   \n",
       "4                                   NaN                     NaN   \n",
       "\n",
       "   total_supply_rwa  max_supply_rwa  \n",
       "0               NaN             NaN  \n",
       "1               NaN             NaN  \n",
       "2               NaN             NaN  \n",
       "3               NaN             NaN  \n",
       "4               NaN             NaN  \n",
       "\n",
       "[5 rows x 70 columns]"
      ]
     },
     "execution_count": 127,
     "metadata": {},
     "output_type": "execute_result"
    }
   ],
   "source": [
    "halving_03_all_tokens.head()"
   ]
  },
  {
   "cell_type": "code",
   "execution_count": 128,
   "metadata": {},
   "outputs": [],
   "source": [
    "#change nana for 0 \n",
    "halving_03_all_tokens.fillna(0,inplace=True)"
   ]
  },
  {
   "cell_type": "code",
   "execution_count": 129,
   "metadata": {},
   "outputs": [
    {
     "data": {
      "text/html": [
       "<div>\n",
       "<style scoped>\n",
       "    .dataframe tbody tr th:only-of-type {\n",
       "        vertical-align: middle;\n",
       "    }\n",
       "\n",
       "    .dataframe tbody tr th {\n",
       "        vertical-align: top;\n",
       "    }\n",
       "\n",
       "    .dataframe thead th {\n",
       "        text-align: right;\n",
       "    }\n",
       "</style>\n",
       "<table border=\"1\" class=\"dataframe\">\n",
       "  <thead>\n",
       "    <tr style=\"text-align: right;\">\n",
       "      <th></th>\n",
       "      <th>id</th>\n",
       "      <th>symbol</th>\n",
       "      <th>name</th>\n",
       "      <th>class</th>\n",
       "      <th>centralized</th>\n",
       "      <th>isMultiplatforms</th>\n",
       "      <th>symbol_gaming</th>\n",
       "      <th>name_gaming</th>\n",
       "      <th>current_price_gaming</th>\n",
       "      <th>market_cap_gaming</th>\n",
       "      <th>...</th>\n",
       "      <th>total_volume_rwa</th>\n",
       "      <th>high_24h_rwa</th>\n",
       "      <th>low_24h_rwa</th>\n",
       "      <th>price_change_24h_rwa</th>\n",
       "      <th>price_change_percentage_24h_rwa</th>\n",
       "      <th>market_cap_change_24h_rwa</th>\n",
       "      <th>market_cap_change_percentage_24h_rwa</th>\n",
       "      <th>circulating_supply_rwa</th>\n",
       "      <th>total_supply_rwa</th>\n",
       "      <th>max_supply_rwa</th>\n",
       "    </tr>\n",
       "  </thead>\n",
       "  <tbody>\n",
       "    <tr>\n",
       "      <th>0</th>\n",
       "      <td>immutable-x</td>\n",
       "      <td>imx</td>\n",
       "      <td>Immutable</td>\n",
       "      <td>1</td>\n",
       "      <td>0</td>\n",
       "      <td>0</td>\n",
       "      <td>imx</td>\n",
       "      <td>Immutable</td>\n",
       "      <td>2.177597</td>\n",
       "      <td>3.178447e+09</td>\n",
       "      <td>...</td>\n",
       "      <td>0.0</td>\n",
       "      <td>0.0</td>\n",
       "      <td>0.0</td>\n",
       "      <td>0.0</td>\n",
       "      <td>0.0</td>\n",
       "      <td>0.0</td>\n",
       "      <td>0.0</td>\n",
       "      <td>0.0</td>\n",
       "      <td>0.0</td>\n",
       "      <td>0.0</td>\n",
       "    </tr>\n",
       "    <tr>\n",
       "      <th>1</th>\n",
       "      <td>floki</td>\n",
       "      <td>floki</td>\n",
       "      <td>FLOKI</td>\n",
       "      <td>1</td>\n",
       "      <td>0</td>\n",
       "      <td>1</td>\n",
       "      <td>floki</td>\n",
       "      <td>FLOKI</td>\n",
       "      <td>0.000184</td>\n",
       "      <td>1.791909e+09</td>\n",
       "      <td>...</td>\n",
       "      <td>0.0</td>\n",
       "      <td>0.0</td>\n",
       "      <td>0.0</td>\n",
       "      <td>0.0</td>\n",
       "      <td>0.0</td>\n",
       "      <td>0.0</td>\n",
       "      <td>0.0</td>\n",
       "      <td>0.0</td>\n",
       "      <td>0.0</td>\n",
       "      <td>0.0</td>\n",
       "    </tr>\n",
       "    <tr>\n",
       "      <th>2</th>\n",
       "      <td>gala</td>\n",
       "      <td>gala</td>\n",
       "      <td>GALA</td>\n",
       "      <td>1</td>\n",
       "      <td>0</td>\n",
       "      <td>0</td>\n",
       "      <td>gala</td>\n",
       "      <td>GALA</td>\n",
       "      <td>0.046156</td>\n",
       "      <td>1.615799e+09</td>\n",
       "      <td>...</td>\n",
       "      <td>0.0</td>\n",
       "      <td>0.0</td>\n",
       "      <td>0.0</td>\n",
       "      <td>0.0</td>\n",
       "      <td>0.0</td>\n",
       "      <td>0.0</td>\n",
       "      <td>0.0</td>\n",
       "      <td>0.0</td>\n",
       "      <td>0.0</td>\n",
       "      <td>0.0</td>\n",
       "    </tr>\n",
       "    <tr>\n",
       "      <th>3</th>\n",
       "      <td>beam-2</td>\n",
       "      <td>beam</td>\n",
       "      <td>Beam</td>\n",
       "      <td>1</td>\n",
       "      <td>0</td>\n",
       "      <td>1</td>\n",
       "      <td>beam</td>\n",
       "      <td>Beam</td>\n",
       "      <td>0.026762</td>\n",
       "      <td>1.424825e+09</td>\n",
       "      <td>...</td>\n",
       "      <td>0.0</td>\n",
       "      <td>0.0</td>\n",
       "      <td>0.0</td>\n",
       "      <td>0.0</td>\n",
       "      <td>0.0</td>\n",
       "      <td>0.0</td>\n",
       "      <td>0.0</td>\n",
       "      <td>0.0</td>\n",
       "      <td>0.0</td>\n",
       "      <td>0.0</td>\n",
       "    </tr>\n",
       "    <tr>\n",
       "      <th>4</th>\n",
       "      <td>axie-infinity</td>\n",
       "      <td>axs</td>\n",
       "      <td>Axie Infinity</td>\n",
       "      <td>1</td>\n",
       "      <td>0</td>\n",
       "      <td>1</td>\n",
       "      <td>axs</td>\n",
       "      <td>Axie Infinity</td>\n",
       "      <td>7.421892</td>\n",
       "      <td>1.070006e+09</td>\n",
       "      <td>...</td>\n",
       "      <td>0.0</td>\n",
       "      <td>0.0</td>\n",
       "      <td>0.0</td>\n",
       "      <td>0.0</td>\n",
       "      <td>0.0</td>\n",
       "      <td>0.0</td>\n",
       "      <td>0.0</td>\n",
       "      <td>0.0</td>\n",
       "      <td>0.0</td>\n",
       "      <td>0.0</td>\n",
       "    </tr>\n",
       "  </tbody>\n",
       "</table>\n",
       "<p>5 rows × 70 columns</p>\n",
       "</div>"
      ],
      "text/plain": [
       "              id symbol           name  class  centralized  isMultiplatforms  \\\n",
       "0    immutable-x    imx      Immutable      1            0                 0   \n",
       "1          floki  floki          FLOKI      1            0                 1   \n",
       "2           gala   gala           GALA      1            0                 0   \n",
       "3         beam-2   beam           Beam      1            0                 1   \n",
       "4  axie-infinity    axs  Axie Infinity      1            0                 1   \n",
       "\n",
       "  symbol_gaming    name_gaming  current_price_gaming  market_cap_gaming  ...  \\\n",
       "0           imx      Immutable              2.177597       3.178447e+09  ...   \n",
       "1         floki          FLOKI              0.000184       1.791909e+09  ...   \n",
       "2          gala           GALA              0.046156       1.615799e+09  ...   \n",
       "3          beam           Beam              0.026762       1.424825e+09  ...   \n",
       "4           axs  Axie Infinity              7.421892       1.070006e+09  ...   \n",
       "\n",
       "   total_volume_rwa  high_24h_rwa  low_24h_rwa  price_change_24h_rwa  \\\n",
       "0               0.0           0.0          0.0                   0.0   \n",
       "1               0.0           0.0          0.0                   0.0   \n",
       "2               0.0           0.0          0.0                   0.0   \n",
       "3               0.0           0.0          0.0                   0.0   \n",
       "4               0.0           0.0          0.0                   0.0   \n",
       "\n",
       "   price_change_percentage_24h_rwa  market_cap_change_24h_rwa  \\\n",
       "0                              0.0                        0.0   \n",
       "1                              0.0                        0.0   \n",
       "2                              0.0                        0.0   \n",
       "3                              0.0                        0.0   \n",
       "4                              0.0                        0.0   \n",
       "\n",
       "   market_cap_change_percentage_24h_rwa  circulating_supply_rwa  \\\n",
       "0                                   0.0                     0.0   \n",
       "1                                   0.0                     0.0   \n",
       "2                                   0.0                     0.0   \n",
       "3                                   0.0                     0.0   \n",
       "4                                   0.0                     0.0   \n",
       "\n",
       "   total_supply_rwa  max_supply_rwa  \n",
       "0               0.0             0.0  \n",
       "1               0.0             0.0  \n",
       "2               0.0             0.0  \n",
       "3               0.0             0.0  \n",
       "4               0.0             0.0  \n",
       "\n",
       "[5 rows x 70 columns]"
      ]
     },
     "execution_count": 129,
     "metadata": {},
     "output_type": "execute_result"
    }
   ],
   "source": [
    "halving_03_all_tokens.head()"
   ]
  },
  {
   "cell_type": "code",
   "execution_count": 130,
   "metadata": {},
   "outputs": [],
   "source": [
    "halving_03_all_tokens.drop(columns=['symbol_gaming','name_gaming'],inplace=True)\n",
    "halving_03_all_tokens.drop(columns=['symbol_ai','name_ai'],inplace=True)\n",
    "halving_03_all_tokens.drop(columns=['symbol_memes','name_memes'],inplace=True)\n",
    "halving_03_all_tokens.drop(columns=['symbol_rwa','name_rwa'],inplace=True)"
   ]
  },
  {
   "cell_type": "code",
   "execution_count": 131,
   "metadata": {},
   "outputs": [],
   "source": [
    "halving_03_all_tokens['market_cap'] = halving_03_all_tokens['market_cap_gaming']+halving_03_all_tokens['market_cap_ai']+halving_03_all_tokens['market_cap_memes']+halving_03_all_tokens['market_cap_rwa']\n",
    "halving_03_all_tokens.drop(columns=['market_cap_gaming','market_cap_ai','market_cap_memes','market_cap_rwa'],inplace=True)"
   ]
  },
  {
   "cell_type": "code",
   "execution_count": 132,
   "metadata": {},
   "outputs": [],
   "source": [
    "halving_03_all_tokens['total_volume'] = halving_03_all_tokens['total_volume_gaming']+halving_03_all_tokens['total_volume_ai']+halving_03_all_tokens['total_volume_memes']+halving_03_all_tokens['total_volume_rwa']\n",
    "halving_03_all_tokens.drop(columns=['total_volume_gaming','total_volume_ai','total_volume_memes','total_volume_rwa'],inplace=True)"
   ]
  },
  {
   "cell_type": "code",
   "execution_count": 133,
   "metadata": {},
   "outputs": [],
   "source": [
    "halving_03_all_tokens['high_24h'] = halving_03_all_tokens['high_24h_gaming']+halving_03_all_tokens['high_24h_ai']+halving_03_all_tokens['high_24h_memes']+halving_03_all_tokens['high_24h_rwa']\n",
    "halving_03_all_tokens.drop(columns=['high_24h_gaming','high_24h_ai','high_24h_memes','high_24h_rwa'],inplace=True)"
   ]
  },
  {
   "cell_type": "code",
   "execution_count": 134,
   "metadata": {},
   "outputs": [],
   "source": [
    "halving_03_all_tokens['low_24h'] = halving_03_all_tokens['low_24h_gaming']+halving_03_all_tokens['low_24h_ai']+halving_03_all_tokens['low_24h_memes']+halving_03_all_tokens['low_24h_rwa']\n",
    "halving_03_all_tokens.drop(columns=['low_24h_gaming','low_24h_ai','low_24h_memes','low_24h_rwa'],inplace=True)"
   ]
  },
  {
   "cell_type": "code",
   "execution_count": 135,
   "metadata": {},
   "outputs": [],
   "source": [
    "halving_03_all_tokens['price_change_24h'] = halving_03_all_tokens['price_change_24h_gaming']+halving_03_all_tokens['price_change_24h_ai']+halving_03_all_tokens['price_change_24h_memes']+halving_03_all_tokens['price_change_24h_rwa']\n",
    "halving_03_all_tokens.drop(columns=['price_change_24h_gaming','price_change_24h_ai','price_change_24h_memes','price_change_24h_rwa'],inplace=True)\n",
    "\n"
   ]
  },
  {
   "cell_type": "code",
   "execution_count": 136,
   "metadata": {},
   "outputs": [],
   "source": [
    "halving_03_all_tokens['price_change_percentage_24h'] = halving_03_all_tokens['price_change_percentage_24h_gaming']+halving_03_all_tokens['price_change_percentage_24h_ai']+halving_03_all_tokens['price_change_percentage_24h_memes']+halving_03_all_tokens['price_change_percentage_24h_rwa']\n",
    "halving_03_all_tokens.drop(columns=['price_change_percentage_24h_gaming','price_change_percentage_24h_ai','price_change_percentage_24h_memes','price_change_percentage_24h_rwa'],inplace=True)\n",
    "\n"
   ]
  },
  {
   "cell_type": "code",
   "execution_count": 137,
   "metadata": {},
   "outputs": [],
   "source": [
    "halving_03_all_tokens['market_cap_change_24h'] = halving_03_all_tokens['market_cap_change_24h_gaming']+halving_03_all_tokens['market_cap_change_24h_ai']+halving_03_all_tokens['market_cap_change_24h_memes']+halving_03_all_tokens['market_cap_change_24h_rwa']\n",
    "halving_03_all_tokens.drop(columns=['market_cap_change_24h_gaming','market_cap_change_24h_ai','market_cap_change_24h_memes','market_cap_change_24h_rwa'],inplace=True)"
   ]
  },
  {
   "cell_type": "code",
   "execution_count": 138,
   "metadata": {},
   "outputs": [],
   "source": [
    "halving_03_all_tokens['current_price'] = halving_03_all_tokens['current_price_gaming']+halving_03_all_tokens['current_price_ai']+halving_03_all_tokens['current_price_memes']+halving_03_all_tokens['current_price_rwa']\n",
    "halving_03_all_tokens.drop(columns=['current_price_gaming','current_price_ai','current_price_memes','current_price_rwa'],inplace=True)"
   ]
  },
  {
   "cell_type": "code",
   "execution_count": 139,
   "metadata": {},
   "outputs": [],
   "source": [
    "halving_03_all_tokens['circulating_supply'] = halving_03_all_tokens['circulating_supply_gaming']+halving_03_all_tokens['circulating_supply_ai']+halving_03_all_tokens['circulating_supply_memes']+halving_03_all_tokens['circulating_supply_rwa']\n",
    "halving_03_all_tokens.drop(columns=['circulating_supply_gaming','circulating_supply_ai','circulating_supply_memes','circulating_supply_rwa'],inplace=True)"
   ]
  },
  {
   "cell_type": "code",
   "execution_count": 140,
   "metadata": {},
   "outputs": [],
   "source": [
    "halving_03_all_tokens['total_supply'] = halving_03_all_tokens['total_supply_gaming']+halving_03_all_tokens['total_supply_ai']+halving_03_all_tokens['total_supply_memes']+halving_03_all_tokens['total_supply_rwa']\n",
    "halving_03_all_tokens.drop(columns=['total_supply_gaming','total_supply_ai','total_supply_memes','total_supply_rwa'],inplace=True)"
   ]
  },
  {
   "cell_type": "code",
   "execution_count": 141,
   "metadata": {},
   "outputs": [],
   "source": [
    "halving_03_all_tokens['max_supply'] = halving_03_all_tokens['max_supply_gaming']+halving_03_all_tokens['max_supply_ai']+halving_03_all_tokens['max_supply_memes']+halving_03_all_tokens['max_supply_rwa']\n",
    "halving_03_all_tokens.drop(columns=['max_supply_gaming','max_supply_ai','max_supply_memes','max_supply_rwa'],inplace=True)"
   ]
  },
  {
   "cell_type": "code",
   "execution_count": 142,
   "metadata": {},
   "outputs": [],
   "source": [
    "halving_03_all_tokens['fully_diluted_valuation']= halving_03_all_tokens['fully_diluted_valuation_gaming']+halving_03_all_tokens['fully_diluted_valuation_ai']+halving_03_all_tokens['fully_diluted_valuation_memes']+halving_03_all_tokens['fully_diluted_valuation_rwa']\n",
    "halving_03_all_tokens.drop(columns=['fully_diluted_valuation_gaming','fully_diluted_valuation_ai','fully_diluted_valuation_memes','fully_diluted_valuation_rwa'],inplace=True)"
   ]
  },
  {
   "cell_type": "code",
   "execution_count": 143,
   "metadata": {},
   "outputs": [],
   "source": [
    "halving_03_all_tokens['market_cap_change_percentage_24h'] = halving_03_all_tokens['market_cap_change_percentage_24h_gaming']+halving_03_all_tokens['market_cap_change_percentage_24h_ai']+halving_03_all_tokens['market_cap_change_percentage_24h_memes']+halving_03_all_tokens['market_cap_change_percentage_24h_rwa']\n",
    "halving_03_all_tokens.drop(columns=['market_cap_change_percentage_24h_gaming','market_cap_change_percentage_24h_ai','market_cap_change_percentage_24h_memes','market_cap_change_percentage_24h_rwa'],inplace=True)"
   ]
  },
  {
   "cell_type": "code",
   "execution_count": 146,
   "metadata": {},
   "outputs": [],
   "source": [
    "halving_03_all_tokens.loc[halving_03_all_tokens['class'] == 0, 'rank'] = halving_03_all_tokens['market_cap_rank_ai']\n",
    "halving_03_all_tokens.loc[halving_03_all_tokens['class'] == 1, 'rank'] = halving_03_all_tokens['market_cap_rank_gaming']\n",
    "halving_03_all_tokens.loc[halving_03_all_tokens['class'] == 2, 'rank'] = halving_03_all_tokens['market_cap_rank_rwa']\n",
    "halving_03_all_tokens.loc[halving_03_all_tokens['class'] == 3, 'rank'] = halving_03_all_tokens['market_cap_rank_memes']\n",
    "\n",
    "halving_03_all_tokens.drop(columns=['market_cap_rank_gaming','market_cap_rank_ai','market_cap_rank_memes','market_cap_rank_rwa'],inplace=True)"
   ]
  },
  {
   "cell_type": "code",
   "execution_count": 147,
   "metadata": {},
   "outputs": [
    {
     "data": {
      "text/html": [
       "<div>\n",
       "<style scoped>\n",
       "    .dataframe tbody tr th:only-of-type {\n",
       "        vertical-align: middle;\n",
       "    }\n",
       "\n",
       "    .dataframe tbody tr th {\n",
       "        vertical-align: top;\n",
       "    }\n",
       "\n",
       "    .dataframe thead th {\n",
       "        text-align: right;\n",
       "    }\n",
       "</style>\n",
       "<table border=\"1\" class=\"dataframe\">\n",
       "  <thead>\n",
       "    <tr style=\"text-align: right;\">\n",
       "      <th></th>\n",
       "      <th>id</th>\n",
       "      <th>symbol</th>\n",
       "      <th>name</th>\n",
       "      <th>class</th>\n",
       "      <th>centralized</th>\n",
       "      <th>isMultiplatforms</th>\n",
       "      <th>market_cap</th>\n",
       "      <th>total_volume</th>\n",
       "      <th>high_24h</th>\n",
       "      <th>low_24h</th>\n",
       "      <th>price_change_24h</th>\n",
       "      <th>price_change_percentage_24h</th>\n",
       "      <th>market_cap_change_24h</th>\n",
       "      <th>current_price</th>\n",
       "      <th>circulating_supply</th>\n",
       "      <th>total_supply</th>\n",
       "      <th>max_supply</th>\n",
       "      <th>fully_diluted_valuation</th>\n",
       "      <th>market_cap_change_percentage_24h</th>\n",
       "      <th>rank</th>\n",
       "    </tr>\n",
       "  </thead>\n",
       "  <tbody>\n",
       "    <tr>\n",
       "      <th>0</th>\n",
       "      <td>immutable-x</td>\n",
       "      <td>imx</td>\n",
       "      <td>Immutable</td>\n",
       "      <td>1</td>\n",
       "      <td>0</td>\n",
       "      <td>0</td>\n",
       "      <td>6.356894e+09</td>\n",
       "      <td>99469710.0</td>\n",
       "      <td>4.860000</td>\n",
       "      <td>4.360000</td>\n",
       "      <td>-0.332313</td>\n",
       "      <td>-14.17866</td>\n",
       "      <td>-4.820781e+08</td>\n",
       "      <td>4.355194</td>\n",
       "      <td>2.913630e+09</td>\n",
       "      <td>4.000000e+09</td>\n",
       "      <td>4.000000e+09</td>\n",
       "      <td>8.727111e+09</td>\n",
       "      <td>-14.09798</td>\n",
       "      <td>38.0</td>\n",
       "    </tr>\n",
       "    <tr>\n",
       "      <th>1</th>\n",
       "      <td>floki</td>\n",
       "      <td>floki</td>\n",
       "      <td>FLOKI</td>\n",
       "      <td>1</td>\n",
       "      <td>0</td>\n",
       "      <td>1</td>\n",
       "      <td>3.583818e+09</td>\n",
       "      <td>588523888.0</td>\n",
       "      <td>0.000409</td>\n",
       "      <td>0.000361</td>\n",
       "      <td>-0.000027</td>\n",
       "      <td>-13.46436</td>\n",
       "      <td>-2.338301e+08</td>\n",
       "      <td>0.000367</td>\n",
       "      <td>1.942253e+13</td>\n",
       "      <td>2.000000e+13</td>\n",
       "      <td>2.000000e+13</td>\n",
       "      <td>3.690373e+09</td>\n",
       "      <td>-12.24996</td>\n",
       "      <td>61.0</td>\n",
       "    </tr>\n",
       "    <tr>\n",
       "      <th>2</th>\n",
       "      <td>gala</td>\n",
       "      <td>gala</td>\n",
       "      <td>GALA</td>\n",
       "      <td>1</td>\n",
       "      <td>0</td>\n",
       "      <td>0</td>\n",
       "      <td>3.231598e+09</td>\n",
       "      <td>354364488.0</td>\n",
       "      <td>0.104118</td>\n",
       "      <td>0.092706</td>\n",
       "      <td>-0.009738</td>\n",
       "      <td>-19.08504</td>\n",
       "      <td>-3.311218e+08</td>\n",
       "      <td>0.092311</td>\n",
       "      <td>6.974528e+10</td>\n",
       "      <td>6.974530e+10</td>\n",
       "      <td>1.000000e+11</td>\n",
       "      <td>3.231599e+09</td>\n",
       "      <td>-18.58814</td>\n",
       "      <td>67.0</td>\n",
       "    </tr>\n",
       "    <tr>\n",
       "      <th>3</th>\n",
       "      <td>beam-2</td>\n",
       "      <td>beam</td>\n",
       "      <td>Beam</td>\n",
       "      <td>1</td>\n",
       "      <td>0</td>\n",
       "      <td>1</td>\n",
       "      <td>2.849650e+09</td>\n",
       "      <td>83199828.0</td>\n",
       "      <td>0.060932</td>\n",
       "      <td>0.053563</td>\n",
       "      <td>-0.006298</td>\n",
       "      <td>-21.05540</td>\n",
       "      <td>-3.296291e+08</td>\n",
       "      <td>0.053525</td>\n",
       "      <td>1.059963e+11</td>\n",
       "      <td>1.248680e+11</td>\n",
       "      <td>1.248680e+11</td>\n",
       "      <td>3.357006e+09</td>\n",
       "      <td>-20.73608</td>\n",
       "      <td>72.0</td>\n",
       "    </tr>\n",
       "    <tr>\n",
       "      <th>4</th>\n",
       "      <td>axie-infinity</td>\n",
       "      <td>axs</td>\n",
       "      <td>Axie Infinity</td>\n",
       "      <td>1</td>\n",
       "      <td>0</td>\n",
       "      <td>1</td>\n",
       "      <td>2.140012e+09</td>\n",
       "      <td>206036026.0</td>\n",
       "      <td>16.760000</td>\n",
       "      <td>14.800000</td>\n",
       "      <td>-0.624770</td>\n",
       "      <td>-8.07794</td>\n",
       "      <td>-7.935332e+07</td>\n",
       "      <td>14.843783</td>\n",
       "      <td>2.873198e+08</td>\n",
       "      <td>5.400000e+08</td>\n",
       "      <td>5.400000e+08</td>\n",
       "      <td>4.022022e+09</td>\n",
       "      <td>-7.15100</td>\n",
       "      <td>89.0</td>\n",
       "    </tr>\n",
       "  </tbody>\n",
       "</table>\n",
       "</div>"
      ],
      "text/plain": [
       "              id symbol           name  class  centralized  isMultiplatforms  \\\n",
       "0    immutable-x    imx      Immutable      1            0                 0   \n",
       "1          floki  floki          FLOKI      1            0                 1   \n",
       "2           gala   gala           GALA      1            0                 0   \n",
       "3         beam-2   beam           Beam      1            0                 1   \n",
       "4  axie-infinity    axs  Axie Infinity      1            0                 1   \n",
       "\n",
       "     market_cap  total_volume   high_24h    low_24h  price_change_24h  \\\n",
       "0  6.356894e+09    99469710.0   4.860000   4.360000         -0.332313   \n",
       "1  3.583818e+09   588523888.0   0.000409   0.000361         -0.000027   \n",
       "2  3.231598e+09   354364488.0   0.104118   0.092706         -0.009738   \n",
       "3  2.849650e+09    83199828.0   0.060932   0.053563         -0.006298   \n",
       "4  2.140012e+09   206036026.0  16.760000  14.800000         -0.624770   \n",
       "\n",
       "   price_change_percentage_24h  market_cap_change_24h  current_price  \\\n",
       "0                    -14.17866          -4.820781e+08       4.355194   \n",
       "1                    -13.46436          -2.338301e+08       0.000367   \n",
       "2                    -19.08504          -3.311218e+08       0.092311   \n",
       "3                    -21.05540          -3.296291e+08       0.053525   \n",
       "4                     -8.07794          -7.935332e+07      14.843783   \n",
       "\n",
       "   circulating_supply  total_supply    max_supply  fully_diluted_valuation  \\\n",
       "0        2.913630e+09  4.000000e+09  4.000000e+09             8.727111e+09   \n",
       "1        1.942253e+13  2.000000e+13  2.000000e+13             3.690373e+09   \n",
       "2        6.974528e+10  6.974530e+10  1.000000e+11             3.231599e+09   \n",
       "3        1.059963e+11  1.248680e+11  1.248680e+11             3.357006e+09   \n",
       "4        2.873198e+08  5.400000e+08  5.400000e+08             4.022022e+09   \n",
       "\n",
       "   market_cap_change_percentage_24h  rank  \n",
       "0                         -14.09798  38.0  \n",
       "1                         -12.24996  61.0  \n",
       "2                         -18.58814  67.0  \n",
       "3                         -20.73608  72.0  \n",
       "4                          -7.15100  89.0  "
      ]
     },
     "execution_count": 147,
     "metadata": {},
     "output_type": "execute_result"
    }
   ],
   "source": [
    "halving_03_all_tokens.head()"
   ]
  },
  {
   "cell_type": "code",
   "execution_count": 149,
   "metadata": {},
   "outputs": [],
   "source": [
    "halving_03_all_tokens.rename(columns={'id':'id_coingecko'},inplace=True)"
   ]
  },
  {
   "cell_type": "code",
   "execution_count": 150,
   "metadata": {},
   "outputs": [
    {
     "data": {
      "text/plain": [
       "['id_coingecko',\n",
       " 'symbol',\n",
       " 'name',\n",
       " 'class',\n",
       " 'centralized',\n",
       " 'isMultiplatforms',\n",
       " 'market_cap',\n",
       " 'total_volume',\n",
       " 'high_24h',\n",
       " 'low_24h',\n",
       " 'price_change_24h',\n",
       " 'price_change_percentage_24h',\n",
       " 'market_cap_change_24h',\n",
       " 'current_price',\n",
       " 'circulating_supply',\n",
       " 'total_supply',\n",
       " 'max_supply',\n",
       " 'fully_diluted_valuation',\n",
       " 'market_cap_change_percentage_24h',\n",
       " 'rank']"
      ]
     },
     "execution_count": 150,
     "metadata": {},
     "output_type": "execute_result"
    }
   ],
   "source": [
    "halving_03_all_tokens.columns.to_list()"
   ]
  },
  {
   "cell_type": "code",
   "execution_count": 152,
   "metadata": {},
   "outputs": [],
   "source": [
    "## dd/mm/yyyy\n",
    "halving_03_all_tokens['date'] = time.strftime(\"%d/%m/%Y\")"
   ]
  },
  {
   "cell_type": "code",
   "execution_count": 153,
   "metadata": {},
   "outputs": [],
   "source": [
    "halving_03_all_tokens.to_csv(\"data/clean/halving_03_all_tokens_v3.csv\",index=False)"
   ]
  },
  {
   "cell_type": "code",
   "execution_count": 154,
   "metadata": {},
   "outputs": [],
   "source": [
    "halving_03_all_tokens = pd.read_csv(\"data/clean/halving_03_all_tokens_v3.csv\")"
   ]
  },
  {
   "cell_type": "code",
   "execution_count": 155,
   "metadata": {},
   "outputs": [
    {
     "data": {
      "text/html": [
       "<div>\n",
       "<style scoped>\n",
       "    .dataframe tbody tr th:only-of-type {\n",
       "        vertical-align: middle;\n",
       "    }\n",
       "\n",
       "    .dataframe tbody tr th {\n",
       "        vertical-align: top;\n",
       "    }\n",
       "\n",
       "    .dataframe thead th {\n",
       "        text-align: right;\n",
       "    }\n",
       "</style>\n",
       "<table border=\"1\" class=\"dataframe\">\n",
       "  <thead>\n",
       "    <tr style=\"text-align: right;\">\n",
       "      <th></th>\n",
       "      <th>id_coingecko</th>\n",
       "      <th>symbol</th>\n",
       "      <th>name</th>\n",
       "      <th>class</th>\n",
       "      <th>centralized</th>\n",
       "      <th>isMultiplatforms</th>\n",
       "      <th>market_cap</th>\n",
       "      <th>total_volume</th>\n",
       "      <th>high_24h</th>\n",
       "      <th>low_24h</th>\n",
       "      <th>...</th>\n",
       "      <th>price_change_percentage_24h</th>\n",
       "      <th>market_cap_change_24h</th>\n",
       "      <th>current_price</th>\n",
       "      <th>circulating_supply</th>\n",
       "      <th>total_supply</th>\n",
       "      <th>max_supply</th>\n",
       "      <th>fully_diluted_valuation</th>\n",
       "      <th>market_cap_change_percentage_24h</th>\n",
       "      <th>rank</th>\n",
       "      <th>date</th>\n",
       "    </tr>\n",
       "  </thead>\n",
       "  <tbody>\n",
       "    <tr>\n",
       "      <th>0</th>\n",
       "      <td>immutable-x</td>\n",
       "      <td>imx</td>\n",
       "      <td>Immutable</td>\n",
       "      <td>1</td>\n",
       "      <td>0</td>\n",
       "      <td>0</td>\n",
       "      <td>6.356894e+09</td>\n",
       "      <td>99469710.0</td>\n",
       "      <td>4.860000</td>\n",
       "      <td>4.360000</td>\n",
       "      <td>...</td>\n",
       "      <td>-14.17866</td>\n",
       "      <td>-4.820781e+08</td>\n",
       "      <td>4.355194</td>\n",
       "      <td>2.913630e+09</td>\n",
       "      <td>4.000000e+09</td>\n",
       "      <td>4.000000e+09</td>\n",
       "      <td>8.727111e+09</td>\n",
       "      <td>-14.09798</td>\n",
       "      <td>38.0</td>\n",
       "      <td>28/04/2024</td>\n",
       "    </tr>\n",
       "    <tr>\n",
       "      <th>1</th>\n",
       "      <td>floki</td>\n",
       "      <td>floki</td>\n",
       "      <td>FLOKI</td>\n",
       "      <td>1</td>\n",
       "      <td>0</td>\n",
       "      <td>1</td>\n",
       "      <td>3.583818e+09</td>\n",
       "      <td>588523888.0</td>\n",
       "      <td>0.000409</td>\n",
       "      <td>0.000361</td>\n",
       "      <td>...</td>\n",
       "      <td>-13.46436</td>\n",
       "      <td>-2.338301e+08</td>\n",
       "      <td>0.000367</td>\n",
       "      <td>1.942253e+13</td>\n",
       "      <td>2.000000e+13</td>\n",
       "      <td>2.000000e+13</td>\n",
       "      <td>3.690373e+09</td>\n",
       "      <td>-12.24996</td>\n",
       "      <td>61.0</td>\n",
       "      <td>28/04/2024</td>\n",
       "    </tr>\n",
       "    <tr>\n",
       "      <th>2</th>\n",
       "      <td>gala</td>\n",
       "      <td>gala</td>\n",
       "      <td>GALA</td>\n",
       "      <td>1</td>\n",
       "      <td>0</td>\n",
       "      <td>0</td>\n",
       "      <td>3.231598e+09</td>\n",
       "      <td>354364488.0</td>\n",
       "      <td>0.104118</td>\n",
       "      <td>0.092706</td>\n",
       "      <td>...</td>\n",
       "      <td>-19.08504</td>\n",
       "      <td>-3.311218e+08</td>\n",
       "      <td>0.092311</td>\n",
       "      <td>6.974528e+10</td>\n",
       "      <td>6.974530e+10</td>\n",
       "      <td>1.000000e+11</td>\n",
       "      <td>3.231599e+09</td>\n",
       "      <td>-18.58814</td>\n",
       "      <td>67.0</td>\n",
       "      <td>28/04/2024</td>\n",
       "    </tr>\n",
       "    <tr>\n",
       "      <th>3</th>\n",
       "      <td>beam-2</td>\n",
       "      <td>beam</td>\n",
       "      <td>Beam</td>\n",
       "      <td>1</td>\n",
       "      <td>0</td>\n",
       "      <td>1</td>\n",
       "      <td>2.849650e+09</td>\n",
       "      <td>83199828.0</td>\n",
       "      <td>0.060932</td>\n",
       "      <td>0.053563</td>\n",
       "      <td>...</td>\n",
       "      <td>-21.05540</td>\n",
       "      <td>-3.296291e+08</td>\n",
       "      <td>0.053525</td>\n",
       "      <td>1.059963e+11</td>\n",
       "      <td>1.248680e+11</td>\n",
       "      <td>1.248680e+11</td>\n",
       "      <td>3.357006e+09</td>\n",
       "      <td>-20.73608</td>\n",
       "      <td>72.0</td>\n",
       "      <td>28/04/2024</td>\n",
       "    </tr>\n",
       "    <tr>\n",
       "      <th>4</th>\n",
       "      <td>axie-infinity</td>\n",
       "      <td>axs</td>\n",
       "      <td>Axie Infinity</td>\n",
       "      <td>1</td>\n",
       "      <td>0</td>\n",
       "      <td>1</td>\n",
       "      <td>2.140012e+09</td>\n",
       "      <td>206036026.0</td>\n",
       "      <td>16.760000</td>\n",
       "      <td>14.800000</td>\n",
       "      <td>...</td>\n",
       "      <td>-8.07794</td>\n",
       "      <td>-7.935332e+07</td>\n",
       "      <td>14.843783</td>\n",
       "      <td>2.873198e+08</td>\n",
       "      <td>5.400000e+08</td>\n",
       "      <td>5.400000e+08</td>\n",
       "      <td>4.022022e+09</td>\n",
       "      <td>-7.15100</td>\n",
       "      <td>89.0</td>\n",
       "      <td>28/04/2024</td>\n",
       "    </tr>\n",
       "  </tbody>\n",
       "</table>\n",
       "<p>5 rows × 21 columns</p>\n",
       "</div>"
      ],
      "text/plain": [
       "    id_coingecko symbol           name  class  centralized  isMultiplatforms  \\\n",
       "0    immutable-x    imx      Immutable      1            0                 0   \n",
       "1          floki  floki          FLOKI      1            0                 1   \n",
       "2           gala   gala           GALA      1            0                 0   \n",
       "3         beam-2   beam           Beam      1            0                 1   \n",
       "4  axie-infinity    axs  Axie Infinity      1            0                 1   \n",
       "\n",
       "     market_cap  total_volume   high_24h    low_24h  ...  \\\n",
       "0  6.356894e+09    99469710.0   4.860000   4.360000  ...   \n",
       "1  3.583818e+09   588523888.0   0.000409   0.000361  ...   \n",
       "2  3.231598e+09   354364488.0   0.104118   0.092706  ...   \n",
       "3  2.849650e+09    83199828.0   0.060932   0.053563  ...   \n",
       "4  2.140012e+09   206036026.0  16.760000  14.800000  ...   \n",
       "\n",
       "   price_change_percentage_24h  market_cap_change_24h  current_price  \\\n",
       "0                    -14.17866          -4.820781e+08       4.355194   \n",
       "1                    -13.46436          -2.338301e+08       0.000367   \n",
       "2                    -19.08504          -3.311218e+08       0.092311   \n",
       "3                    -21.05540          -3.296291e+08       0.053525   \n",
       "4                     -8.07794          -7.935332e+07      14.843783   \n",
       "\n",
       "   circulating_supply  total_supply    max_supply  fully_diluted_valuation  \\\n",
       "0        2.913630e+09  4.000000e+09  4.000000e+09             8.727111e+09   \n",
       "1        1.942253e+13  2.000000e+13  2.000000e+13             3.690373e+09   \n",
       "2        6.974528e+10  6.974530e+10  1.000000e+11             3.231599e+09   \n",
       "3        1.059963e+11  1.248680e+11  1.248680e+11             3.357006e+09   \n",
       "4        2.873198e+08  5.400000e+08  5.400000e+08             4.022022e+09   \n",
       "\n",
       "   market_cap_change_percentage_24h  rank        date  \n",
       "0                         -14.09798  38.0  28/04/2024  \n",
       "1                         -12.24996  61.0  28/04/2024  \n",
       "2                         -18.58814  67.0  28/04/2024  \n",
       "3                         -20.73608  72.0  28/04/2024  \n",
       "4                          -7.15100  89.0  28/04/2024  \n",
       "\n",
       "[5 rows x 21 columns]"
      ]
     },
     "execution_count": 155,
     "metadata": {},
     "output_type": "execute_result"
    }
   ],
   "source": [
    "halving_03_all_tokens.head()"
   ]
  },
  {
   "cell_type": "markdown",
   "metadata": {},
   "source": [
    "### halving tokens"
   ]
  },
  {
   "cell_type": "code",
   "execution_count": 5,
   "metadata": {},
   "outputs": [],
   "source": [
    "from bs4 import BeautifulSoup"
   ]
  },
  {
   "cell_type": "code",
   "execution_count": 29,
   "metadata": {},
   "outputs": [],
   "source": [
    "#read files in folder data/raw/halving/01\n",
    "data_folder = Path(\"data/raw/halving/01/\")\n",
    "files = [file for file in data_folder.iterdir() if file.is_file()]\n",
    "\n",
    "#month to number \n",
    "month = {\"January\":\"01\",\n",
    "         \"February\":\"02\",\n",
    "         \"March\":\"03\",\n",
    "         \"April\":\"04\",\n",
    "         \"May\":\"05\",\n",
    "         \"June\":\"06\",\n",
    "         \"July\":\"07\",\n",
    "         \"August\":\"08\",\n",
    "         \"September\":\"09\",\n",
    "         \"October\":\"10\",\n",
    "         \"November\":\"11\",\n",
    "         \"December\":\"12\"}\n",
    "\n",
    "##change name files por dd-mm-yyyy\n",
    "for file in files:\n",
    "    date = file.name.split(\".\")[0]\n",
    "    date = date.split(\"_\")    \n",
    "    new_filename = f\"{date[2]}_{month[date[1]]}_{date[0]}.html\"\n",
    "    #path dir of file\n",
    "    new_path = file.parent / new_filename\n",
    "    # Renombrar el archivo\n",
    "    os.rename(file, new_path)"
   ]
  },
  {
   "cell_type": "code",
   "execution_count": 46,
   "metadata": {},
   "outputs": [],
   "source": [
    "def renames_files(files,month):\n",
    "    ##change name files por dd-mm-yyyy\n",
    "    for file in files:\n",
    "        date = file.name.split(\".\")[0]\n",
    "        date = date.split(\"_\")\n",
    "        if date[1].lower() in month.keys():  \n",
    "            new_filename = f\"{date[2]}_{month[date[1].lower()]}_{date[0]}.html\"\n",
    "            #path dir of file\n",
    "            new_path = file.parent / new_filename\n",
    "            # Renombrar el archivo\n",
    "            os.rename(file, new_path)"
   ]
  },
  {
   "cell_type": "code",
   "execution_count": 30,
   "metadata": {},
   "outputs": [],
   "source": [
    "def get_files(path):\n",
    "    data_folder = Path(path)\n",
    "    files = [file for file in data_folder.iterdir() if file.is_file()]\n",
    "    return files"
   ]
  },
  {
   "cell_type": "code",
   "execution_count": 35,
   "metadata": {},
   "outputs": [],
   "source": [
    "files  = get_files(\"data/raw/halving/02/\")\n",
    "renames_files(files)"
   ]
  },
  {
   "cell_type": "code",
   "execution_count": 42,
   "metadata": {},
   "outputs": [],
   "source": [
    "es_month  = {\n",
    "    \"enero\":\"01\",\n",
    "    \"febrero\":\"02\",\n",
    "    \"marzo\":\"03\",\n",
    "    \"abril\":\"04\",\n",
    "    \"mayo\":\"05\",\n",
    "    \"junio\":\"06\",\n",
    "    \"julio\":\"07\",\n",
    "    \"agosto\":\"08\",\n",
    "    \"septiembre\":\"09\",\n",
    "    \"octubre\":\"10\",\n",
    "    \"noviembre\":\"11\",\n",
    "    \"diciembre\":\"12\"\n",
    "}"
   ]
  },
  {
   "cell_type": "code",
   "execution_count": 47,
   "metadata": {},
   "outputs": [],
   "source": [
    "files = get_files(\"data/raw/halving/03/\")\n",
    "renames_files(files,es_month)"
   ]
  },
  {
   "cell_type": "code",
   "execution_count": 48,
   "metadata": {},
   "outputs": [],
   "source": [
    "files = get_files(\"data/raw/halving/04/\")\n",
    "renames_files(files,es_month)"
   ]
  },
  {
   "cell_type": "code",
   "execution_count": 49,
   "metadata": {},
   "outputs": [],
   "source": [
    "def read_html(file_path):\n",
    "    # Leer el contenido del archivo HTML\n",
    "    with open(file_path, \"r\", encoding=\"utf-8\") as file:\n",
    "        html_content = file.read()\n",
    "\n",
    "    # Parsear el HTML con BeautifulSoup\n",
    "    soup = BeautifulSoup(html_content, 'html.parser')\n",
    "    return soup"
   ]
  },
  {
   "cell_type": "code",
   "execution_count": 61,
   "metadata": {},
   "outputs": [],
   "source": [
    "def process_of_html(soup):\n",
    "    rows = soup.find_all('tr')\n",
    "    data_list = []\n",
    "\n",
    "    # Iterar sobre las filas de la tabla\n",
    "    for row in rows[1:]:\n",
    "        # Encontrar todas las celdas de la fila\n",
    "        cells = row.find_all(['th', 'td'])\n",
    "\n",
    "        # Extraer el texto de cada celda y agregarlo a la lista de datos\n",
    "        data_row = []\n",
    "        for cell in cells:\n",
    "            # Obtener el texto de la celda\n",
    "            cell_text = ' '.join([text.strip() for text in cell.find_all(text=True)])\n",
    "            for element in cell.find_all():\n",
    "                class_name = element.get('class')\n",
    "                if class_name:\n",
    "                    if \"icon-Caret-up\" in class_name:\n",
    "                        cell_text = \"+\" + cell_text\n",
    "\n",
    "                    elif \"icon-Caret-down\" in class_name:\n",
    "                        cell_text = \"-\" + cell_text\n",
    "\n",
    "            data_row.append(cell_text)\n",
    "\n",
    "        data_list.append(data_row)\n",
    "\n",
    "    return data_list"
   ]
  },
  {
   "cell_type": "code",
   "execution_count": 62,
   "metadata": {},
   "outputs": [
    {
     "name": "stderr",
     "output_type": "stream",
     "text": [
      "C:\\Users\\Joseph\\AppData\\Local\\Temp\\ipykernel_3244\\1313462982.py:14: DeprecationWarning: The 'text' argument to find()-type methods is deprecated. Use 'string' instead.\n",
      "  cell_text = ' '.join([text.strip() for text in cell.find_all(text=True)])\n"
     ]
    }
   ],
   "source": [
    "pathFile = \"data/raw/halving/01/2013_04_28.html\"\n",
    "soup = read_html(pathFile)\n",
    "data_list = process_of_html(soup)\n",
    "\n",
    "halving_03 = pd.DataFrame(data_list)"
   ]
  },
  {
   "cell_type": "code",
   "execution_count": 63,
   "metadata": {},
   "outputs": [
    {
     "data": {
      "text/html": [
       "<div>\n",
       "<style scoped>\n",
       "    .dataframe tbody tr th:only-of-type {\n",
       "        vertical-align: middle;\n",
       "    }\n",
       "\n",
       "    .dataframe tbody tr th {\n",
       "        vertical-align: top;\n",
       "    }\n",
       "\n",
       "    .dataframe thead th {\n",
       "        text-align: right;\n",
       "    }\n",
       "</style>\n",
       "<table border=\"1\" class=\"dataframe\">\n",
       "  <thead>\n",
       "    <tr style=\"text-align: right;\">\n",
       "      <th></th>\n",
       "      <th>0</th>\n",
       "      <th>1</th>\n",
       "      <th>2</th>\n",
       "      <th>3</th>\n",
       "      <th>4</th>\n",
       "      <th>5</th>\n",
       "      <th>6</th>\n",
       "      <th>7</th>\n",
       "      <th>8</th>\n",
       "      <th>9</th>\n",
       "    </tr>\n",
       "  </thead>\n",
       "  <tbody>\n",
       "    <tr>\n",
       "      <th>0</th>\n",
       "      <td>1</td>\n",
       "      <td>BTC Bitcoin</td>\n",
       "      <td>BTC</td>\n",
       "      <td>$1,488,566,971.96</td>\n",
       "      <td>$134.21</td>\n",
       "      <td>11.091.325  BTC</td>\n",
       "      <td>0,64  %</td>\n",
       "      <td>--</td>\n",
       "      <td>--</td>\n",
       "      <td></td>\n",
       "    </tr>\n",
       "    <tr>\n",
       "      <th>1</th>\n",
       "      <td>2</td>\n",
       "      <td>LTC Litecoin</td>\n",
       "      <td>LTC</td>\n",
       "      <td>$74,637,021.57</td>\n",
       "      <td>$4.3484</td>\n",
       "      <td>17.164.230  LTC</td>\n",
       "      <td>0,80  %</td>\n",
       "      <td>--</td>\n",
       "      <td>--</td>\n",
       "      <td></td>\n",
       "    </tr>\n",
       "    <tr>\n",
       "      <th>2</th>\n",
       "      <td>3</td>\n",
       "      <td>PPC Peercoin</td>\n",
       "      <td>PPC</td>\n",
       "      <td>$7,250,186.65</td>\n",
       "      <td>$0.3865</td>\n",
       "      <td>18.757.362  PPC</td>\n",
       "      <td>-0,93  %</td>\n",
       "      <td>--</td>\n",
       "      <td>--</td>\n",
       "      <td></td>\n",
       "    </tr>\n",
       "    <tr>\n",
       "      <th>3</th>\n",
       "      <td>4</td>\n",
       "      <td>NMC Namecoin</td>\n",
       "      <td>NMC</td>\n",
       "      <td>$5,995,997.19</td>\n",
       "      <td>$1.1072</td>\n",
       "      <td>5.415.300  NMC</td>\n",
       "      <td>-0,05  %</td>\n",
       "      <td>--</td>\n",
       "      <td>--</td>\n",
       "      <td></td>\n",
       "    </tr>\n",
       "    <tr>\n",
       "      <th>4</th>\n",
       "      <td>5</td>\n",
       "      <td>TRC Terracoin</td>\n",
       "      <td>TRC</td>\n",
       "      <td>$1,503,099.40</td>\n",
       "      <td>$0.6469</td>\n",
       "      <td>2.323.570  TRC</td>\n",
       "      <td>0,61  %</td>\n",
       "      <td>--</td>\n",
       "      <td>--</td>\n",
       "      <td></td>\n",
       "    </tr>\n",
       "  </tbody>\n",
       "</table>\n",
       "</div>"
      ],
      "text/plain": [
       "   0              1    2                  3        4                5  \\\n",
       "0  1    BTC Bitcoin  BTC  $1,488,566,971.96  $134.21  11.091.325  BTC   \n",
       "1  2   LTC Litecoin  LTC     $74,637,021.57  $4.3484  17.164.230  LTC   \n",
       "2  3   PPC Peercoin  PPC      $7,250,186.65  $0.3865  18.757.362  PPC   \n",
       "3  4   NMC Namecoin  NMC      $5,995,997.19  $1.1072   5.415.300  NMC   \n",
       "4  5  TRC Terracoin  TRC      $1,503,099.40  $0.6469   2.323.570  TRC   \n",
       "\n",
       "          6   7   8 9  \n",
       "0   0,64  %  --  --    \n",
       "1   0,80  %  --  --    \n",
       "2  -0,93  %  --  --    \n",
       "3  -0,05  %  --  --    \n",
       "4   0,61  %  --  --    "
      ]
     },
     "execution_count": 63,
     "metadata": {},
     "output_type": "execute_result"
    }
   ],
   "source": [
    "halving_03.head()"
   ]
  },
  {
   "cell_type": "code",
   "execution_count": 64,
   "metadata": {},
   "outputs": [
    {
     "name": "stderr",
     "output_type": "stream",
     "text": [
      "C:\\Users\\Joseph\\AppData\\Local\\Temp\\ipykernel_3244\\1313462982.py:14: DeprecationWarning: The 'text' argument to find()-type methods is deprecated. Use 'string' instead.\n",
      "  cell_text = ' '.join([text.strip() for text in cell.find_all(text=True)])\n",
      "C:\\Users\\Joseph\\AppData\\Local\\Temp\\ipykernel_3244\\1313462982.py:14: DeprecationWarning: The 'text' argument to find()-type methods is deprecated. Use 'string' instead.\n",
      "  cell_text = ' '.join([text.strip() for text in cell.find_all(text=True)])\n",
      "C:\\Users\\Joseph\\AppData\\Local\\Temp\\ipykernel_3244\\1313462982.py:14: DeprecationWarning: The 'text' argument to find()-type methods is deprecated. Use 'string' instead.\n",
      "  cell_text = ' '.join([text.strip() for text in cell.find_all(text=True)])\n",
      "C:\\Users\\Joseph\\AppData\\Local\\Temp\\ipykernel_3244\\1313462982.py:14: DeprecationWarning: The 'text' argument to find()-type methods is deprecated. Use 'string' instead.\n",
      "  cell_text = ' '.join([text.strip() for text in cell.find_all(text=True)])\n",
      "C:\\Users\\Joseph\\AppData\\Local\\Temp\\ipykernel_3244\\1313462982.py:14: DeprecationWarning: The 'text' argument to find()-type methods is deprecated. Use 'string' instead.\n",
      "  cell_text = ' '.join([text.strip() for text in cell.find_all(text=True)])\n",
      "C:\\Users\\Joseph\\AppData\\Local\\Temp\\ipykernel_3244\\1313462982.py:14: DeprecationWarning: The 'text' argument to find()-type methods is deprecated. Use 'string' instead.\n",
      "  cell_text = ' '.join([text.strip() for text in cell.find_all(text=True)])\n",
      "C:\\Users\\Joseph\\AppData\\Local\\Temp\\ipykernel_3244\\1313462982.py:14: DeprecationWarning: The 'text' argument to find()-type methods is deprecated. Use 'string' instead.\n",
      "  cell_text = ' '.join([text.strip() for text in cell.find_all(text=True)])\n",
      "C:\\Users\\Joseph\\AppData\\Local\\Temp\\ipykernel_3244\\1313462982.py:14: DeprecationWarning: The 'text' argument to find()-type methods is deprecated. Use 'string' instead.\n",
      "  cell_text = ' '.join([text.strip() for text in cell.find_all(text=True)])\n",
      "C:\\Users\\Joseph\\AppData\\Local\\Temp\\ipykernel_3244\\1313462982.py:14: DeprecationWarning: The 'text' argument to find()-type methods is deprecated. Use 'string' instead.\n",
      "  cell_text = ' '.join([text.strip() for text in cell.find_all(text=True)])\n",
      "C:\\Users\\Joseph\\AppData\\Local\\Temp\\ipykernel_3244\\1313462982.py:14: DeprecationWarning: The 'text' argument to find()-type methods is deprecated. Use 'string' instead.\n",
      "  cell_text = ' '.join([text.strip() for text in cell.find_all(text=True)])\n",
      "C:\\Users\\Joseph\\AppData\\Local\\Temp\\ipykernel_3244\\1313462982.py:14: DeprecationWarning: The 'text' argument to find()-type methods is deprecated. Use 'string' instead.\n",
      "  cell_text = ' '.join([text.strip() for text in cell.find_all(text=True)])\n",
      "C:\\Users\\Joseph\\AppData\\Local\\Temp\\ipykernel_3244\\1313462982.py:14: DeprecationWarning: The 'text' argument to find()-type methods is deprecated. Use 'string' instead.\n",
      "  cell_text = ' '.join([text.strip() for text in cell.find_all(text=True)])\n",
      "C:\\Users\\Joseph\\AppData\\Local\\Temp\\ipykernel_3244\\1313462982.py:14: DeprecationWarning: The 'text' argument to find()-type methods is deprecated. Use 'string' instead.\n",
      "  cell_text = ' '.join([text.strip() for text in cell.find_all(text=True)])\n",
      "C:\\Users\\Joseph\\AppData\\Local\\Temp\\ipykernel_3244\\1313462982.py:14: DeprecationWarning: The 'text' argument to find()-type methods is deprecated. Use 'string' instead.\n",
      "  cell_text = ' '.join([text.strip() for text in cell.find_all(text=True)])\n",
      "C:\\Users\\Joseph\\AppData\\Local\\Temp\\ipykernel_3244\\1313462982.py:14: DeprecationWarning: The 'text' argument to find()-type methods is deprecated. Use 'string' instead.\n",
      "  cell_text = ' '.join([text.strip() for text in cell.find_all(text=True)])\n",
      "C:\\Users\\Joseph\\AppData\\Local\\Temp\\ipykernel_3244\\1313462982.py:14: DeprecationWarning: The 'text' argument to find()-type methods is deprecated. Use 'string' instead.\n",
      "  cell_text = ' '.join([text.strip() for text in cell.find_all(text=True)])\n",
      "C:\\Users\\Joseph\\AppData\\Local\\Temp\\ipykernel_3244\\1313462982.py:14: DeprecationWarning: The 'text' argument to find()-type methods is deprecated. Use 'string' instead.\n",
      "  cell_text = ' '.join([text.strip() for text in cell.find_all(text=True)])\n",
      "C:\\Users\\Joseph\\AppData\\Local\\Temp\\ipykernel_3244\\1313462982.py:14: DeprecationWarning: The 'text' argument to find()-type methods is deprecated. Use 'string' instead.\n",
      "  cell_text = ' '.join([text.strip() for text in cell.find_all(text=True)])\n"
     ]
    }
   ],
   "source": [
    "files = get_files(\"data/raw/halving/01/\")\n",
    "halving_03_all = pd.DataFrame()\n",
    "for file in files:\n",
    "    soup = read_html(file)\n",
    "    data_list = process_of_html(soup)\n",
    "    halving_03 = pd.DataFrame(data_list)\n",
    "    halving_03[\"date\"] = file.name.split(\".\")[0]\n",
    "    halving_03_all = pd.concat([halving_03_all,halving_03])"
   ]
  },
  {
   "cell_type": "code",
   "execution_count": 67,
   "metadata": {},
   "outputs": [],
   "source": [
    "halving_03_all.to_csv(\"data/clean/halving_01.csv\",index=False)"
   ]
  },
  {
   "cell_type": "code",
   "execution_count": 68,
   "metadata": {},
   "outputs": [],
   "source": [
    "def make_halving_03(files):\n",
    "    halving_03_all = pd.DataFrame()\n",
    "    for file in files:\n",
    "        soup = read_html(file)\n",
    "        data_list = process_of_html(soup)\n",
    "        halving_03 = pd.DataFrame(data_list)\n",
    "        halving_03[\"date\"] = file.name.split(\".\")[0]\n",
    "        halving_03_all = pd.concat([halving_03_all,halving_03])\n",
    "    return halving_03_all\n"
   ]
  },
  {
   "cell_type": "code",
   "execution_count": 69,
   "metadata": {},
   "outputs": [
    {
     "name": "stderr",
     "output_type": "stream",
     "text": [
      "C:\\Users\\Joseph\\AppData\\Local\\Temp\\ipykernel_3244\\1313462982.py:14: DeprecationWarning: The 'text' argument to find()-type methods is deprecated. Use 'string' instead.\n",
      "  cell_text = ' '.join([text.strip() for text in cell.find_all(text=True)])\n",
      "C:\\Users\\Joseph\\AppData\\Local\\Temp\\ipykernel_3244\\1313462982.py:14: DeprecationWarning: The 'text' argument to find()-type methods is deprecated. Use 'string' instead.\n",
      "  cell_text = ' '.join([text.strip() for text in cell.find_all(text=True)])\n",
      "C:\\Users\\Joseph\\AppData\\Local\\Temp\\ipykernel_3244\\1313462982.py:14: DeprecationWarning: The 'text' argument to find()-type methods is deprecated. Use 'string' instead.\n",
      "  cell_text = ' '.join([text.strip() for text in cell.find_all(text=True)])\n",
      "C:\\Users\\Joseph\\AppData\\Local\\Temp\\ipykernel_3244\\1313462982.py:14: DeprecationWarning: The 'text' argument to find()-type methods is deprecated. Use 'string' instead.\n",
      "  cell_text = ' '.join([text.strip() for text in cell.find_all(text=True)])\n",
      "C:\\Users\\Joseph\\AppData\\Local\\Temp\\ipykernel_3244\\1313462982.py:14: DeprecationWarning: The 'text' argument to find()-type methods is deprecated. Use 'string' instead.\n",
      "  cell_text = ' '.join([text.strip() for text in cell.find_all(text=True)])\n",
      "C:\\Users\\Joseph\\AppData\\Local\\Temp\\ipykernel_3244\\1313462982.py:14: DeprecationWarning: The 'text' argument to find()-type methods is deprecated. Use 'string' instead.\n",
      "  cell_text = ' '.join([text.strip() for text in cell.find_all(text=True)])\n",
      "C:\\Users\\Joseph\\AppData\\Local\\Temp\\ipykernel_3244\\1313462982.py:14: DeprecationWarning: The 'text' argument to find()-type methods is deprecated. Use 'string' instead.\n",
      "  cell_text = ' '.join([text.strip() for text in cell.find_all(text=True)])\n",
      "C:\\Users\\Joseph\\AppData\\Local\\Temp\\ipykernel_3244\\1313462982.py:14: DeprecationWarning: The 'text' argument to find()-type methods is deprecated. Use 'string' instead.\n",
      "  cell_text = ' '.join([text.strip() for text in cell.find_all(text=True)])\n",
      "C:\\Users\\Joseph\\AppData\\Local\\Temp\\ipykernel_3244\\1313462982.py:14: DeprecationWarning: The 'text' argument to find()-type methods is deprecated. Use 'string' instead.\n",
      "  cell_text = ' '.join([text.strip() for text in cell.find_all(text=True)])\n",
      "C:\\Users\\Joseph\\AppData\\Local\\Temp\\ipykernel_3244\\1313462982.py:14: DeprecationWarning: The 'text' argument to find()-type methods is deprecated. Use 'string' instead.\n",
      "  cell_text = ' '.join([text.strip() for text in cell.find_all(text=True)])\n",
      "C:\\Users\\Joseph\\AppData\\Local\\Temp\\ipykernel_3244\\1313462982.py:14: DeprecationWarning: The 'text' argument to find()-type methods is deprecated. Use 'string' instead.\n",
      "  cell_text = ' '.join([text.strip() for text in cell.find_all(text=True)])\n",
      "C:\\Users\\Joseph\\AppData\\Local\\Temp\\ipykernel_3244\\1313462982.py:14: DeprecationWarning: The 'text' argument to find()-type methods is deprecated. Use 'string' instead.\n",
      "  cell_text = ' '.join([text.strip() for text in cell.find_all(text=True)])\n",
      "C:\\Users\\Joseph\\AppData\\Local\\Temp\\ipykernel_3244\\1313462982.py:14: DeprecationWarning: The 'text' argument to find()-type methods is deprecated. Use 'string' instead.\n",
      "  cell_text = ' '.join([text.strip() for text in cell.find_all(text=True)])\n",
      "C:\\Users\\Joseph\\AppData\\Local\\Temp\\ipykernel_3244\\1313462982.py:14: DeprecationWarning: The 'text' argument to find()-type methods is deprecated. Use 'string' instead.\n",
      "  cell_text = ' '.join([text.strip() for text in cell.find_all(text=True)])\n",
      "C:\\Users\\Joseph\\AppData\\Local\\Temp\\ipykernel_3244\\1313462982.py:14: DeprecationWarning: The 'text' argument to find()-type methods is deprecated. Use 'string' instead.\n",
      "  cell_text = ' '.join([text.strip() for text in cell.find_all(text=True)])\n",
      "C:\\Users\\Joseph\\AppData\\Local\\Temp\\ipykernel_3244\\1313462982.py:14: DeprecationWarning: The 'text' argument to find()-type methods is deprecated. Use 'string' instead.\n",
      "  cell_text = ' '.join([text.strip() for text in cell.find_all(text=True)])\n",
      "C:\\Users\\Joseph\\AppData\\Local\\Temp\\ipykernel_3244\\1313462982.py:14: DeprecationWarning: The 'text' argument to find()-type methods is deprecated. Use 'string' instead.\n",
      "  cell_text = ' '.join([text.strip() for text in cell.find_all(text=True)])\n",
      "C:\\Users\\Joseph\\AppData\\Local\\Temp\\ipykernel_3244\\1313462982.py:14: DeprecationWarning: The 'text' argument to find()-type methods is deprecated. Use 'string' instead.\n",
      "  cell_text = ' '.join([text.strip() for text in cell.find_all(text=True)])\n",
      "C:\\Users\\Joseph\\AppData\\Local\\Temp\\ipykernel_3244\\1313462982.py:14: DeprecationWarning: The 'text' argument to find()-type methods is deprecated. Use 'string' instead.\n",
      "  cell_text = ' '.join([text.strip() for text in cell.find_all(text=True)])\n",
      "C:\\Users\\Joseph\\AppData\\Local\\Temp\\ipykernel_3244\\1313462982.py:14: DeprecationWarning: The 'text' argument to find()-type methods is deprecated. Use 'string' instead.\n",
      "  cell_text = ' '.join([text.strip() for text in cell.find_all(text=True)])\n",
      "C:\\Users\\Joseph\\AppData\\Local\\Temp\\ipykernel_3244\\1313462982.py:14: DeprecationWarning: The 'text' argument to find()-type methods is deprecated. Use 'string' instead.\n",
      "  cell_text = ' '.join([text.strip() for text in cell.find_all(text=True)])\n",
      "C:\\Users\\Joseph\\AppData\\Local\\Temp\\ipykernel_3244\\1313462982.py:14: DeprecationWarning: The 'text' argument to find()-type methods is deprecated. Use 'string' instead.\n",
      "  cell_text = ' '.join([text.strip() for text in cell.find_all(text=True)])\n",
      "C:\\Users\\Joseph\\AppData\\Local\\Temp\\ipykernel_3244\\1313462982.py:14: DeprecationWarning: The 'text' argument to find()-type methods is deprecated. Use 'string' instead.\n",
      "  cell_text = ' '.join([text.strip() for text in cell.find_all(text=True)])\n",
      "C:\\Users\\Joseph\\AppData\\Local\\Temp\\ipykernel_3244\\1313462982.py:14: DeprecationWarning: The 'text' argument to find()-type methods is deprecated. Use 'string' instead.\n",
      "  cell_text = ' '.join([text.strip() for text in cell.find_all(text=True)])\n",
      "C:\\Users\\Joseph\\AppData\\Local\\Temp\\ipykernel_3244\\1313462982.py:14: DeprecationWarning: The 'text' argument to find()-type methods is deprecated. Use 'string' instead.\n",
      "  cell_text = ' '.join([text.strip() for text in cell.find_all(text=True)])\n",
      "C:\\Users\\Joseph\\AppData\\Local\\Temp\\ipykernel_3244\\1313462982.py:14: DeprecationWarning: The 'text' argument to find()-type methods is deprecated. Use 'string' instead.\n",
      "  cell_text = ' '.join([text.strip() for text in cell.find_all(text=True)])\n",
      "C:\\Users\\Joseph\\AppData\\Local\\Temp\\ipykernel_3244\\1313462982.py:14: DeprecationWarning: The 'text' argument to find()-type methods is deprecated. Use 'string' instead.\n",
      "  cell_text = ' '.join([text.strip() for text in cell.find_all(text=True)])\n",
      "C:\\Users\\Joseph\\AppData\\Local\\Temp\\ipykernel_3244\\1313462982.py:14: DeprecationWarning: The 'text' argument to find()-type methods is deprecated. Use 'string' instead.\n",
      "  cell_text = ' '.join([text.strip() for text in cell.find_all(text=True)])\n",
      "C:\\Users\\Joseph\\AppData\\Local\\Temp\\ipykernel_3244\\1313462982.py:14: DeprecationWarning: The 'text' argument to find()-type methods is deprecated. Use 'string' instead.\n",
      "  cell_text = ' '.join([text.strip() for text in cell.find_all(text=True)])\n",
      "C:\\Users\\Joseph\\AppData\\Local\\Temp\\ipykernel_3244\\1313462982.py:14: DeprecationWarning: The 'text' argument to find()-type methods is deprecated. Use 'string' instead.\n",
      "  cell_text = ' '.join([text.strip() for text in cell.find_all(text=True)])\n",
      "C:\\Users\\Joseph\\AppData\\Local\\Temp\\ipykernel_3244\\1313462982.py:14: DeprecationWarning: The 'text' argument to find()-type methods is deprecated. Use 'string' instead.\n",
      "  cell_text = ' '.join([text.strip() for text in cell.find_all(text=True)])\n",
      "C:\\Users\\Joseph\\AppData\\Local\\Temp\\ipykernel_3244\\1313462982.py:14: DeprecationWarning: The 'text' argument to find()-type methods is deprecated. Use 'string' instead.\n",
      "  cell_text = ' '.join([text.strip() for text in cell.find_all(text=True)])\n",
      "C:\\Users\\Joseph\\AppData\\Local\\Temp\\ipykernel_3244\\1313462982.py:14: DeprecationWarning: The 'text' argument to find()-type methods is deprecated. Use 'string' instead.\n",
      "  cell_text = ' '.join([text.strip() for text in cell.find_all(text=True)])\n",
      "C:\\Users\\Joseph\\AppData\\Local\\Temp\\ipykernel_3244\\1313462982.py:14: DeprecationWarning: The 'text' argument to find()-type methods is deprecated. Use 'string' instead.\n",
      "  cell_text = ' '.join([text.strip() for text in cell.find_all(text=True)])\n",
      "C:\\Users\\Joseph\\AppData\\Local\\Temp\\ipykernel_3244\\1313462982.py:14: DeprecationWarning: The 'text' argument to find()-type methods is deprecated. Use 'string' instead.\n",
      "  cell_text = ' '.join([text.strip() for text in cell.find_all(text=True)])\n",
      "C:\\Users\\Joseph\\AppData\\Local\\Temp\\ipykernel_3244\\1313462982.py:14: DeprecationWarning: The 'text' argument to find()-type methods is deprecated. Use 'string' instead.\n",
      "  cell_text = ' '.join([text.strip() for text in cell.find_all(text=True)])\n",
      "C:\\Users\\Joseph\\AppData\\Local\\Temp\\ipykernel_3244\\1313462982.py:14: DeprecationWarning: The 'text' argument to find()-type methods is deprecated. Use 'string' instead.\n",
      "  cell_text = ' '.join([text.strip() for text in cell.find_all(text=True)])\n",
      "C:\\Users\\Joseph\\AppData\\Local\\Temp\\ipykernel_3244\\1313462982.py:14: DeprecationWarning: The 'text' argument to find()-type methods is deprecated. Use 'string' instead.\n",
      "  cell_text = ' '.join([text.strip() for text in cell.find_all(text=True)])\n"
     ]
    }
   ],
   "source": [
    "files = get_files(\"data/raw/halving/02/\")\n",
    "halving_03_all = make_halving_03(files)"
   ]
  },
  {
   "cell_type": "code",
   "execution_count": 72,
   "metadata": {},
   "outputs": [
    {
     "data": {
      "text/plain": [
       "(24955, 12)"
      ]
     },
     "execution_count": 72,
     "metadata": {},
     "output_type": "execute_result"
    }
   ],
   "source": [
    "halving_03_all.shape"
   ]
  },
  {
   "cell_type": "code",
   "execution_count": 73,
   "metadata": {},
   "outputs": [],
   "source": [
    "halving_03_all.to_csv(\"data/clean/halving_02.csv\",index=False)"
   ]
  },
  {
   "cell_type": "code",
   "execution_count": 74,
   "metadata": {},
   "outputs": [
    {
     "name": "stderr",
     "output_type": "stream",
     "text": [
      "C:\\Users\\Joseph\\AppData\\Local\\Temp\\ipykernel_3244\\1313462982.py:14: DeprecationWarning: The 'text' argument to find()-type methods is deprecated. Use 'string' instead.\n",
      "  cell_text = ' '.join([text.strip() for text in cell.find_all(text=True)])\n",
      "C:\\Users\\Joseph\\AppData\\Local\\Temp\\ipykernel_3244\\1313462982.py:14: DeprecationWarning: The 'text' argument to find()-type methods is deprecated. Use 'string' instead.\n",
      "  cell_text = ' '.join([text.strip() for text in cell.find_all(text=True)])\n",
      "C:\\Users\\Joseph\\AppData\\Local\\Temp\\ipykernel_3244\\1313462982.py:14: DeprecationWarning: The 'text' argument to find()-type methods is deprecated. Use 'string' instead.\n",
      "  cell_text = ' '.join([text.strip() for text in cell.find_all(text=True)])\n",
      "C:\\Users\\Joseph\\AppData\\Local\\Temp\\ipykernel_3244\\1313462982.py:14: DeprecationWarning: The 'text' argument to find()-type methods is deprecated. Use 'string' instead.\n",
      "  cell_text = ' '.join([text.strip() for text in cell.find_all(text=True)])\n",
      "C:\\Users\\Joseph\\AppData\\Local\\Temp\\ipykernel_3244\\1313462982.py:14: DeprecationWarning: The 'text' argument to find()-type methods is deprecated. Use 'string' instead.\n",
      "  cell_text = ' '.join([text.strip() for text in cell.find_all(text=True)])\n",
      "C:\\Users\\Joseph\\AppData\\Local\\Temp\\ipykernel_3244\\1313462982.py:14: DeprecationWarning: The 'text' argument to find()-type methods is deprecated. Use 'string' instead.\n",
      "  cell_text = ' '.join([text.strip() for text in cell.find_all(text=True)])\n",
      "C:\\Users\\Joseph\\AppData\\Local\\Temp\\ipykernel_3244\\1313462982.py:14: DeprecationWarning: The 'text' argument to find()-type methods is deprecated. Use 'string' instead.\n",
      "  cell_text = ' '.join([text.strip() for text in cell.find_all(text=True)])\n",
      "C:\\Users\\Joseph\\AppData\\Local\\Temp\\ipykernel_3244\\1313462982.py:14: DeprecationWarning: The 'text' argument to find()-type methods is deprecated. Use 'string' instead.\n",
      "  cell_text = ' '.join([text.strip() for text in cell.find_all(text=True)])\n",
      "C:\\Users\\Joseph\\AppData\\Local\\Temp\\ipykernel_3244\\1313462982.py:14: DeprecationWarning: The 'text' argument to find()-type methods is deprecated. Use 'string' instead.\n",
      "  cell_text = ' '.join([text.strip() for text in cell.find_all(text=True)])\n",
      "C:\\Users\\Joseph\\AppData\\Local\\Temp\\ipykernel_3244\\1313462982.py:14: DeprecationWarning: The 'text' argument to find()-type methods is deprecated. Use 'string' instead.\n",
      "  cell_text = ' '.join([text.strip() for text in cell.find_all(text=True)])\n",
      "C:\\Users\\Joseph\\AppData\\Local\\Temp\\ipykernel_3244\\1313462982.py:14: DeprecationWarning: The 'text' argument to find()-type methods is deprecated. Use 'string' instead.\n",
      "  cell_text = ' '.join([text.strip() for text in cell.find_all(text=True)])\n",
      "C:\\Users\\Joseph\\AppData\\Local\\Temp\\ipykernel_3244\\1313462982.py:14: DeprecationWarning: The 'text' argument to find()-type methods is deprecated. Use 'string' instead.\n",
      "  cell_text = ' '.join([text.strip() for text in cell.find_all(text=True)])\n",
      "C:\\Users\\Joseph\\AppData\\Local\\Temp\\ipykernel_3244\\1313462982.py:14: DeprecationWarning: The 'text' argument to find()-type methods is deprecated. Use 'string' instead.\n",
      "  cell_text = ' '.join([text.strip() for text in cell.find_all(text=True)])\n",
      "C:\\Users\\Joseph\\AppData\\Local\\Temp\\ipykernel_3244\\1313462982.py:14: DeprecationWarning: The 'text' argument to find()-type methods is deprecated. Use 'string' instead.\n",
      "  cell_text = ' '.join([text.strip() for text in cell.find_all(text=True)])\n",
      "C:\\Users\\Joseph\\AppData\\Local\\Temp\\ipykernel_3244\\1313462982.py:14: DeprecationWarning: The 'text' argument to find()-type methods is deprecated. Use 'string' instead.\n",
      "  cell_text = ' '.join([text.strip() for text in cell.find_all(text=True)])\n",
      "C:\\Users\\Joseph\\AppData\\Local\\Temp\\ipykernel_3244\\1313462982.py:14: DeprecationWarning: The 'text' argument to find()-type methods is deprecated. Use 'string' instead.\n",
      "  cell_text = ' '.join([text.strip() for text in cell.find_all(text=True)])\n",
      "C:\\Users\\Joseph\\AppData\\Local\\Temp\\ipykernel_3244\\1313462982.py:14: DeprecationWarning: The 'text' argument to find()-type methods is deprecated. Use 'string' instead.\n",
      "  cell_text = ' '.join([text.strip() for text in cell.find_all(text=True)])\n",
      "C:\\Users\\Joseph\\AppData\\Local\\Temp\\ipykernel_3244\\1313462982.py:14: DeprecationWarning: The 'text' argument to find()-type methods is deprecated. Use 'string' instead.\n",
      "  cell_text = ' '.join([text.strip() for text in cell.find_all(text=True)])\n",
      "C:\\Users\\Joseph\\AppData\\Local\\Temp\\ipykernel_3244\\1313462982.py:14: DeprecationWarning: The 'text' argument to find()-type methods is deprecated. Use 'string' instead.\n",
      "  cell_text = ' '.join([text.strip() for text in cell.find_all(text=True)])\n",
      "C:\\Users\\Joseph\\AppData\\Local\\Temp\\ipykernel_3244\\1313462982.py:14: DeprecationWarning: The 'text' argument to find()-type methods is deprecated. Use 'string' instead.\n",
      "  cell_text = ' '.join([text.strip() for text in cell.find_all(text=True)])\n",
      "C:\\Users\\Joseph\\AppData\\Local\\Temp\\ipykernel_3244\\1313462982.py:14: DeprecationWarning: The 'text' argument to find()-type methods is deprecated. Use 'string' instead.\n",
      "  cell_text = ' '.join([text.strip() for text in cell.find_all(text=True)])\n",
      "C:\\Users\\Joseph\\AppData\\Local\\Temp\\ipykernel_3244\\1313462982.py:14: DeprecationWarning: The 'text' argument to find()-type methods is deprecated. Use 'string' instead.\n",
      "  cell_text = ' '.join([text.strip() for text in cell.find_all(text=True)])\n",
      "C:\\Users\\Joseph\\AppData\\Local\\Temp\\ipykernel_3244\\1313462982.py:14: DeprecationWarning: The 'text' argument to find()-type methods is deprecated. Use 'string' instead.\n",
      "  cell_text = ' '.join([text.strip() for text in cell.find_all(text=True)])\n",
      "C:\\Users\\Joseph\\AppData\\Local\\Temp\\ipykernel_3244\\1313462982.py:14: DeprecationWarning: The 'text' argument to find()-type methods is deprecated. Use 'string' instead.\n",
      "  cell_text = ' '.join([text.strip() for text in cell.find_all(text=True)])\n",
      "C:\\Users\\Joseph\\AppData\\Local\\Temp\\ipykernel_3244\\1313462982.py:14: DeprecationWarning: The 'text' argument to find()-type methods is deprecated. Use 'string' instead.\n",
      "  cell_text = ' '.join([text.strip() for text in cell.find_all(text=True)])\n",
      "C:\\Users\\Joseph\\AppData\\Local\\Temp\\ipykernel_3244\\1313462982.py:14: DeprecationWarning: The 'text' argument to find()-type methods is deprecated. Use 'string' instead.\n",
      "  cell_text = ' '.join([text.strip() for text in cell.find_all(text=True)])\n",
      "C:\\Users\\Joseph\\AppData\\Local\\Temp\\ipykernel_3244\\1313462982.py:14: DeprecationWarning: The 'text' argument to find()-type methods is deprecated. Use 'string' instead.\n",
      "  cell_text = ' '.join([text.strip() for text in cell.find_all(text=True)])\n",
      "C:\\Users\\Joseph\\AppData\\Local\\Temp\\ipykernel_3244\\1313462982.py:14: DeprecationWarning: The 'text' argument to find()-type methods is deprecated. Use 'string' instead.\n",
      "  cell_text = ' '.join([text.strip() for text in cell.find_all(text=True)])\n",
      "C:\\Users\\Joseph\\AppData\\Local\\Temp\\ipykernel_3244\\1313462982.py:14: DeprecationWarning: The 'text' argument to find()-type methods is deprecated. Use 'string' instead.\n",
      "  cell_text = ' '.join([text.strip() for text in cell.find_all(text=True)])\n",
      "C:\\Users\\Joseph\\AppData\\Local\\Temp\\ipykernel_3244\\1313462982.py:14: DeprecationWarning: The 'text' argument to find()-type methods is deprecated. Use 'string' instead.\n",
      "  cell_text = ' '.join([text.strip() for text in cell.find_all(text=True)])\n",
      "C:\\Users\\Joseph\\AppData\\Local\\Temp\\ipykernel_3244\\1313462982.py:14: DeprecationWarning: The 'text' argument to find()-type methods is deprecated. Use 'string' instead.\n",
      "  cell_text = ' '.join([text.strip() for text in cell.find_all(text=True)])\n",
      "C:\\Users\\Joseph\\AppData\\Local\\Temp\\ipykernel_3244\\1313462982.py:14: DeprecationWarning: The 'text' argument to find()-type methods is deprecated. Use 'string' instead.\n",
      "  cell_text = ' '.join([text.strip() for text in cell.find_all(text=True)])\n",
      "C:\\Users\\Joseph\\AppData\\Local\\Temp\\ipykernel_3244\\1313462982.py:14: DeprecationWarning: The 'text' argument to find()-type methods is deprecated. Use 'string' instead.\n",
      "  cell_text = ' '.join([text.strip() for text in cell.find_all(text=True)])\n",
      "C:\\Users\\Joseph\\AppData\\Local\\Temp\\ipykernel_3244\\1313462982.py:14: DeprecationWarning: The 'text' argument to find()-type methods is deprecated. Use 'string' instead.\n",
      "  cell_text = ' '.join([text.strip() for text in cell.find_all(text=True)])\n",
      "C:\\Users\\Joseph\\AppData\\Local\\Temp\\ipykernel_3244\\1313462982.py:14: DeprecationWarning: The 'text' argument to find()-type methods is deprecated. Use 'string' instead.\n",
      "  cell_text = ' '.join([text.strip() for text in cell.find_all(text=True)])\n",
      "C:\\Users\\Joseph\\AppData\\Local\\Temp\\ipykernel_3244\\1313462982.py:14: DeprecationWarning: The 'text' argument to find()-type methods is deprecated. Use 'string' instead.\n",
      "  cell_text = ' '.join([text.strip() for text in cell.find_all(text=True)])\n",
      "C:\\Users\\Joseph\\AppData\\Local\\Temp\\ipykernel_3244\\1313462982.py:14: DeprecationWarning: The 'text' argument to find()-type methods is deprecated. Use 'string' instead.\n",
      "  cell_text = ' '.join([text.strip() for text in cell.find_all(text=True)])\n",
      "C:\\Users\\Joseph\\AppData\\Local\\Temp\\ipykernel_3244\\1313462982.py:14: DeprecationWarning: The 'text' argument to find()-type methods is deprecated. Use 'string' instead.\n",
      "  cell_text = ' '.join([text.strip() for text in cell.find_all(text=True)])\n",
      "C:\\Users\\Joseph\\AppData\\Local\\Temp\\ipykernel_3244\\1313462982.py:14: DeprecationWarning: The 'text' argument to find()-type methods is deprecated. Use 'string' instead.\n",
      "  cell_text = ' '.join([text.strip() for text in cell.find_all(text=True)])\n"
     ]
    }
   ],
   "source": [
    "files  = get_files(\"data/raw/halving/03/\")\n",
    "halving_03_all = make_halving_03(files)\n",
    "halving_03_all.to_csv(\"data/clean/halving_03.csv\",index=False)"
   ]
  },
  {
   "cell_type": "code",
   "execution_count": 75,
   "metadata": {},
   "outputs": [
    {
     "name": "stderr",
     "output_type": "stream",
     "text": [
      "C:\\Users\\Joseph\\AppData\\Local\\Temp\\ipykernel_3244\\1313462982.py:14: DeprecationWarning: The 'text' argument to find()-type methods is deprecated. Use 'string' instead.\n",
      "  cell_text = ' '.join([text.strip() for text in cell.find_all(text=True)])\n"
     ]
    }
   ],
   "source": [
    "files  = get_files(\"data/raw/halving/04/\")\n",
    "halving_03_all = make_halving_03(files)\n",
    "halving_03_all.to_csv(\"data/clean/halving_04.csv\",index=False)"
   ]
  },
  {
   "cell_type": "code",
   "execution_count": 129,
   "metadata": {},
   "outputs": [],
   "source": [
    "halving_01 = pd.read_csv(\"data/clean/halving_01.csv\")\n"
   ]
  },
  {
   "cell_type": "code",
   "execution_count": 130,
   "metadata": {},
   "outputs": [
    {
     "data": {
      "text/html": [
       "<div>\n",
       "<style scoped>\n",
       "    .dataframe tbody tr th:only-of-type {\n",
       "        vertical-align: middle;\n",
       "    }\n",
       "\n",
       "    .dataframe tbody tr th {\n",
       "        vertical-align: top;\n",
       "    }\n",
       "\n",
       "    .dataframe thead th {\n",
       "        text-align: right;\n",
       "    }\n",
       "</style>\n",
       "<table border=\"1\" class=\"dataframe\">\n",
       "  <thead>\n",
       "    <tr style=\"text-align: right;\">\n",
       "      <th></th>\n",
       "      <th>0</th>\n",
       "      <th>1</th>\n",
       "      <th>2</th>\n",
       "      <th>3</th>\n",
       "      <th>4</th>\n",
       "      <th>5</th>\n",
       "      <th>6</th>\n",
       "      <th>7</th>\n",
       "      <th>8</th>\n",
       "      <th>9</th>\n",
       "      <th>date</th>\n",
       "    </tr>\n",
       "  </thead>\n",
       "  <tbody>\n",
       "    <tr>\n",
       "      <th>0</th>\n",
       "      <td>1</td>\n",
       "      <td>BTC Bitcoin</td>\n",
       "      <td>BTC</td>\n",
       "      <td>$1,488,566,971.96</td>\n",
       "      <td>$134.21</td>\n",
       "      <td>11.091.325  BTC</td>\n",
       "      <td>0,64  %</td>\n",
       "      <td>--</td>\n",
       "      <td>--</td>\n",
       "      <td>NaN</td>\n",
       "      <td>2013_04_28</td>\n",
       "    </tr>\n",
       "    <tr>\n",
       "      <th>1</th>\n",
       "      <td>2</td>\n",
       "      <td>LTC Litecoin</td>\n",
       "      <td>LTC</td>\n",
       "      <td>$74,637,021.57</td>\n",
       "      <td>$4.3484</td>\n",
       "      <td>17.164.230  LTC</td>\n",
       "      <td>0,80  %</td>\n",
       "      <td>--</td>\n",
       "      <td>--</td>\n",
       "      <td>NaN</td>\n",
       "      <td>2013_04_28</td>\n",
       "    </tr>\n",
       "    <tr>\n",
       "      <th>2</th>\n",
       "      <td>3</td>\n",
       "      <td>PPC Peercoin</td>\n",
       "      <td>PPC</td>\n",
       "      <td>$7,250,186.65</td>\n",
       "      <td>$0.3865</td>\n",
       "      <td>18.757.362  PPC</td>\n",
       "      <td>-0,93  %</td>\n",
       "      <td>--</td>\n",
       "      <td>--</td>\n",
       "      <td>NaN</td>\n",
       "      <td>2013_04_28</td>\n",
       "    </tr>\n",
       "    <tr>\n",
       "      <th>3</th>\n",
       "      <td>4</td>\n",
       "      <td>NMC Namecoin</td>\n",
       "      <td>NMC</td>\n",
       "      <td>$5,995,997.19</td>\n",
       "      <td>$1.1072</td>\n",
       "      <td>5.415.300  NMC</td>\n",
       "      <td>-0,05  %</td>\n",
       "      <td>--</td>\n",
       "      <td>--</td>\n",
       "      <td>NaN</td>\n",
       "      <td>2013_04_28</td>\n",
       "    </tr>\n",
       "    <tr>\n",
       "      <th>4</th>\n",
       "      <td>5</td>\n",
       "      <td>TRC Terracoin</td>\n",
       "      <td>TRC</td>\n",
       "      <td>$1,503,099.40</td>\n",
       "      <td>$0.6469</td>\n",
       "      <td>2.323.570  TRC</td>\n",
       "      <td>0,61  %</td>\n",
       "      <td>--</td>\n",
       "      <td>--</td>\n",
       "      <td>NaN</td>\n",
       "      <td>2013_04_28</td>\n",
       "    </tr>\n",
       "  </tbody>\n",
       "</table>\n",
       "</div>"
      ],
      "text/plain": [
       "   0              1    2                  3        4                5  \\\n",
       "0  1    BTC Bitcoin  BTC  $1,488,566,971.96  $134.21  11.091.325  BTC   \n",
       "1  2   LTC Litecoin  LTC     $74,637,021.57  $4.3484  17.164.230  LTC   \n",
       "2  3   PPC Peercoin  PPC      $7,250,186.65  $0.3865  18.757.362  PPC   \n",
       "3  4   NMC Namecoin  NMC      $5,995,997.19  $1.1072   5.415.300  NMC   \n",
       "4  5  TRC Terracoin  TRC      $1,503,099.40  $0.6469   2.323.570  TRC   \n",
       "\n",
       "          6   7   8   9        date  \n",
       "0   0,64  %  --  -- NaN  2013_04_28  \n",
       "1   0,80  %  --  -- NaN  2013_04_28  \n",
       "2  -0,93  %  --  -- NaN  2013_04_28  \n",
       "3  -0,05  %  --  -- NaN  2013_04_28  \n",
       "4   0,61  %  --  -- NaN  2013_04_28  "
      ]
     },
     "execution_count": 130,
     "metadata": {},
     "output_type": "execute_result"
    }
   ],
   "source": [
    "halving_01.head()"
   ]
  },
  {
   "cell_type": "code",
   "execution_count": 131,
   "metadata": {},
   "outputs": [],
   "source": [
    "halving_01.replace(\"--\",None,inplace=True)"
   ]
  },
  {
   "cell_type": "code",
   "execution_count": 132,
   "metadata": {},
   "outputs": [
    {
     "data": {
      "text/html": [
       "<div>\n",
       "<style scoped>\n",
       "    .dataframe tbody tr th:only-of-type {\n",
       "        vertical-align: middle;\n",
       "    }\n",
       "\n",
       "    .dataframe tbody tr th {\n",
       "        vertical-align: top;\n",
       "    }\n",
       "\n",
       "    .dataframe thead th {\n",
       "        text-align: right;\n",
       "    }\n",
       "</style>\n",
       "<table border=\"1\" class=\"dataframe\">\n",
       "  <thead>\n",
       "    <tr style=\"text-align: right;\">\n",
       "      <th></th>\n",
       "      <th>0</th>\n",
       "      <th>1</th>\n",
       "      <th>2</th>\n",
       "      <th>3</th>\n",
       "      <th>4</th>\n",
       "      <th>5</th>\n",
       "      <th>6</th>\n",
       "      <th>7</th>\n",
       "      <th>8</th>\n",
       "      <th>9</th>\n",
       "      <th>date</th>\n",
       "    </tr>\n",
       "  </thead>\n",
       "  <tbody>\n",
       "    <tr>\n",
       "      <th>0</th>\n",
       "      <td>1</td>\n",
       "      <td>BTC Bitcoin</td>\n",
       "      <td>BTC</td>\n",
       "      <td>$1,488,566,971.96</td>\n",
       "      <td>$134.21</td>\n",
       "      <td>11.091.325  BTC</td>\n",
       "      <td>0,64  %</td>\n",
       "      <td>None</td>\n",
       "      <td>None</td>\n",
       "      <td>NaN</td>\n",
       "      <td>2013_04_28</td>\n",
       "    </tr>\n",
       "    <tr>\n",
       "      <th>1</th>\n",
       "      <td>2</td>\n",
       "      <td>LTC Litecoin</td>\n",
       "      <td>LTC</td>\n",
       "      <td>$74,637,021.57</td>\n",
       "      <td>$4.3484</td>\n",
       "      <td>17.164.230  LTC</td>\n",
       "      <td>0,80  %</td>\n",
       "      <td>None</td>\n",
       "      <td>None</td>\n",
       "      <td>NaN</td>\n",
       "      <td>2013_04_28</td>\n",
       "    </tr>\n",
       "    <tr>\n",
       "      <th>2</th>\n",
       "      <td>3</td>\n",
       "      <td>PPC Peercoin</td>\n",
       "      <td>PPC</td>\n",
       "      <td>$7,250,186.65</td>\n",
       "      <td>$0.3865</td>\n",
       "      <td>18.757.362  PPC</td>\n",
       "      <td>-0,93  %</td>\n",
       "      <td>None</td>\n",
       "      <td>None</td>\n",
       "      <td>NaN</td>\n",
       "      <td>2013_04_28</td>\n",
       "    </tr>\n",
       "    <tr>\n",
       "      <th>3</th>\n",
       "      <td>4</td>\n",
       "      <td>NMC Namecoin</td>\n",
       "      <td>NMC</td>\n",
       "      <td>$5,995,997.19</td>\n",
       "      <td>$1.1072</td>\n",
       "      <td>5.415.300  NMC</td>\n",
       "      <td>-0,05  %</td>\n",
       "      <td>None</td>\n",
       "      <td>None</td>\n",
       "      <td>NaN</td>\n",
       "      <td>2013_04_28</td>\n",
       "    </tr>\n",
       "    <tr>\n",
       "      <th>4</th>\n",
       "      <td>5</td>\n",
       "      <td>TRC Terracoin</td>\n",
       "      <td>TRC</td>\n",
       "      <td>$1,503,099.40</td>\n",
       "      <td>$0.6469</td>\n",
       "      <td>2.323.570  TRC</td>\n",
       "      <td>0,61  %</td>\n",
       "      <td>None</td>\n",
       "      <td>None</td>\n",
       "      <td>NaN</td>\n",
       "      <td>2013_04_28</td>\n",
       "    </tr>\n",
       "  </tbody>\n",
       "</table>\n",
       "</div>"
      ],
      "text/plain": [
       "   0              1    2                  3        4                5  \\\n",
       "0  1    BTC Bitcoin  BTC  $1,488,566,971.96  $134.21  11.091.325  BTC   \n",
       "1  2   LTC Litecoin  LTC     $74,637,021.57  $4.3484  17.164.230  LTC   \n",
       "2  3   PPC Peercoin  PPC      $7,250,186.65  $0.3865  18.757.362  PPC   \n",
       "3  4   NMC Namecoin  NMC      $5,995,997.19  $1.1072   5.415.300  NMC   \n",
       "4  5  TRC Terracoin  TRC      $1,503,099.40  $0.6469   2.323.570  TRC   \n",
       "\n",
       "          6     7     8   9        date  \n",
       "0   0,64  %  None  None NaN  2013_04_28  \n",
       "1   0,80  %  None  None NaN  2013_04_28  \n",
       "2  -0,93  %  None  None NaN  2013_04_28  \n",
       "3  -0,05  %  None  None NaN  2013_04_28  \n",
       "4   0,61  %  None  None NaN  2013_04_28  "
      ]
     },
     "execution_count": 132,
     "metadata": {},
     "output_type": "execute_result"
    }
   ],
   "source": [
    "halving_01.head()"
   ]
  },
  {
   "cell_type": "code",
   "execution_count": 133,
   "metadata": {},
   "outputs": [],
   "source": [
    "halving_01.drop(columns=['9'],inplace=True)"
   ]
  },
  {
   "cell_type": "code",
   "execution_count": 134,
   "metadata": {},
   "outputs": [],
   "source": [
    "halving_01.rename(columns={\"0\":\"rank\",\"1\":\"name\",\"2\":\"symbol\",\"3\":\"market_cap\",\"4\":'price',\"5\":\"circulating_supply\",\"6\":\"%1h\",\"7\":'%7h',\"8\":'%24h'},inplace=True)"
   ]
  },
  {
   "cell_type": "code",
   "execution_count": 135,
   "metadata": {},
   "outputs": [],
   "source": [
    "halving_01['date'] = halving_01['date'].apply(lambda x: x.replace(\"_\",\"-\"))"
   ]
  },
  {
   "cell_type": "code",
   "execution_count": 136,
   "metadata": {},
   "outputs": [],
   "source": [
    "halving_01['%1h'] = halving_01['%1h'].apply(lambda x: x.replace(\"%\",\"\"))\n",
    "halving_01['%1h'] = halving_01['%1h'].apply(lambda x: x.replace(\",\",\".\"))\n",
    "halving_01['%7h'] = halving_01['%1h'].apply(lambda x: x.replace(\"%\",\"\"))\n",
    "halving_01['%24h'] = halving_01['%1h'].apply(lambda x: x.replace(\"%\",\"\"))\n"
   ]
  },
  {
   "cell_type": "code",
   "execution_count": 137,
   "metadata": {},
   "outputs": [],
   "source": [
    "halving_01['price']= halving_01['price'].apply(lambda x: x.replace(\"$\",\"\"))\n",
    "halving_01['market_cap']= halving_01['market_cap'].apply(lambda x: x.replace(\"$\",\"\"))\n",
    "halving_01['market_cap']= halving_01['market_cap'].apply(lambda x: x.replace(\",\",\"\"))\n",
    "halving_01['name'] = halving_01['name'].apply(lambda x: x.split(\" \")[1])"
   ]
  },
  {
   "cell_type": "code",
   "execution_count": 150,
   "metadata": {},
   "outputs": [],
   "source": [
    "halving_01['circulating_supply'] = halving_01['circulating_supply'].apply(lambda x: x.replace(\".\",\"\"))"
   ]
  },
  {
   "cell_type": "code",
   "execution_count": 139,
   "metadata": {},
   "outputs": [],
   "source": [
    "halving_01['circulating_supply']= halving_01['circulating_supply'].apply(lambda x: x.split(\" \")[0])"
   ]
  },
  {
   "cell_type": "code",
   "execution_count": 151,
   "metadata": {},
   "outputs": [
    {
     "data": {
      "text/html": [
       "<div>\n",
       "<style scoped>\n",
       "    .dataframe tbody tr th:only-of-type {\n",
       "        vertical-align: middle;\n",
       "    }\n",
       "\n",
       "    .dataframe tbody tr th {\n",
       "        vertical-align: top;\n",
       "    }\n",
       "\n",
       "    .dataframe thead th {\n",
       "        text-align: right;\n",
       "    }\n",
       "</style>\n",
       "<table border=\"1\" class=\"dataframe\">\n",
       "  <thead>\n",
       "    <tr style=\"text-align: right;\">\n",
       "      <th></th>\n",
       "      <th>rank</th>\n",
       "      <th>name</th>\n",
       "      <th>symbol</th>\n",
       "      <th>market_cap</th>\n",
       "      <th>price</th>\n",
       "      <th>circulating_supply</th>\n",
       "      <th>%1h</th>\n",
       "      <th>%7h</th>\n",
       "      <th>%24h</th>\n",
       "      <th>date</th>\n",
       "    </tr>\n",
       "  </thead>\n",
       "  <tbody>\n",
       "    <tr>\n",
       "      <th>0</th>\n",
       "      <td>1</td>\n",
       "      <td>Bitcoin</td>\n",
       "      <td>BTC</td>\n",
       "      <td>1488566971.96</td>\n",
       "      <td>134.21</td>\n",
       "      <td>11091325</td>\n",
       "      <td>0.64</td>\n",
       "      <td>0.64</td>\n",
       "      <td>0.64</td>\n",
       "      <td>2013-04-28</td>\n",
       "    </tr>\n",
       "    <tr>\n",
       "      <th>1</th>\n",
       "      <td>2</td>\n",
       "      <td>Litecoin</td>\n",
       "      <td>LTC</td>\n",
       "      <td>74637021.57</td>\n",
       "      <td>4.3484</td>\n",
       "      <td>17164230</td>\n",
       "      <td>0.80</td>\n",
       "      <td>0.80</td>\n",
       "      <td>0.80</td>\n",
       "      <td>2013-04-28</td>\n",
       "    </tr>\n",
       "    <tr>\n",
       "      <th>2</th>\n",
       "      <td>3</td>\n",
       "      <td>Peercoin</td>\n",
       "      <td>PPC</td>\n",
       "      <td>7250186.65</td>\n",
       "      <td>0.3865</td>\n",
       "      <td>18757362</td>\n",
       "      <td>-0.93</td>\n",
       "      <td>-0.93</td>\n",
       "      <td>-0.93</td>\n",
       "      <td>2013-04-28</td>\n",
       "    </tr>\n",
       "    <tr>\n",
       "      <th>3</th>\n",
       "      <td>4</td>\n",
       "      <td>Namecoin</td>\n",
       "      <td>NMC</td>\n",
       "      <td>5995997.19</td>\n",
       "      <td>1.1072</td>\n",
       "      <td>5415300</td>\n",
       "      <td>-0.05</td>\n",
       "      <td>-0.05</td>\n",
       "      <td>-0.05</td>\n",
       "      <td>2013-04-28</td>\n",
       "    </tr>\n",
       "    <tr>\n",
       "      <th>4</th>\n",
       "      <td>5</td>\n",
       "      <td>Terracoin</td>\n",
       "      <td>TRC</td>\n",
       "      <td>1503099.40</td>\n",
       "      <td>0.6469</td>\n",
       "      <td>2323570</td>\n",
       "      <td>0.61</td>\n",
       "      <td>0.61</td>\n",
       "      <td>0.61</td>\n",
       "      <td>2013-04-28</td>\n",
       "    </tr>\n",
       "  </tbody>\n",
       "</table>\n",
       "</div>"
      ],
      "text/plain": [
       "   rank       name symbol     market_cap   price circulating_supply      %1h  \\\n",
       "0     1    Bitcoin    BTC  1488566971.96  134.21           11091325   0.64     \n",
       "1     2   Litecoin    LTC    74637021.57  4.3484           17164230   0.80     \n",
       "2     3   Peercoin    PPC     7250186.65  0.3865           18757362  -0.93     \n",
       "3     4   Namecoin    NMC     5995997.19  1.1072            5415300  -0.05     \n",
       "4     5  Terracoin    TRC     1503099.40  0.6469            2323570   0.61     \n",
       "\n",
       "       %7h     %24h        date  \n",
       "0   0.64     0.64    2013-04-28  \n",
       "1   0.80     0.80    2013-04-28  \n",
       "2  -0.93    -0.93    2013-04-28  \n",
       "3  -0.05    -0.05    2013-04-28  \n",
       "4   0.61     0.61    2013-04-28  "
      ]
     },
     "execution_count": 151,
     "metadata": {},
     "output_type": "execute_result"
    }
   ],
   "source": [
    "halving_01.head()"
   ]
  },
  {
   "cell_type": "code",
   "execution_count": 152,
   "metadata": {},
   "outputs": [],
   "source": [
    "halving_01.to_csv(\"data/clean/halving_01_v2.csv\",index=False)"
   ]
  },
  {
   "cell_type": "code",
   "execution_count": 155,
   "metadata": {},
   "outputs": [],
   "source": [
    "halving_02 = pd.read_csv(\"data/clean/halving_02.csv\")"
   ]
  },
  {
   "cell_type": "code",
   "execution_count": 156,
   "metadata": {},
   "outputs": [],
   "source": [
    "columns = {\"0\":\"rank\",\"1\":\"name\",\"2\":\"symbol\",\"3\":\"market_cap\",\"4\":'price',\"5\":\"circulating_supply\",\"6\":\"volume_24h\",\"7\":\"%1h\",\"8\":'%7h',\"9\":'%24h'}"
   ]
  },
  {
   "cell_type": "code",
   "execution_count": 157,
   "metadata": {},
   "outputs": [],
   "source": [
    "halving_02.rename(columns=columns,inplace=True)"
   ]
  },
  {
   "cell_type": "code",
   "execution_count": 158,
   "metadata": {},
   "outputs": [],
   "source": [
    "halving_02.drop(columns=['10'],inplace=True)"
   ]
  },
  {
   "cell_type": "code",
   "execution_count": 159,
   "metadata": {},
   "outputs": [],
   "source": [
    "halving_02['date'] = halving_02['date'].apply(lambda x: x.replace(\"_\",\"-\"))"
   ]
  },
  {
   "cell_type": "code",
   "execution_count": 161,
   "metadata": {},
   "outputs": [],
   "source": [
    "halving_02['name'] = halving_02['name'].apply(lambda x: x.split(\" \")[1])\n",
    "halving_02['market_cap']= halving_02['market_cap'].apply(lambda x: x.replace(\"$\",\"\"))\n",
    "halving_02['market_cap']= halving_02['market_cap'].apply(lambda x: x.replace(\",\",\"\"))\n",
    "halving_02['price']= halving_02['price'].apply(lambda x: x.replace(\"$\",\"\"))\n",
    "halving_02['price']= halving_02['price'].apply(lambda x: x.replace(\",\",\"\"))\n",
    "halving_02['circulating_supply']= halving_02['circulating_supply'].apply(lambda x: x.split(\" \")[0])\n",
    "halving_02['circulating_supply'] = halving_02['circulating_supply'].apply(lambda x: x.replace(\".\",\"\"))\n",
    "halving_02['volume_24h'] = halving_02['volume_24h'].apply(lambda x: x.replace(\"$\",\"\"))\n",
    "halving_02['volume_24h'] = halving_02['volume_24h'].apply(lambda x: x.replace(\",\",\"\"))\n",
    "halving_02['%1h'] = halving_02['%1h'].apply(lambda x: x.replace(\"%\",\"\"))\n",
    "halving_02['%7h'] = halving_02['%7h'].apply(lambda x: x.replace(\"%\",\"\"))\n",
    "halving_02['%24h'] = halving_02['%24h'].apply(lambda x: x.replace(\"%\",\"\"))\n",
    "halving_02['%1h'] = halving_02['%1h'].apply(lambda x: x.replace(\",\",\".\"))\n",
    "halving_02['%7h'] = halving_02['%7h'].apply(lambda x: x.replace(\",\",\".\"))\n",
    "halving_02['%24h'] = halving_02['%24h'].apply(lambda x: x.replace(\",\",\".\"))\n"
   ]
  },
  {
   "cell_type": "code",
   "execution_count": 164,
   "metadata": {},
   "outputs": [
    {
     "data": {
      "text/html": [
       "<div>\n",
       "<style scoped>\n",
       "    .dataframe tbody tr th:only-of-type {\n",
       "        vertical-align: middle;\n",
       "    }\n",
       "\n",
       "    .dataframe tbody tr th {\n",
       "        vertical-align: top;\n",
       "    }\n",
       "\n",
       "    .dataframe thead th {\n",
       "        text-align: right;\n",
       "    }\n",
       "</style>\n",
       "<table border=\"1\" class=\"dataframe\">\n",
       "  <thead>\n",
       "    <tr style=\"text-align: right;\">\n",
       "      <th></th>\n",
       "      <th>rank</th>\n",
       "      <th>name</th>\n",
       "      <th>symbol</th>\n",
       "      <th>market_cap</th>\n",
       "      <th>price</th>\n",
       "      <th>circulating_supply</th>\n",
       "      <th>volume_24h</th>\n",
       "      <th>%1h</th>\n",
       "      <th>%7h</th>\n",
       "      <th>%24h</th>\n",
       "      <th>date</th>\n",
       "    </tr>\n",
       "  </thead>\n",
       "  <tbody>\n",
       "    <tr>\n",
       "      <th>0</th>\n",
       "      <td>1</td>\n",
       "      <td>Bitcoin</td>\n",
       "      <td>BTC</td>\n",
       "      <td>10228999687.31</td>\n",
       "      <td>649.36</td>\n",
       "      <td>15752436</td>\n",
       "      <td>102531800.00</td>\n",
       "      <td>0.17</td>\n",
       "      <td>-0.47</td>\n",
       "      <td>-2.10</td>\n",
       "      <td>2016-07-10</td>\n",
       "    </tr>\n",
       "    <tr>\n",
       "      <th>1</th>\n",
       "      <td>2</td>\n",
       "      <td>Ethereum</td>\n",
       "      <td>ETH</td>\n",
       "      <td>896203756.86</td>\n",
       "      <td>10.95</td>\n",
       "      <td>81862861</td>\n",
       "      <td>5479245.00</td>\n",
       "      <td>0.71</td>\n",
       "      <td>0.41</td>\n",
       "      <td>-6.89</td>\n",
       "      <td>2016-07-10</td>\n",
       "    </tr>\n",
       "    <tr>\n",
       "      <th>2</th>\n",
       "      <td>3</td>\n",
       "      <td>XRP</td>\n",
       "      <td>XRP</td>\n",
       "      <td>235903166.61</td>\n",
       "      <td>0.006674</td>\n",
       "      <td>35345971933</td>\n",
       "      <td>571047.06</td>\n",
       "      <td>0.19</td>\n",
       "      <td>0.07</td>\n",
       "      <td>-2.43</td>\n",
       "      <td>2016-07-10</td>\n",
       "    </tr>\n",
       "    <tr>\n",
       "      <th>3</th>\n",
       "      <td>4</td>\n",
       "      <td>Litecoin</td>\n",
       "      <td>LTC</td>\n",
       "      <td>191042722.28</td>\n",
       "      <td>4.0998</td>\n",
       "      <td>46597754</td>\n",
       "      <td>3039615.00</td>\n",
       "      <td>0.11</td>\n",
       "      <td>-1.03</td>\n",
       "      <td>-4.35</td>\n",
       "      <td>2016-07-10</td>\n",
       "    </tr>\n",
       "    <tr>\n",
       "      <th>4</th>\n",
       "      <td>5</td>\n",
       "      <td>The</td>\n",
       "      <td>DAO</td>\n",
       "      <td>114871661.70</td>\n",
       "      <td>0.09956</td>\n",
       "      <td>1153836913</td>\n",
       "      <td>617661.81</td>\n",
       "      <td>0.33</td>\n",
       "      <td>1.14</td>\n",
       "      <td>9.96</td>\n",
       "      <td>2016-07-10</td>\n",
       "    </tr>\n",
       "  </tbody>\n",
       "</table>\n",
       "</div>"
      ],
      "text/plain": [
       "   rank      name symbol      market_cap     price circulating_supply  \\\n",
       "0     1   Bitcoin    BTC  10228999687.31    649.36           15752436   \n",
       "1     2  Ethereum    ETH    896203756.86     10.95           81862861   \n",
       "2     3       XRP    XRP    235903166.61  0.006674        35345971933   \n",
       "3     4  Litecoin    LTC    191042722.28    4.0998           46597754   \n",
       "4     5       The    DAO    114871661.70   0.09956         1153836913   \n",
       "\n",
       "     volume_24h     %1h      %7h     %24h        date  \n",
       "0  102531800.00  0.17    -0.47    -2.10    2016-07-10  \n",
       "1    5479245.00  0.71     0.41    -6.89    2016-07-10  \n",
       "2     571047.06  0.19     0.07    -2.43    2016-07-10  \n",
       "3    3039615.00  0.11    -1.03    -4.35    2016-07-10  \n",
       "4     617661.81  0.33     1.14     9.96    2016-07-10  "
      ]
     },
     "execution_count": 164,
     "metadata": {},
     "output_type": "execute_result"
    }
   ],
   "source": [
    "halving_02.head()"
   ]
  },
  {
   "cell_type": "code",
   "execution_count": 165,
   "metadata": {},
   "outputs": [],
   "source": [
    "halving_02.to_csv(\"data/clean/halving_02_v2.csv\",index=False)"
   ]
  },
  {
   "cell_type": "code",
   "execution_count": 63,
   "metadata": {},
   "outputs": [],
   "source": [
    "halving_03 = pd.read_csv(\"data/clean/halving_03.csv\")"
   ]
  },
  {
   "cell_type": "code",
   "execution_count": 64,
   "metadata": {},
   "outputs": [],
   "source": [
    "columns = {\"0\":\"rank\",\"1\":\"name\",\"2\":\"symbol\",\"3\":\"market_cap\",\"4\":'price',\"5\":\"circulating_supply\",\"6\":\"volume_24h\",\"7\":\"%1h\",\"8\":'%7h',\"9\":'%24h'}"
   ]
  },
  {
   "cell_type": "code",
   "execution_count": 65,
   "metadata": {},
   "outputs": [],
   "source": [
    "halving_03['date'] = halving_03['date'].apply(lambda x: x.replace(\"_\",\"-\"))\n",
    "halving_03.rename(columns=columns,inplace=True)\n",
    "halving_03.drop(columns=['10'],inplace=True)\n",
    "halving_03['name'] = halving_03['name'].apply(lambda x: \" \".join(x.split(\" \")[1:]))\n",
    "halving_03['market_cap']= halving_03['market_cap'].apply(lambda x: str(x))\n",
    "halving_03['market_cap']= halving_03['market_cap'].apply(lambda x: x.replace(\"$\",\"\"))\n",
    "halving_03['market_cap']= halving_03['market_cap'].apply(lambda x: x.replace(\",\",\"\"))\n",
    "halving_03['price']= halving_03['price'].apply(lambda x: str(x))\n",
    "halving_03['price']= halving_03['price'].apply(lambda x: x.replace(\"$\",\"\"))\n",
    "halving_03['price']= halving_03['price'].apply(lambda x: x.replace(\",\",\"\"))\n",
    "halving_03['circulating_supply']= halving_03['price'].apply(lambda x: str(x))\n",
    "halving_03['circulating_supply']= halving_03['circulating_supply'].apply(lambda x: x.split(\" \")[0])\n",
    "halving_03['circulating_supply'] = halving_03['circulating_supply'].apply(lambda x: x.replace(\".\",\"\"))\n",
    "halving_03['volume_24h']= halving_03['volume_24h'].apply(lambda x: str(x))\n",
    "halving_03['volume_24h'] = halving_03['volume_24h'].apply(lambda x: x.replace(\"$\",\"\"))\n",
    "halving_03['volume_24h'] = halving_03['volume_24h'].apply(lambda x: x.replace(\",\",\"\"))\n",
    "halving_03['%1h']= halving_03['%1h'].apply(lambda x: str(x))\n",
    "halving_03['%1h'] = halving_03['%1h'].apply(lambda x: x.replace(\"%\",\"\"))\n",
    "halving_03['%7h']= halving_03['%7h'].apply(lambda x: str(x))\n",
    "halving_03['%7h'] = halving_03['%7h'].apply(lambda x: x.replace(\"%\",\"\"))\n",
    "halving_03['%24h']= halving_03['%24h'].apply(lambda x: str(x))\n",
    "halving_03['%24h'] = halving_03['%24h'].apply(lambda x: x.replace(\"%\",\"\"))\n",
    "halving_03['%1h'] = halving_03['%1h'].apply(lambda x: x.replace(\",\",\".\"))\n",
    "halving_03['%7h'] = halving_03['%7h'].apply(lambda x: x.replace(\",\",\".\"))\n",
    "halving_03['%24h'] = halving_03['%24h'].apply(lambda x: x.replace(\",\",\".\"))"
   ]
  },
  {
   "cell_type": "code",
   "execution_count": 66,
   "metadata": {},
   "outputs": [
    {
     "data": {
      "text/html": [
       "<div>\n",
       "<style scoped>\n",
       "    .dataframe tbody tr th:only-of-type {\n",
       "        vertical-align: middle;\n",
       "    }\n",
       "\n",
       "    .dataframe tbody tr th {\n",
       "        vertical-align: top;\n",
       "    }\n",
       "\n",
       "    .dataframe thead th {\n",
       "        text-align: right;\n",
       "    }\n",
       "</style>\n",
       "<table border=\"1\" class=\"dataframe\">\n",
       "  <thead>\n",
       "    <tr style=\"text-align: right;\">\n",
       "      <th></th>\n",
       "      <th>rank</th>\n",
       "      <th>name</th>\n",
       "      <th>symbol</th>\n",
       "      <th>market_cap</th>\n",
       "      <th>price</th>\n",
       "      <th>circulating_supply</th>\n",
       "      <th>volume_24h</th>\n",
       "      <th>%1h</th>\n",
       "      <th>%7h</th>\n",
       "      <th>%24h</th>\n",
       "      <th>date</th>\n",
       "    </tr>\n",
       "  </thead>\n",
       "  <tbody>\n",
       "    <tr>\n",
       "      <th>0</th>\n",
       "      <td>1.0</td>\n",
       "      <td>Bitcoin</td>\n",
       "      <td>BTC</td>\n",
       "      <td>163358189150.98</td>\n",
       "      <td>8897.47</td>\n",
       "      <td>889747</td>\n",
       "      <td>47101785174.26</td>\n",
       "      <td>-0.20</td>\n",
       "      <td>-1.35</td>\n",
       "      <td>15.65</td>\n",
       "      <td>2020-05-03</td>\n",
       "    </tr>\n",
       "    <tr>\n",
       "      <th>1</th>\n",
       "      <td>2.0</td>\n",
       "      <td>Ethereum</td>\n",
       "      <td>ETH</td>\n",
       "      <td>23367177866.63</td>\n",
       "      <td>210.93</td>\n",
       "      <td>21093</td>\n",
       "      <td>20469034664.13</td>\n",
       "      <td>-0.22</td>\n",
       "      <td>-2.44</td>\n",
       "      <td>6.88</td>\n",
       "      <td>2020-05-03</td>\n",
       "    </tr>\n",
       "    <tr>\n",
       "      <th>2</th>\n",
       "      <td>3.0</td>\n",
       "      <td>XRP</td>\n",
       "      <td>XRP</td>\n",
       "      <td>9678990068.20</td>\n",
       "      <td>0.2194</td>\n",
       "      <td>02194</td>\n",
       "      <td>2182399826.09</td>\n",
       "      <td>-0.33</td>\n",
       "      <td>-2.21</td>\n",
       "      <td>11.34</td>\n",
       "      <td>2020-05-03</td>\n",
       "    </tr>\n",
       "    <tr>\n",
       "      <th>3</th>\n",
       "      <td>4.0</td>\n",
       "      <td>Tether</td>\n",
       "      <td>USDT</td>\n",
       "      <td>6383346956.15</td>\n",
       "      <td>1.0035</td>\n",
       "      <td>10035</td>\n",
       "      <td>58963072938.13</td>\n",
       "      <td>-0.05</td>\n",
       "      <td>-0.01</td>\n",
       "      <td>0.02</td>\n",
       "      <td>2020-05-03</td>\n",
       "    </tr>\n",
       "    <tr>\n",
       "      <th>4</th>\n",
       "      <td>5.0</td>\n",
       "      <td>Bitcoin Cash</td>\n",
       "      <td>BCH</td>\n",
       "      <td>4646164981.03</td>\n",
       "      <td>252.54</td>\n",
       "      <td>25254</td>\n",
       "      <td>3830272429.60</td>\n",
       "      <td>-0.12</td>\n",
       "      <td>-4.02</td>\n",
       "      <td>2.86</td>\n",
       "      <td>2020-05-03</td>\n",
       "    </tr>\n",
       "  </tbody>\n",
       "</table>\n",
       "</div>"
      ],
      "text/plain": [
       "   rank          name symbol       market_cap    price circulating_supply  \\\n",
       "0   1.0       Bitcoin    BTC  163358189150.98  8897.47             889747   \n",
       "1   2.0      Ethereum    ETH   23367177866.63   210.93              21093   \n",
       "2   3.0           XRP    XRP    9678990068.20   0.2194              02194   \n",
       "3   4.0        Tether   USDT    6383346956.15   1.0035              10035   \n",
       "4   5.0  Bitcoin Cash    BCH    4646164981.03   252.54              25254   \n",
       "\n",
       "       volume_24h      %1h      %7h     %24h        date  \n",
       "0  47101785174.26  -0.20    -1.35    15.65    2020-05-03  \n",
       "1  20469034664.13  -0.22    -2.44     6.88    2020-05-03  \n",
       "2   2182399826.09  -0.33    -2.21    11.34    2020-05-03  \n",
       "3  58963072938.13  -0.05    -0.01     0.02    2020-05-03  \n",
       "4   3830272429.60  -0.12    -4.02     2.86    2020-05-03  "
      ]
     },
     "execution_count": 66,
     "metadata": {},
     "output_type": "execute_result"
    }
   ],
   "source": [
    "halving_03.head()"
   ]
  },
  {
   "cell_type": "code",
   "execution_count": 67,
   "metadata": {},
   "outputs": [],
   "source": [
    "halving_03.to_csv(\"data/clean/halving_03_v2.csv\",index=False)"
   ]
  },
  {
   "cell_type": "code",
   "execution_count": 68,
   "metadata": {},
   "outputs": [],
   "source": [
    "halving_04 = pd.read_csv(\"data/clean/halving_04.csv\")"
   ]
  },
  {
   "cell_type": "code",
   "execution_count": null,
   "metadata": {},
   "outputs": [],
   "source": [
    "columns = {\"0\":\"rank\",\"1\":\"name\",\"2\":\"symbol\",\"3\":\"market_cap\",\"4\":'price',\"5\":\"circulating_supply\",\"6\":\"volume_24h\",\"7\":\"%1h\",\"8\":'%7h',\"9\":'%24h'}"
   ]
  },
  {
   "cell_type": "code",
   "execution_count": 70,
   "metadata": {},
   "outputs": [],
   "source": [
    "halving_04['date'] = halving_04['date'].apply(lambda x: x.replace(\"_\",\"-\"))\n",
    "halving_04.rename(columns=columns,inplace=True)\n",
    "halving_04.drop(columns=['10'],inplace=True)\n",
    "halving_04['name'] = halving_04['name'].apply(lambda x: \" \".join(x.split(\" \")[1:]))\n",
    "halving_04['market_cap']= halving_04['market_cap'].apply(lambda x: str(x))\n",
    "halving_04['market_cap']= halving_04['market_cap'].apply(lambda x: x.replace(\"$\",\"\"))\n",
    "halving_04['market_cap']= halving_04['market_cap'].apply(lambda x: x.replace(\",\",\"\"))\n",
    "halving_04['price']= halving_04['price'].apply(lambda x: str(x))\n",
    "halving_04['price']= halving_04['price'].apply(lambda x: x.replace(\"$\",\"\"))\n",
    "halving_04['price']= halving_04['price'].apply(lambda x: x.replace(\",\",\"\"))\n",
    "halving_04['circulating_supply']= halving_04['price'].apply(lambda x: str(x))\n",
    "halving_04['circulating_supply']= halving_04['circulating_supply'].apply(lambda x: x.split(\" \")[0])\n",
    "halving_04['circulating_supply'] = halving_04['circulating_supply'].apply(lambda x: x.replace(\".\",\"\"))\n",
    "halving_04['volume_24h']= halving_04['volume_24h'].apply(lambda x: str(x))\n",
    "halving_04['volume_24h'] = halving_04['volume_24h'].apply(lambda x: x.replace(\"$\",\"\"))\n",
    "halving_04['volume_24h'] = halving_04['volume_24h'].apply(lambda x: x.replace(\",\",\"\"))\n",
    "halving_04['%1h']= halving_04['%1h'].apply(lambda x: str(x))\n",
    "halving_04['%1h'] = halving_04['%1h'].apply(lambda x: x.replace(\"%\",\"\"))\n",
    "halving_04['%7h']= halving_04['%7h'].apply(lambda x: str(x))\n",
    "halving_04['%7h'] = halving_04['%7h'].apply(lambda x: x.replace(\"%\",\"\"))\n",
    "halving_04['%24h']= halving_04['%24h'].apply(lambda x: str(x))\n",
    "halving_04['%24h'] = halving_04['%24h'].apply(lambda x: x.replace(\"%\",\"\"))\n",
    "halving_04['%1h'] = halving_04['%1h'].apply(lambda x: x.replace(\",\",\".\"))\n",
    "halving_04['%7h'] = halving_04['%7h'].apply(lambda x: x.replace(\",\",\".\"))\n",
    "halving_04['%24h'] = halving_04['%24h'].apply(lambda x: x.replace(\",\",\".\"))"
   ]
  },
  {
   "cell_type": "code",
   "execution_count": 73,
   "metadata": {},
   "outputs": [],
   "source": [
    "halving_04['%1h']= halving_04['%1h'].apply(lambda x: x.replace(\"<\",\"\"))"
   ]
  },
  {
   "cell_type": "code",
   "execution_count": 74,
   "metadata": {},
   "outputs": [
    {
     "data": {
      "text/html": [
       "<div>\n",
       "<style scoped>\n",
       "    .dataframe tbody tr th:only-of-type {\n",
       "        vertical-align: middle;\n",
       "    }\n",
       "\n",
       "    .dataframe tbody tr th {\n",
       "        vertical-align: top;\n",
       "    }\n",
       "\n",
       "    .dataframe thead th {\n",
       "        text-align: right;\n",
       "    }\n",
       "</style>\n",
       "<table border=\"1\" class=\"dataframe\">\n",
       "  <thead>\n",
       "    <tr style=\"text-align: right;\">\n",
       "      <th></th>\n",
       "      <th>rank</th>\n",
       "      <th>name</th>\n",
       "      <th>symbol</th>\n",
       "      <th>market_cap</th>\n",
       "      <th>price</th>\n",
       "      <th>circulating_supply</th>\n",
       "      <th>volume_24h</th>\n",
       "      <th>%1h</th>\n",
       "      <th>%7h</th>\n",
       "      <th>%24h</th>\n",
       "      <th>date</th>\n",
       "    </tr>\n",
       "  </thead>\n",
       "  <tbody>\n",
       "    <tr>\n",
       "      <th>0</th>\n",
       "      <td>1</td>\n",
       "      <td>Bitcoin</td>\n",
       "      <td>BTC</td>\n",
       "      <td>1278296008665.18</td>\n",
       "      <td>64926.64</td>\n",
       "      <td>6492664</td>\n",
       "      <td>20506644853.02</td>\n",
       "      <td>-0.20</td>\n",
       "      <td>-0.10</td>\n",
       "      <td>-1.24</td>\n",
       "      <td>2024-04-21</td>\n",
       "    </tr>\n",
       "    <tr>\n",
       "      <th>1</th>\n",
       "      <td>2</td>\n",
       "      <td>Ethereum</td>\n",
       "      <td>ETH</td>\n",
       "      <td>377899123113.35</td>\n",
       "      <td>3147.29</td>\n",
       "      <td>314729</td>\n",
       "      <td>9394387894.31</td>\n",
       "      <td>-0.30</td>\n",
       "      <td>-0.33</td>\n",
       "      <td>-0.31</td>\n",
       "      <td>2024-04-21</td>\n",
       "    </tr>\n",
       "    <tr>\n",
       "      <th>2</th>\n",
       "      <td>3</td>\n",
       "      <td>Tether USDt</td>\n",
       "      <td>USDT</td>\n",
       "      <td>109857607038.34</td>\n",
       "      <td>1.0002</td>\n",
       "      <td>10002</td>\n",
       "      <td>40914266459.98</td>\n",
       "      <td>0.01</td>\n",
       "      <td>-0.02</td>\n",
       "      <td>-0.09</td>\n",
       "      <td>2024-04-21</td>\n",
       "    </tr>\n",
       "    <tr>\n",
       "      <th>3</th>\n",
       "      <td>4</td>\n",
       "      <td>BNB</td>\n",
       "      <td>BNB</td>\n",
       "      <td>86672374451.12</td>\n",
       "      <td>579.62</td>\n",
       "      <td>57962</td>\n",
       "      <td>782061075.60</td>\n",
       "      <td>-0.08</td>\n",
       "      <td>1.52</td>\n",
       "      <td>2.19</td>\n",
       "      <td>2024-04-21</td>\n",
       "    </tr>\n",
       "    <tr>\n",
       "      <th>4</th>\n",
       "      <td>5</td>\n",
       "      <td>Solana</td>\n",
       "      <td>SOL</td>\n",
       "      <td>66417713293.18</td>\n",
       "      <td>148.61</td>\n",
       "      <td>14861</td>\n",
       "      <td>2211663290.99</td>\n",
       "      <td>-0.46</td>\n",
       "      <td>-1.67</td>\n",
       "      <td>-1.77</td>\n",
       "      <td>2024-04-21</td>\n",
       "    </tr>\n",
       "  </tbody>\n",
       "</table>\n",
       "</div>"
      ],
      "text/plain": [
       "   rank         name symbol        market_cap     price circulating_supply  \\\n",
       "0     1      Bitcoin    BTC  1278296008665.18  64926.64            6492664   \n",
       "1     2     Ethereum    ETH   377899123113.35   3147.29             314729   \n",
       "2     3  Tether USDt   USDT   109857607038.34    1.0002              10002   \n",
       "3     4          BNB    BNB    86672374451.12    579.62              57962   \n",
       "4     5       Solana    SOL    66417713293.18    148.61              14861   \n",
       "\n",
       "       volume_24h      %1h      %7h     %24h        date  \n",
       "0  20506644853.02  -0.20    -0.10    -1.24    2024-04-21  \n",
       "1   9394387894.31  -0.30    -0.33    -0.31    2024-04-21  \n",
       "2  40914266459.98   0.01    -0.02    -0.09    2024-04-21  \n",
       "3    782061075.60  -0.08     1.52     2.19    2024-04-21  \n",
       "4   2211663290.99  -0.46    -1.67    -1.77    2024-04-21  "
      ]
     },
     "execution_count": 74,
     "metadata": {},
     "output_type": "execute_result"
    }
   ],
   "source": [
    "halving_04.head()"
   ]
  },
  {
   "cell_type": "code",
   "execution_count": 75,
   "metadata": {},
   "outputs": [],
   "source": [
    "halving_04.to_csv(\"data/clean/halving_04_v2.csv\",index=False)"
   ]
  },
  {
   "cell_type": "code",
   "execution_count": 94,
   "metadata": {},
   "outputs": [
    {
     "name": "stderr",
     "output_type": "stream",
     "text": [
      "C:\\Users\\Joseph\\AppData\\Local\\Temp\\ipykernel_4656\\3736381241.py:3: DtypeWarning: Columns (4,5) have mixed types. Specify dtype option on import or set low_memory=False.\n",
      "  halving_03 = pd.read_csv(\"data/clean/halving_03_v2.csv\")\n"
     ]
    }
   ],
   "source": [
    "halving_01 = pd.read_csv(\"data/clean/halving_01_v2.csv\")\n",
    "halving_02 = pd.read_csv(\"data/clean/halving_02_v2.csv\")\n",
    "halving_03 = pd.read_csv(\"data/clean/halving_03_v2.csv\")\n",
    "halving_04 = pd.read_csv(\"data/clean/halving_04_v2.csv\")"
   ]
  },
  {
   "cell_type": "code",
   "execution_count": 119,
   "metadata": {},
   "outputs": [],
   "source": [
    "halving_01['date'] = pd.to_datetime(halving_01['date'],format='%Y-%m-%d')\n",
    "halving_01.to_csv(\"data/clean/halving_01_v3.csv\",index=False)"
   ]
  },
  {
   "cell_type": "code",
   "execution_count": 101,
   "metadata": {},
   "outputs": [
    {
     "data": {
      "text/plain": [
       "rank                    int64\n",
       "name                   object\n",
       "symbol                 object\n",
       "market_cap            float64\n",
       "price                 float64\n",
       "circulating_supply     object\n",
       "volume_24h            float64\n",
       "%1h                    object\n",
       "%7h                    object\n",
       "%24h                   object\n",
       "date                   object\n",
       "dtype: object"
      ]
     },
     "execution_count": 101,
     "metadata": {},
     "output_type": "execute_result"
    }
   ],
   "source": [
    "halving_02.dtypes"
   ]
  },
  {
   "cell_type": "code",
   "execution_count": 112,
   "metadata": {},
   "outputs": [],
   "source": [
    "halving_02.replace(\"--\",None,inplace=True)\n",
    "halving_02.replace(\"?\",None,inplace=True)\n",
    "halving_02.replace(\"> 9000\",10000,inplace=True)"
   ]
  },
  {
   "cell_type": "code",
   "execution_count": 113,
   "metadata": {},
   "outputs": [],
   "source": [
    "halving_02['market_cap'] = halving_02['market_cap'].astype(float)\n",
    "halving_02['price'] = halving_02['price'].astype(float)\n",
    "halving_02['circulating_supply'] = halving_02['circulating_supply'].astype(float)\n",
    "halving_02['volume_24h'] = halving_02['volume_24h'].astype(float)\n",
    "halving_02['%1h'] = halving_02['%1h'].astype(float)\n",
    "halving_02['%7h'] = halving_02['%7h'].astype(float)\n",
    "halving_02['%24h'] = halving_02['%24h'].astype(float)\n"
   ]
  },
  {
   "cell_type": "code",
   "execution_count": 116,
   "metadata": {},
   "outputs": [],
   "source": [
    "halving_02['date'] = pd.to_datetime(halving_02['date'],format='%Y-%m-%d')"
   ]
  },
  {
   "cell_type": "code",
   "execution_count": 118,
   "metadata": {},
   "outputs": [],
   "source": [
    "halving_02.to_csv(\"data/clean/halving_02_v3.csv\",index=False)"
   ]
  },
  {
   "cell_type": "code",
   "execution_count": 117,
   "metadata": {},
   "outputs": [
    {
     "data": {
      "text/plain": [
       "rank                           int64\n",
       "name                          object\n",
       "symbol                        object\n",
       "market_cap                   float64\n",
       "price                        float64\n",
       "circulating_supply           float64\n",
       "volume_24h                   float64\n",
       "%1h                          float64\n",
       "%7h                          float64\n",
       "%24h                         float64\n",
       "date                  datetime64[ns]\n",
       "dtype: object"
      ]
     },
     "execution_count": 117,
     "metadata": {},
     "output_type": "execute_result"
    }
   ],
   "source": [
    "halving_02.dtypes"
   ]
  },
  {
   "cell_type": "code",
   "execution_count": 4,
   "metadata": {},
   "outputs": [
    {
     "name": "stderr",
     "output_type": "stream",
     "text": [
      "C:\\Users\\Joseph\\AppData\\Local\\Temp\\ipykernel_11816\\1376502945.py:1: DtypeWarning: Columns (4,5) have mixed types. Specify dtype option on import or set low_memory=False.\n",
      "  halving_03 = pd.read_csv(\"data/clean/halving_03_v2.csv\")\n"
     ]
    }
   ],
   "source": [
    "halving_03 = pd.read_csv(\"data/clean/halving_03_v2.csv\")"
   ]
  },
  {
   "cell_type": "code",
   "execution_count": 5,
   "metadata": {},
   "outputs": [
    {
     "data": {
      "text/plain": [
       "rank                  float64\n",
       "name                   object\n",
       "symbol                 object\n",
       "market_cap             object\n",
       "price                  object\n",
       "circulating_supply     object\n",
       "volume_24h             object\n",
       "%1h                    object\n",
       "%7h                    object\n",
       "%24h                   object\n",
       "date                   object\n",
       "dtype: object"
      ]
     },
     "execution_count": 5,
     "metadata": {},
     "output_type": "execute_result"
    }
   ],
   "source": [
    "halving_03.dtypes"
   ]
  },
  {
   "cell_type": "code",
   "execution_count": 10,
   "metadata": {},
   "outputs": [],
   "source": [
    "halving_03.replace(\"--\",None,inplace=True)\n",
    "halving_03.replace(\"?\",None,inplace=True)\n",
    "halving_03.replace(\"> 9000\",10000,inplace=True)\n",
    "halving_03.replace(\"<0.01\",0,inplace=True)"
   ]
  },
  {
   "cell_type": "code",
   "execution_count": 7,
   "metadata": {},
   "outputs": [],
   "source": [
    "halving_03['date'] = pd.to_datetime(halving_03['date'],format='%Y-%m-%d')"
   ]
  },
  {
   "cell_type": "code",
   "execution_count": 22,
   "metadata": {},
   "outputs": [
    {
     "data": {
      "text/html": [
       "<div>\n",
       "<style scoped>\n",
       "    .dataframe tbody tr th:only-of-type {\n",
       "        vertical-align: middle;\n",
       "    }\n",
       "\n",
       "    .dataframe tbody tr th {\n",
       "        vertical-align: top;\n",
       "    }\n",
       "\n",
       "    .dataframe thead th {\n",
       "        text-align: right;\n",
       "    }\n",
       "</style>\n",
       "<table border=\"1\" class=\"dataframe\">\n",
       "  <thead>\n",
       "    <tr style=\"text-align: right;\">\n",
       "      <th></th>\n",
       "      <th>rank</th>\n",
       "      <th>name</th>\n",
       "      <th>symbol</th>\n",
       "      <th>market_cap</th>\n",
       "      <th>price</th>\n",
       "      <th>circulating_supply</th>\n",
       "      <th>volume_24h</th>\n",
       "      <th>%1h</th>\n",
       "      <th>%7h</th>\n",
       "      <th>%24h</th>\n",
       "      <th>date</th>\n",
       "    </tr>\n",
       "  </thead>\n",
       "  <tbody>\n",
       "    <tr>\n",
       "      <th>13213</th>\n",
       "      <td>14.0</td>\n",
       "      <td>Acash Coin</td>\n",
       "      <td>ACA</td>\n",
       "      <td>1.417021e+09</td>\n",
       "      <td>0.2023</td>\n",
       "      <td>2023.0</td>\n",
       "      <td>220667.69</td>\n",
       "      <td>0.46</td>\n",
       "      <td>0.25</td>\n",
       "      <td>&gt; 9000</td>\n",
       "      <td>2020-06-14</td>\n",
       "    </tr>\n",
       "  </tbody>\n",
       "</table>\n",
       "</div>"
      ],
      "text/plain": [
       "       rank        name symbol    market_cap   price  circulating_supply  \\\n",
       "13213  14.0  Acash Coin    ACA  1.417021e+09  0.2023              2023.0   \n",
       "\n",
       "       volume_24h   %1h   %7h      %24h       date  \n",
       "13213   220667.69  0.46  0.25  > 9000   2020-06-14  "
      ]
     },
     "execution_count": 22,
     "metadata": {},
     "output_type": "execute_result"
    }
   ],
   "source": [
    "halving_03[halving_03['%24h'] == '> 9000  ']"
   ]
  },
  {
   "cell_type": "code",
   "execution_count": 23,
   "metadata": {},
   "outputs": [],
   "source": [
    "index = halving_03[halving_03['%24h'] == '> 9000  '].index\n",
    "halving_03.loc[index,'%24h'] = 10000"
   ]
  },
  {
   "cell_type": "code",
   "execution_count": 24,
   "metadata": {},
   "outputs": [],
   "source": [
    "def only_one_dot(row):\n",
    "    if row == None:\n",
    "        return 0\n",
    "    row = str(row)\n",
    "    if row.count(\".\") <= 1:\n",
    "        return float(row)\n",
    "    else:\n",
    "        row = row.split(\".\")\n",
    "        return float(\".\".join(row[0:2]))"
   ]
  },
  {
   "cell_type": "code",
   "execution_count": 25,
   "metadata": {},
   "outputs": [],
   "source": [
    "halving_03['%1h'] = halving_03['%1h'].apply(only_one_dot)\n",
    "halving_03['%7h'] = halving_03['%7h'].apply(only_one_dot)\n",
    "halving_03['%24h'] = halving_03['%24h'].apply(only_one_dot)"
   ]
  },
  {
   "cell_type": "code",
   "execution_count": 26,
   "metadata": {},
   "outputs": [],
   "source": [
    "halving_03['market_cap'] = halving_03['market_cap'].astype(float)\n",
    "halving_03['price'] = halving_03['price'].astype(float)\n",
    "halving_03['circulating_supply'] = halving_03['circulating_supply'].astype(float)\n",
    "halving_03['volume_24h'] = halving_03['volume_24h'].astype(float)\n",
    "halving_03['%1h'] = halving_03['%1h'].astype(float)\n",
    "halving_03['%7h'] = halving_03['%7h'].astype(float)\n",
    "halving_03['%24h'] = halving_03['%24h'].astype(float)"
   ]
  },
  {
   "cell_type": "code",
   "execution_count": 36,
   "metadata": {},
   "outputs": [],
   "source": [
    "halving_03.to_csv(\"data/clean/halving_03_v3.csv\",index=False)"
   ]
  },
  {
   "cell_type": "code",
   "execution_count": 37,
   "metadata": {},
   "outputs": [],
   "source": [
    "halving_04 = pd.read_csv(\"data/clean/halving_04_v2.csv\")"
   ]
  },
  {
   "cell_type": "code",
   "execution_count": 38,
   "metadata": {},
   "outputs": [
    {
     "data": {
      "text/plain": [
       "rank                    int64\n",
       "name                   object\n",
       "symbol                 object\n",
       "market_cap             object\n",
       "price                  object\n",
       "circulating_supply     object\n",
       "volume_24h             object\n",
       "%1h                   float64\n",
       "%7h                    object\n",
       "%24h                   object\n",
       "date                   object\n",
       "dtype: object"
      ]
     },
     "execution_count": 38,
     "metadata": {},
     "output_type": "execute_result"
    }
   ],
   "source": [
    "halving_04.dtypes"
   ]
  },
  {
   "cell_type": "code",
   "execution_count": 42,
   "metadata": {},
   "outputs": [],
   "source": [
    "halving_04.replace(\"--\",None,inplace=True)\n",
    "halving_04.replace(\"<0.01\",0,inplace=True)"
   ]
  },
  {
   "cell_type": "code",
   "execution_count": 43,
   "metadata": {},
   "outputs": [],
   "source": [
    "halving_04['market_cap'] = halving_04['market_cap'].astype(float)\n",
    "halving_04['price'] = halving_04['price'].astype(float)\n",
    "halving_04['circulating_supply'] = halving_04['circulating_supply'].astype(float)\n",
    "halving_04['volume_24h'] = halving_04['volume_24h'].astype(float)\n",
    "halving_04['%1h'] = halving_04['%1h'].astype(float)\n",
    "halving_04['%7h'] = halving_04['%7h'].astype(float)\n",
    "halving_04['%24h'] = halving_04['%24h'].astype(float)"
   ]
  },
  {
   "cell_type": "code",
   "execution_count": 45,
   "metadata": {},
   "outputs": [],
   "source": [
    "halving_04['date'] = pd.to_datetime(halving_04['date'],format='%Y-%m-%d')"
   ]
  },
  {
   "cell_type": "code",
   "execution_count": 47,
   "metadata": {},
   "outputs": [],
   "source": [
    "halving_04.to_csv(\"data/clean/halving_04_v3.csv\",index=False)"
   ]
  },
  {
   "cell_type": "code",
   "execution_count": 48,
   "metadata": {},
   "outputs": [],
   "source": [
    "halving_01 = pd.read_csv(\"data/clean/halving_01_v3.csv\")"
   ]
  },
  {
   "cell_type": "code",
   "execution_count": 50,
   "metadata": {},
   "outputs": [
    {
     "data": {
      "text/plain": [
       "rank                  0\n",
       "name                  0\n",
       "symbol                0\n",
       "market_cap            0\n",
       "price                 0\n",
       "circulating_supply    0\n",
       "%1h                   0\n",
       "%7h                   0\n",
       "%24h                  0\n",
       "date                  0\n",
       "dtype: int64"
      ]
     },
     "execution_count": 50,
     "metadata": {},
     "output_type": "execute_result"
    }
   ],
   "source": [
    "halving_01.isnull().sum()"
   ]
  },
  {
   "cell_type": "code",
   "execution_count": 51,
   "metadata": {},
   "outputs": [
    {
     "data": {
      "text/plain": [
       "0"
      ]
     },
     "execution_count": 51,
     "metadata": {},
     "output_type": "execute_result"
    }
   ],
   "source": [
    "halving_01.duplicated().sum()"
   ]
  },
  {
   "cell_type": "code",
   "execution_count": 66,
   "metadata": {},
   "outputs": [],
   "source": [
    "import seaborn as sns\n",
    "import matplotlib.pyplot as plt"
   ]
  },
  {
   "cell_type": "code",
   "execution_count": 69,
   "metadata": {},
   "outputs": [
    {
     "data": {
      "text/plain": [
       "rank                    int64\n",
       "name                   object\n",
       "symbol                 object\n",
       "market_cap            float64\n",
       "price                 float64\n",
       "circulating_supply      int64\n",
       "%1h                   float64\n",
       "%7h                   float64\n",
       "%24h                  float64\n",
       "date                   object\n",
       "dtype: object"
      ]
     },
     "execution_count": 69,
     "metadata": {},
     "output_type": "execute_result"
    }
   ],
   "source": [
    "halving_01.dtypes"
   ]
  },
  {
   "cell_type": "code",
   "execution_count": 70,
   "metadata": {},
   "outputs": [
    {
     "data": {
      "text/html": [
       "<div>\n",
       "<style scoped>\n",
       "    .dataframe tbody tr th:only-of-type {\n",
       "        vertical-align: middle;\n",
       "    }\n",
       "\n",
       "    .dataframe tbody tr th {\n",
       "        vertical-align: top;\n",
       "    }\n",
       "\n",
       "    .dataframe thead th {\n",
       "        text-align: right;\n",
       "    }\n",
       "</style>\n",
       "<table border=\"1\" class=\"dataframe\">\n",
       "  <thead>\n",
       "    <tr style=\"text-align: right;\">\n",
       "      <th></th>\n",
       "      <th>name</th>\n",
       "      <th>symbol</th>\n",
       "      <th>date</th>\n",
       "    </tr>\n",
       "  </thead>\n",
       "  <tbody>\n",
       "    <tr>\n",
       "      <th>count</th>\n",
       "      <td>529</td>\n",
       "      <td>529</td>\n",
       "      <td>529</td>\n",
       "    </tr>\n",
       "    <tr>\n",
       "      <th>unique</th>\n",
       "      <td>54</td>\n",
       "      <td>53</td>\n",
       "      <td>18</td>\n",
       "    </tr>\n",
       "    <tr>\n",
       "      <th>top</th>\n",
       "      <td>Bitcoin</td>\n",
       "      <td>BTC</td>\n",
       "      <td>2013-08-04</td>\n",
       "    </tr>\n",
       "    <tr>\n",
       "      <th>freq</th>\n",
       "      <td>18</td>\n",
       "      <td>18</td>\n",
       "      <td>50</td>\n",
       "    </tr>\n",
       "  </tbody>\n",
       "</table>\n",
       "</div>"
      ],
      "text/plain": [
       "           name symbol        date\n",
       "count       529    529         529\n",
       "unique       54     53          18\n",
       "top     Bitcoin    BTC  2013-08-04\n",
       "freq         18     18          50"
      ]
     },
     "execution_count": 70,
     "metadata": {},
     "output_type": "execute_result"
    }
   ],
   "source": [
    "halving_01.select_dtypes(include='object').describe()"
   ]
  },
  {
   "cell_type": "code",
   "execution_count": 53,
   "metadata": {},
   "outputs": [
    {
     "data": {
      "text/html": [
       "<div>\n",
       "<style scoped>\n",
       "    .dataframe tbody tr th:only-of-type {\n",
       "        vertical-align: middle;\n",
       "    }\n",
       "\n",
       "    .dataframe tbody tr th {\n",
       "        vertical-align: top;\n",
       "    }\n",
       "\n",
       "    .dataframe thead th {\n",
       "        text-align: right;\n",
       "    }\n",
       "</style>\n",
       "<table border=\"1\" class=\"dataframe\">\n",
       "  <thead>\n",
       "    <tr style=\"text-align: right;\">\n",
       "      <th></th>\n",
       "      <th>rank</th>\n",
       "      <th>market_cap</th>\n",
       "      <th>price</th>\n",
       "      <th>circulating_supply</th>\n",
       "      <th>%1h</th>\n",
       "      <th>%7h</th>\n",
       "      <th>%24h</th>\n",
       "    </tr>\n",
       "  </thead>\n",
       "  <tbody>\n",
       "    <tr>\n",
       "      <th>count</th>\n",
       "      <td>529.000000</td>\n",
       "      <td>5.290000e+02</td>\n",
       "      <td>5.290000e+02</td>\n",
       "      <td>5.290000e+02</td>\n",
       "      <td>529.000000</td>\n",
       "      <td>529.000000</td>\n",
       "      <td>529.000000</td>\n",
       "    </tr>\n",
       "    <tr>\n",
       "      <th>mean</th>\n",
       "      <td>18.962193</td>\n",
       "      <td>4.449032e+07</td>\n",
       "      <td>4.326514e+00</td>\n",
       "      <td>1.096767e+09</td>\n",
       "      <td>0.267467</td>\n",
       "      <td>0.267467</td>\n",
       "      <td>0.267467</td>\n",
       "    </tr>\n",
       "    <tr>\n",
       "      <th>std</th>\n",
       "      <td>13.042562</td>\n",
       "      <td>2.248151e+08</td>\n",
       "      <td>1.993959e+01</td>\n",
       "      <td>7.600225e+09</td>\n",
       "      <td>5.865379</td>\n",
       "      <td>5.865379</td>\n",
       "      <td>5.865379</td>\n",
       "    </tr>\n",
       "    <tr>\n",
       "      <th>min</th>\n",
       "      <td>1.000000</td>\n",
       "      <td>1.057100e+02</td>\n",
       "      <td>3.200000e-07</td>\n",
       "      <td>2.872000e+03</td>\n",
       "      <td>-22.580000</td>\n",
       "      <td>-22.580000</td>\n",
       "      <td>-22.580000</td>\n",
       "    </tr>\n",
       "    <tr>\n",
       "      <th>25%</th>\n",
       "      <td>8.000000</td>\n",
       "      <td>1.067225e+04</td>\n",
       "      <td>3.839000e-03</td>\n",
       "      <td>7.679040e+05</td>\n",
       "      <td>-0.500000</td>\n",
       "      <td>-0.500000</td>\n",
       "      <td>-0.500000</td>\n",
       "    </tr>\n",
       "    <tr>\n",
       "      <th>50%</th>\n",
       "      <td>16.000000</td>\n",
       "      <td>6.334124e+04</td>\n",
       "      <td>1.945000e-02</td>\n",
       "      <td>5.415300e+06</td>\n",
       "      <td>-0.040000</td>\n",
       "      <td>-0.040000</td>\n",
       "      <td>-0.040000</td>\n",
       "    </tr>\n",
       "    <tr>\n",
       "      <th>75%</th>\n",
       "      <td>29.000000</td>\n",
       "      <td>6.557351e+05</td>\n",
       "      <td>1.668000e-01</td>\n",
       "      <td>1.550449e+07</td>\n",
       "      <td>0.930000</td>\n",
       "      <td>0.930000</td>\n",
       "      <td>0.930000</td>\n",
       "    </tr>\n",
       "    <tr>\n",
       "      <th>max</th>\n",
       "      <td>50.000000</td>\n",
       "      <td>1.495293e+09</td>\n",
       "      <td>1.342100e+02</td>\n",
       "      <td>7.494684e+10</td>\n",
       "      <td>62.110000</td>\n",
       "      <td>62.110000</td>\n",
       "      <td>62.110000</td>\n",
       "    </tr>\n",
       "  </tbody>\n",
       "</table>\n",
       "</div>"
      ],
      "text/plain": [
       "             rank    market_cap         price  circulating_supply         %1h  \\\n",
       "count  529.000000  5.290000e+02  5.290000e+02        5.290000e+02  529.000000   \n",
       "mean    18.962193  4.449032e+07  4.326514e+00        1.096767e+09    0.267467   \n",
       "std     13.042562  2.248151e+08  1.993959e+01        7.600225e+09    5.865379   \n",
       "min      1.000000  1.057100e+02  3.200000e-07        2.872000e+03  -22.580000   \n",
       "25%      8.000000  1.067225e+04  3.839000e-03        7.679040e+05   -0.500000   \n",
       "50%     16.000000  6.334124e+04  1.945000e-02        5.415300e+06   -0.040000   \n",
       "75%     29.000000  6.557351e+05  1.668000e-01        1.550449e+07    0.930000   \n",
       "max     50.000000  1.495293e+09  1.342100e+02        7.494684e+10   62.110000   \n",
       "\n",
       "              %7h        %24h  \n",
       "count  529.000000  529.000000  \n",
       "mean     0.267467    0.267467  \n",
       "std      5.865379    5.865379  \n",
       "min    -22.580000  -22.580000  \n",
       "25%     -0.500000   -0.500000  \n",
       "50%     -0.040000   -0.040000  \n",
       "75%      0.930000    0.930000  \n",
       "max     62.110000   62.110000  "
      ]
     },
     "execution_count": 53,
     "metadata": {},
     "output_type": "execute_result"
    }
   ],
   "source": [
    "halving_01.select_dtypes(include=['float64','int64']).describe()"
   ]
  },
  {
   "cell_type": "code",
   "execution_count": 54,
   "metadata": {},
   "outputs": [
    {
     "data": {
      "text/plain": [
       "['rank', 'market_cap', 'price', 'circulating_supply', '%1h', '%7h', '%24h']"
      ]
     },
     "execution_count": 54,
     "metadata": {},
     "output_type": "execute_result"
    }
   ],
   "source": [
    "halving_01.select_dtypes(include=['float64','int64']).columns.to_list()"
   ]
  },
  {
   "cell_type": "code",
   "execution_count": 73,
   "metadata": {},
   "outputs": [],
   "source": [
    "from sklearn.preprocessing import StandardScaler"
   ]
  },
  {
   "cell_type": "code",
   "execution_count": 74,
   "metadata": {},
   "outputs": [],
   "source": [
    "numeric = halving_01.select_dtypes(include=['float64','int64'])\n",
    "scaler = StandardScaler()\n",
    "numeric_scaled = scaler.fit_transform(numeric)\n",
    "numeric_scaled = pd.DataFrame(numeric_scaled,columns=numeric.columns)\n",
    "\n",
    "halving_01.drop(columns=numeric.columns,inplace=True)\n",
    "halving_01 = pd.concat([halving_01,numeric_scaled],axis=1)"
   ]
  },
  {
   "cell_type": "code",
   "execution_count": 75,
   "metadata": {},
   "outputs": [
    {
     "data": {
      "text/html": [
       "<div>\n",
       "<style scoped>\n",
       "    .dataframe tbody tr th:only-of-type {\n",
       "        vertical-align: middle;\n",
       "    }\n",
       "\n",
       "    .dataframe tbody tr th {\n",
       "        vertical-align: top;\n",
       "    }\n",
       "\n",
       "    .dataframe thead th {\n",
       "        text-align: right;\n",
       "    }\n",
       "</style>\n",
       "<table border=\"1\" class=\"dataframe\">\n",
       "  <thead>\n",
       "    <tr style=\"text-align: right;\">\n",
       "      <th></th>\n",
       "      <th>name</th>\n",
       "      <th>symbol</th>\n",
       "      <th>date</th>\n",
       "      <th>rank</th>\n",
       "      <th>market_cap</th>\n",
       "      <th>price</th>\n",
       "      <th>circulating_supply</th>\n",
       "      <th>%1h</th>\n",
       "      <th>%7h</th>\n",
       "      <th>%24h</th>\n",
       "    </tr>\n",
       "  </thead>\n",
       "  <tbody>\n",
       "    <tr>\n",
       "      <th>0</th>\n",
       "      <td>Bitcoin</td>\n",
       "      <td>BTC</td>\n",
       "      <td>2013-04-28</td>\n",
       "      <td>-1.378502</td>\n",
       "      <td>6.429477</td>\n",
       "      <td>6.520016</td>\n",
       "      <td>-0.142983</td>\n",
       "      <td>0.063574</td>\n",
       "      <td>0.063574</td>\n",
       "      <td>0.063574</td>\n",
       "    </tr>\n",
       "    <tr>\n",
       "      <th>1</th>\n",
       "      <td>Litecoin</td>\n",
       "      <td>LTC</td>\n",
       "      <td>2013-04-28</td>\n",
       "      <td>-1.301757</td>\n",
       "      <td>0.134222</td>\n",
       "      <td>0.001099</td>\n",
       "      <td>-0.142183</td>\n",
       "      <td>0.090879</td>\n",
       "      <td>0.090879</td>\n",
       "      <td>0.090879</td>\n",
       "    </tr>\n",
       "    <tr>\n",
       "      <th>2</th>\n",
       "      <td>Peercoin</td>\n",
       "      <td>PPC</td>\n",
       "      <td>2013-04-28</td>\n",
       "      <td>-1.225013</td>\n",
       "      <td>-0.165805</td>\n",
       "      <td>-0.197785</td>\n",
       "      <td>-0.141973</td>\n",
       "      <td>-0.204352</td>\n",
       "      <td>-0.204352</td>\n",
       "      <td>-0.204352</td>\n",
       "    </tr>\n",
       "    <tr>\n",
       "      <th>3</th>\n",
       "      <td>Namecoin</td>\n",
       "      <td>NMC</td>\n",
       "      <td>2013-04-28</td>\n",
       "      <td>-1.148268</td>\n",
       "      <td>-0.171389</td>\n",
       "      <td>-0.161606</td>\n",
       "      <td>-0.143731</td>\n",
       "      <td>-0.054177</td>\n",
       "      <td>-0.054177</td>\n",
       "      <td>-0.054177</td>\n",
       "    </tr>\n",
       "    <tr>\n",
       "      <th>4</th>\n",
       "      <td>Terracoin</td>\n",
       "      <td>TRC</td>\n",
       "      <td>2013-04-28</td>\n",
       "      <td>-1.071523</td>\n",
       "      <td>-0.191392</td>\n",
       "      <td>-0.184713</td>\n",
       "      <td>-0.144138</td>\n",
       "      <td>0.058454</td>\n",
       "      <td>0.058454</td>\n",
       "      <td>0.058454</td>\n",
       "    </tr>\n",
       "  </tbody>\n",
       "</table>\n",
       "</div>"
      ],
      "text/plain": [
       "        name symbol        date      rank  market_cap     price  \\\n",
       "0    Bitcoin    BTC  2013-04-28 -1.378502    6.429477  6.520016   \n",
       "1   Litecoin    LTC  2013-04-28 -1.301757    0.134222  0.001099   \n",
       "2   Peercoin    PPC  2013-04-28 -1.225013   -0.165805 -0.197785   \n",
       "3   Namecoin    NMC  2013-04-28 -1.148268   -0.171389 -0.161606   \n",
       "4  Terracoin    TRC  2013-04-28 -1.071523   -0.191392 -0.184713   \n",
       "\n",
       "   circulating_supply       %1h       %7h      %24h  \n",
       "0           -0.142983  0.063574  0.063574  0.063574  \n",
       "1           -0.142183  0.090879  0.090879  0.090879  \n",
       "2           -0.141973 -0.204352 -0.204352 -0.204352  \n",
       "3           -0.143731 -0.054177 -0.054177 -0.054177  \n",
       "4           -0.144138  0.058454  0.058454  0.058454  "
      ]
     },
     "execution_count": 75,
     "metadata": {},
     "output_type": "execute_result"
    }
   ],
   "source": [
    "halving_01.head()"
   ]
  },
  {
   "cell_type": "code",
   "execution_count": 76,
   "metadata": {},
   "outputs": [
    {
     "data": {
      "image/png": "[encoded data removed]",
      "text/plain": [
       "<Figure size 1000x1000 with 6 Axes>"
      ]
     },
     "metadata": {},
     "output_type": "display_data"
    }
   ],
   "source": [
    "fig, axs = plt.subplots(3, 2, figsize=(10, 10))\n",
    "sns.boxplot(data=halving_01, x=\"market_cap\", ax=axs[0, 0])\n",
    "sns.boxplot(data=halving_01, x=\"price\", ax=axs[0, 1])\n",
    "sns.boxplot(data=halving_01, x=\"circulating_supply\", ax=axs[1, 0])\n",
    "sns.boxplot(data=halving_01, x=\"%1h\", ax=axs[1, 1])\n",
    "sns.boxplot(data=halving_01, x=\"%7h\", ax=axs[2, 0])\n",
    "sns.boxplot(data=halving_01, x=\"%24h\", ax=axs[2, 1])\n",
    "plt.show()"
   ]
  },
  {
   "cell_type": "code",
   "execution_count": 77,
   "metadata": {},
   "outputs": [],
   "source": [
    "df_all_tokens = pd.read_csv(\"data/clean/df_all_tokens_v3.csv\")"
   ]
  },
  {
   "cell_type": "code",
   "execution_count": 79,
   "metadata": {},
   "outputs": [],
   "source": [
    "df_tokens_class=df_all_tokens[['symbol','class']]"
   ]
  },
  {
   "cell_type": "code",
   "execution_count": 81,
   "metadata": {},
   "outputs": [],
   "source": [
    "tokens_class = zip(df_tokens_class['symbol'],df_tokens_class['class'])"
   ]
  },
  {
   "cell_type": "code",
   "execution_count": 83,
   "metadata": {},
   "outputs": [],
   "source": [
    "tokens_class= dict(tokens_class)"
   ]
  },
  {
   "cell_type": "code",
   "execution_count": 85,
   "metadata": {},
   "outputs": [],
   "source": [
    "halving_01['class'] = halving_01['symbol'].map(tokens_class)"
   ]
  },
  {
   "cell_type": "code",
   "execution_count": null,
   "metadata": {},
   "outputs": [],
   "source": [
    "halving_01['class'] = halving_01['class'].fillna(4)"
   ]
  },
  {
   "cell_type": "code",
   "execution_count": 98,
   "metadata": {},
   "outputs": [],
   "source": [
    "coin_list = pd.read_json(\"data/raw/coin_list.json\")"
   ]
  },
  {
   "cell_type": "code",
   "execution_count": 99,
   "metadata": {},
   "outputs": [],
   "source": [
    "coin_list = coin_list[['symbol','platforms']]"
   ]
  },
  {
   "cell_type": "code",
   "execution_count": 100,
   "metadata": {},
   "outputs": [],
   "source": [
    "coin_list['symbol'] = coin_list['symbol'].apply(lambda x: x.upper())"
   ]
  },
  {
   "cell_type": "code",
   "execution_count": 101,
   "metadata": {},
   "outputs": [],
   "source": [
    "coin_list['ismultiplatform'] = coin_list['platforms'].apply(lambda x: 1 if len(x) > 0 else 0)"
   ]
  },
  {
   "cell_type": "code",
   "execution_count": 102,
   "metadata": {},
   "outputs": [],
   "source": [
    "coin_list = coin_list[['symbol','ismultiplatform']]"
   ]
  },
  {
   "cell_type": "code",
   "execution_count": 103,
   "metadata": {},
   "outputs": [],
   "source": [
    "coin_list = zip(coin_list['symbol'],coin_list['ismultiplatform'])\n",
    "coin_list  = dict(coin_list)"
   ]
  },
  {
   "cell_type": "code",
   "execution_count": 104,
   "metadata": {},
   "outputs": [],
   "source": [
    "halving_01['ismultiplatform'] = halving_01['symbol'].map(coin_list)"
   ]
  },
  {
   "cell_type": "code",
   "execution_count": 106,
   "metadata": {},
   "outputs": [
    {
     "data": {
      "text/html": [
       "<div>\n",
       "<style scoped>\n",
       "    .dataframe tbody tr th:only-of-type {\n",
       "        vertical-align: middle;\n",
       "    }\n",
       "\n",
       "    .dataframe tbody tr th {\n",
       "        vertical-align: top;\n",
       "    }\n",
       "\n",
       "    .dataframe thead th {\n",
       "        text-align: right;\n",
       "    }\n",
       "</style>\n",
       "<table border=\"1\" class=\"dataframe\">\n",
       "  <thead>\n",
       "    <tr style=\"text-align: right;\">\n",
       "      <th></th>\n",
       "      <th>name</th>\n",
       "      <th>symbol</th>\n",
       "      <th>date</th>\n",
       "      <th>rank</th>\n",
       "      <th>market_cap</th>\n",
       "      <th>price</th>\n",
       "      <th>circulating_supply</th>\n",
       "      <th>%1h</th>\n",
       "      <th>%7h</th>\n",
       "      <th>%24h</th>\n",
       "      <th>class</th>\n",
       "      <th>ismultiplatform</th>\n",
       "    </tr>\n",
       "  </thead>\n",
       "  <tbody>\n",
       "    <tr>\n",
       "      <th>0</th>\n",
       "      <td>Bitcoin</td>\n",
       "      <td>BTC</td>\n",
       "      <td>2013-04-28</td>\n",
       "      <td>-1.378502</td>\n",
       "      <td>6.429477</td>\n",
       "      <td>6.520016</td>\n",
       "      <td>-0.142983</td>\n",
       "      <td>0.063574</td>\n",
       "      <td>0.063574</td>\n",
       "      <td>0.063574</td>\n",
       "      <td>4.0</td>\n",
       "      <td>1.0</td>\n",
       "    </tr>\n",
       "    <tr>\n",
       "      <th>1</th>\n",
       "      <td>Litecoin</td>\n",
       "      <td>LTC</td>\n",
       "      <td>2013-04-28</td>\n",
       "      <td>-1.301757</td>\n",
       "      <td>0.134222</td>\n",
       "      <td>0.001099</td>\n",
       "      <td>-0.142183</td>\n",
       "      <td>0.090879</td>\n",
       "      <td>0.090879</td>\n",
       "      <td>0.090879</td>\n",
       "      <td>4.0</td>\n",
       "      <td>0.0</td>\n",
       "    </tr>\n",
       "    <tr>\n",
       "      <th>2</th>\n",
       "      <td>Peercoin</td>\n",
       "      <td>PPC</td>\n",
       "      <td>2013-04-28</td>\n",
       "      <td>-1.225013</td>\n",
       "      <td>-0.165805</td>\n",
       "      <td>-0.197785</td>\n",
       "      <td>-0.141973</td>\n",
       "      <td>-0.204352</td>\n",
       "      <td>-0.204352</td>\n",
       "      <td>-0.204352</td>\n",
       "      <td>4.0</td>\n",
       "      <td>1.0</td>\n",
       "    </tr>\n",
       "    <tr>\n",
       "      <th>3</th>\n",
       "      <td>Namecoin</td>\n",
       "      <td>NMC</td>\n",
       "      <td>2013-04-28</td>\n",
       "      <td>-1.148268</td>\n",
       "      <td>-0.171389</td>\n",
       "      <td>-0.161606</td>\n",
       "      <td>-0.143731</td>\n",
       "      <td>-0.054177</td>\n",
       "      <td>-0.054177</td>\n",
       "      <td>-0.054177</td>\n",
       "      <td>4.0</td>\n",
       "      <td>0.0</td>\n",
       "    </tr>\n",
       "    <tr>\n",
       "      <th>4</th>\n",
       "      <td>Terracoin</td>\n",
       "      <td>TRC</td>\n",
       "      <td>2013-04-28</td>\n",
       "      <td>-1.071523</td>\n",
       "      <td>-0.191392</td>\n",
       "      <td>-0.184713</td>\n",
       "      <td>-0.144138</td>\n",
       "      <td>0.058454</td>\n",
       "      <td>0.058454</td>\n",
       "      <td>0.058454</td>\n",
       "      <td>4.0</td>\n",
       "      <td>1.0</td>\n",
       "    </tr>\n",
       "  </tbody>\n",
       "</table>\n",
       "</div>"
      ],
      "text/plain": [
       "        name symbol        date      rank  market_cap     price  \\\n",
       "0    Bitcoin    BTC  2013-04-28 -1.378502    6.429477  6.520016   \n",
       "1   Litecoin    LTC  2013-04-28 -1.301757    0.134222  0.001099   \n",
       "2   Peercoin    PPC  2013-04-28 -1.225013   -0.165805 -0.197785   \n",
       "3   Namecoin    NMC  2013-04-28 -1.148268   -0.171389 -0.161606   \n",
       "4  Terracoin    TRC  2013-04-28 -1.071523   -0.191392 -0.184713   \n",
       "\n",
       "   circulating_supply       %1h       %7h      %24h  class  ismultiplatform  \n",
       "0           -0.142983  0.063574  0.063574  0.063574    4.0              1.0  \n",
       "1           -0.142183  0.090879  0.090879  0.090879    4.0              0.0  \n",
       "2           -0.141973 -0.204352 -0.204352 -0.204352    4.0              1.0  \n",
       "3           -0.143731 -0.054177 -0.054177 -0.054177    4.0              0.0  \n",
       "4           -0.144138  0.058454  0.058454  0.058454    4.0              1.0  "
      ]
     },
     "execution_count": 106,
     "metadata": {},
     "output_type": "execute_result"
    }
   ],
   "source": [
    "halving_01.head()"
   ]
  },
  {
   "cell_type": "code",
   "execution_count": 108,
   "metadata": {},
   "outputs": [
    {
     "data": {
      "text/plain": [
       "107"
      ]
     },
     "execution_count": 108,
     "metadata": {},
     "output_type": "execute_result"
    }
   ],
   "source": [
    "halving_01['ismultiplatform'].isnull().sum()"
   ]
  },
  {
   "cell_type": "code",
   "execution_count": 109,
   "metadata": {},
   "outputs": [],
   "source": [
    "halving_01['ismultiplatform'] = halving_01['ismultiplatform'].fillna(0)"
   ]
  },
  {
   "cell_type": "code",
   "execution_count": 110,
   "metadata": {},
   "outputs": [
    {
     "data": {
      "text/plain": [
       "0"
      ]
     },
     "execution_count": 110,
     "metadata": {},
     "output_type": "execute_result"
    }
   ],
   "source": [
    "halving_01['ismultiplatform'].isnull().sum()"
   ]
  },
  {
   "cell_type": "code",
   "execution_count": 111,
   "metadata": {},
   "outputs": [],
   "source": [
    "halving_01.to_csv(\"data/clean/halving_01_v4.csv\",index=False)"
   ]
  },
  {
   "cell_type": "code",
   "execution_count": 167,
   "metadata": {},
   "outputs": [],
   "source": [
    "halving_02 = pd.read_csv(\"data/clean/halving_02_v3.csv\")\n",
    "halving_03 = pd.read_csv(\"data/clean/halving_03_v3.csv\")\n",
    "halving_04 = pd.read_csv(\"data/clean/halving_04_v3.csv\")"
   ]
  },
  {
   "cell_type": "code",
   "execution_count": 141,
   "metadata": {},
   "outputs": [
    {
     "data": {
      "text/plain": [
       "rank                    int64\n",
       "name                   object\n",
       "symbol                 object\n",
       "market_cap            float64\n",
       "price                 float64\n",
       "circulating_supply    float64\n",
       "volume_24h            float64\n",
       "%1h                   float64\n",
       "%7h                   float64\n",
       "%24h                  float64\n",
       "date                   object\n",
       "dtype: object"
      ]
     },
     "execution_count": 141,
     "metadata": {},
     "output_type": "execute_result"
    }
   ],
   "source": [
    "halving_02.dtypes"
   ]
  },
  {
   "cell_type": "code",
   "execution_count": 144,
   "metadata": {},
   "outputs": [
    {
     "data": {
      "text/plain": [
       "rank                  float64\n",
       "name                   object\n",
       "symbol                 object\n",
       "market_cap            float64\n",
       "price                 float64\n",
       "circulating_supply    float64\n",
       "volume_24h            float64\n",
       "%1h                   float64\n",
       "%7h                   float64\n",
       "%24h                  float64\n",
       "date                   object\n",
       "dtype: object"
      ]
     },
     "execution_count": 144,
     "metadata": {},
     "output_type": "execute_result"
    }
   ],
   "source": [
    "halving_03.dtypes"
   ]
  },
  {
   "cell_type": "code",
   "execution_count": 145,
   "metadata": {},
   "outputs": [
    {
     "data": {
      "text/plain": [
       "rank                    int64\n",
       "name                   object\n",
       "symbol                 object\n",
       "market_cap            float64\n",
       "price                 float64\n",
       "circulating_supply    float64\n",
       "volume_24h            float64\n",
       "%1h                   float64\n",
       "%7h                   float64\n",
       "%24h                  float64\n",
       "date                   object\n",
       "dtype: object"
      ]
     },
     "execution_count": 145,
     "metadata": {},
     "output_type": "execute_result"
    }
   ],
   "source": [
    "halving_04.dtypes"
   ]
  },
  {
   "cell_type": "code",
   "execution_count": 250,
   "metadata": {},
   "outputs": [],
   "source": [
    "halving_02_to_04 = pd.concat([halving_02,halving_03,halving_04])"
   ]
  },
  {
   "cell_type": "code",
   "execution_count": 257,
   "metadata": {},
   "outputs": [],
   "source": [
    "halving_02_to_04.reset_index(drop=True,inplace=True)"
   ]
  },
  {
   "cell_type": "code",
   "execution_count": 252,
   "metadata": {},
   "outputs": [
    {
     "data": {
      "text/html": [
       "<div>\n",
       "<style scoped>\n",
       "    .dataframe tbody tr th:only-of-type {\n",
       "        vertical-align: middle;\n",
       "    }\n",
       "\n",
       "    .dataframe tbody tr th {\n",
       "        vertical-align: top;\n",
       "    }\n",
       "\n",
       "    .dataframe thead th {\n",
       "        text-align: right;\n",
       "    }\n",
       "</style>\n",
       "<table border=\"1\" class=\"dataframe\">\n",
       "  <thead>\n",
       "    <tr style=\"text-align: right;\">\n",
       "      <th></th>\n",
       "      <th>rank</th>\n",
       "      <th>name</th>\n",
       "      <th>symbol</th>\n",
       "      <th>market_cap</th>\n",
       "      <th>price</th>\n",
       "      <th>circulating_supply</th>\n",
       "      <th>volume_24h</th>\n",
       "      <th>%1h</th>\n",
       "      <th>%7h</th>\n",
       "      <th>%24h</th>\n",
       "      <th>date</th>\n",
       "    </tr>\n",
       "  </thead>\n",
       "  <tbody>\n",
       "    <tr>\n",
       "      <th>0</th>\n",
       "      <td>1.0</td>\n",
       "      <td>Bitcoin</td>\n",
       "      <td>BTC</td>\n",
       "      <td>1.022900e+10</td>\n",
       "      <td>649.360000</td>\n",
       "      <td>1.575244e+07</td>\n",
       "      <td>1.025318e+08</td>\n",
       "      <td>0.17</td>\n",
       "      <td>-0.47</td>\n",
       "      <td>-2.10</td>\n",
       "      <td>2016-07-10</td>\n",
       "    </tr>\n",
       "    <tr>\n",
       "      <th>1</th>\n",
       "      <td>2.0</td>\n",
       "      <td>Ethereum</td>\n",
       "      <td>ETH</td>\n",
       "      <td>8.962038e+08</td>\n",
       "      <td>10.950000</td>\n",
       "      <td>8.186286e+07</td>\n",
       "      <td>5.479245e+06</td>\n",
       "      <td>0.71</td>\n",
       "      <td>0.41</td>\n",
       "      <td>-6.89</td>\n",
       "      <td>2016-07-10</td>\n",
       "    </tr>\n",
       "    <tr>\n",
       "      <th>2</th>\n",
       "      <td>3.0</td>\n",
       "      <td>XRP</td>\n",
       "      <td>XRP</td>\n",
       "      <td>2.359032e+08</td>\n",
       "      <td>0.006674</td>\n",
       "      <td>3.534597e+10</td>\n",
       "      <td>5.710471e+05</td>\n",
       "      <td>0.19</td>\n",
       "      <td>0.07</td>\n",
       "      <td>-2.43</td>\n",
       "      <td>2016-07-10</td>\n",
       "    </tr>\n",
       "    <tr>\n",
       "      <th>3</th>\n",
       "      <td>4.0</td>\n",
       "      <td>Litecoin</td>\n",
       "      <td>LTC</td>\n",
       "      <td>1.910427e+08</td>\n",
       "      <td>4.099800</td>\n",
       "      <td>4.659775e+07</td>\n",
       "      <td>3.039615e+06</td>\n",
       "      <td>0.11</td>\n",
       "      <td>-1.03</td>\n",
       "      <td>-4.35</td>\n",
       "      <td>2016-07-10</td>\n",
       "    </tr>\n",
       "    <tr>\n",
       "      <th>4</th>\n",
       "      <td>5.0</td>\n",
       "      <td>The</td>\n",
       "      <td>DAO</td>\n",
       "      <td>1.148717e+08</td>\n",
       "      <td>0.099560</td>\n",
       "      <td>1.153837e+09</td>\n",
       "      <td>6.176618e+05</td>\n",
       "      <td>0.33</td>\n",
       "      <td>1.14</td>\n",
       "      <td>9.96</td>\n",
       "      <td>2016-07-10</td>\n",
       "    </tr>\n",
       "  </tbody>\n",
       "</table>\n",
       "</div>"
      ],
      "text/plain": [
       "   rank      name symbol    market_cap       price  circulating_supply  \\\n",
       "0   1.0   Bitcoin    BTC  1.022900e+10  649.360000        1.575244e+07   \n",
       "1   2.0  Ethereum    ETH  8.962038e+08   10.950000        8.186286e+07   \n",
       "2   3.0       XRP    XRP  2.359032e+08    0.006674        3.534597e+10   \n",
       "3   4.0  Litecoin    LTC  1.910427e+08    4.099800        4.659775e+07   \n",
       "4   5.0       The    DAO  1.148717e+08    0.099560        1.153837e+09   \n",
       "\n",
       "     volume_24h   %1h   %7h  %24h        date  \n",
       "0  1.025318e+08  0.17 -0.47 -2.10  2016-07-10  \n",
       "1  5.479245e+06  0.71  0.41 -6.89  2016-07-10  \n",
       "2  5.710471e+05  0.19  0.07 -2.43  2016-07-10  \n",
       "3  3.039615e+06  0.11 -1.03 -4.35  2016-07-10  \n",
       "4  6.176618e+05  0.33  1.14  9.96  2016-07-10  "
      ]
     },
     "execution_count": 252,
     "metadata": {},
     "output_type": "execute_result"
    }
   ],
   "source": [
    "halving_02_to_04.head()"
   ]
  },
  {
   "cell_type": "code",
   "execution_count": 253,
   "metadata": {},
   "outputs": [
    {
     "data": {
      "text/plain": [
       "rank                  float64\n",
       "name                   object\n",
       "symbol                 object\n",
       "market_cap            float64\n",
       "price                 float64\n",
       "circulating_supply    float64\n",
       "volume_24h            float64\n",
       "%1h                   float64\n",
       "%7h                   float64\n",
       "%24h                  float64\n",
       "date                   object\n",
       "dtype: object"
      ]
     },
     "execution_count": 253,
     "metadata": {},
     "output_type": "execute_result"
    }
   ],
   "source": [
    "halving_02_to_04.dtypes"
   ]
  },
  {
   "cell_type": "code",
   "execution_count": 254,
   "metadata": {},
   "outputs": [
    {
     "data": {
      "text/plain": [
       "(117144, 11)"
      ]
     },
     "execution_count": 254,
     "metadata": {},
     "output_type": "execute_result"
    }
   ],
   "source": [
    "halving_02_to_04.shape"
   ]
  },
  {
   "cell_type": "code",
   "execution_count": 255,
   "metadata": {},
   "outputs": [
    {
     "data": {
      "text/plain": [
       "rank                      4\n",
       "name                      3\n",
       "symbol                    4\n",
       "market_cap             9296\n",
       "price                   173\n",
       "circulating_supply     4732\n",
       "volume_24h            13755\n",
       "%1h                      79\n",
       "%7h                    1410\n",
       "%24h                   2042\n",
       "date                      0\n",
       "dtype: int64"
      ]
     },
     "execution_count": 255,
     "metadata": {},
     "output_type": "execute_result"
    }
   ],
   "source": [
    "halving_02_to_04.isnull().sum()"
   ]
  },
  {
   "cell_type": "code",
   "execution_count": 256,
   "metadata": {},
   "outputs": [],
   "source": [
    "halving_02_to_04.dropna(inplace=True)"
   ]
  },
  {
   "cell_type": "code",
   "execution_count": 258,
   "metadata": {},
   "outputs": [
    {
     "data": {
      "text/plain": [
       "(92282, 11)"
      ]
     },
     "execution_count": 258,
     "metadata": {},
     "output_type": "execute_result"
    }
   ],
   "source": [
    "halving_02_to_04.shape"
   ]
  },
  {
   "cell_type": "code",
   "execution_count": 259,
   "metadata": {},
   "outputs": [],
   "source": [
    "numeric=halving_02_to_04.select_dtypes(include=['float64','int64'])\n",
    "scaler = StandardScaler()\n",
    "numeric_scaled = scaler.fit_transform(numeric)\n",
    "numeric_scaled = pd.DataFrame(numeric_scaled,columns=numeric.columns)\n",
    "halving_02_to_04.drop(columns=numeric.columns,inplace=True)\n",
    "halving_02_to_04 = pd.concat([halving_02_to_04,numeric_scaled],axis=1)"
   ]
  },
  {
   "cell_type": "code",
   "execution_count": 262,
   "metadata": {},
   "outputs": [],
   "source": [
    "halving_02_to_04['class'] = halving_02_to_04['symbol'].map(tokens_class)\n",
    "halving_02_to_04['class'] = halving_02_to_04['class'].fillna(4)\n",
    "halving_02_to_04['ismultiplatform'] = halving_02_to_04['symbol'].map(coin_list)\n",
    "halving_02_to_04['ismultiplatform'] = halving_02_to_04['ismultiplatform'].fillna(0)\n"
   ]
  },
  {
   "cell_type": "code",
   "execution_count": 263,
   "metadata": {},
   "outputs": [],
   "source": [
    "halving_02_to_04['class'] = halving_02_to_04['class'].astype('object')\n",
    "halving_02_to_04['ismultiplatform'] = halving_02_to_04['ismultiplatform'].astype('object')"
   ]
  },
  {
   "cell_type": "code",
   "execution_count": 264,
   "metadata": {},
   "outputs": [
    {
     "data": {
      "text/html": [
       "<div>\n",
       "<style scoped>\n",
       "    .dataframe tbody tr th:only-of-type {\n",
       "        vertical-align: middle;\n",
       "    }\n",
       "\n",
       "    .dataframe tbody tr th {\n",
       "        vertical-align: top;\n",
       "    }\n",
       "\n",
       "    .dataframe thead th {\n",
       "        text-align: right;\n",
       "    }\n",
       "</style>\n",
       "<table border=\"1\" class=\"dataframe\">\n",
       "  <thead>\n",
       "    <tr style=\"text-align: right;\">\n",
       "      <th></th>\n",
       "      <th>name</th>\n",
       "      <th>symbol</th>\n",
       "      <th>date</th>\n",
       "      <th>rank</th>\n",
       "      <th>market_cap</th>\n",
       "      <th>price</th>\n",
       "      <th>circulating_supply</th>\n",
       "      <th>volume_24h</th>\n",
       "      <th>%1h</th>\n",
       "      <th>%7h</th>\n",
       "      <th>%24h</th>\n",
       "      <th>class</th>\n",
       "      <th>ismultiplatform</th>\n",
       "    </tr>\n",
       "  </thead>\n",
       "  <tbody>\n",
       "    <tr>\n",
       "      <th>0</th>\n",
       "      <td>Bitcoin</td>\n",
       "      <td>BTC</td>\n",
       "      <td>2016-07-10</td>\n",
       "      <td>-1.344634</td>\n",
       "      <td>1.128958</td>\n",
       "      <td>0.351651</td>\n",
       "      <td>-0.066697</td>\n",
       "      <td>0.035421</td>\n",
       "      <td>-0.002128</td>\n",
       "      <td>-0.040551</td>\n",
       "      <td>-0.069267</td>\n",
       "      <td>4.0</td>\n",
       "      <td>1.0</td>\n",
       "    </tr>\n",
       "    <tr>\n",
       "      <th>1</th>\n",
       "      <td>Ethereum</td>\n",
       "      <td>ETH</td>\n",
       "      <td>2016-07-10</td>\n",
       "      <td>-1.343051</td>\n",
       "      <td>0.071937</td>\n",
       "      <td>-0.040338</td>\n",
       "      <td>-0.062407</td>\n",
       "      <td>-0.033380</td>\n",
       "      <td>0.038748</td>\n",
       "      <td>-0.029452</td>\n",
       "      <td>-0.097650</td>\n",
       "      <td>4.0</td>\n",
       "      <td>1.0</td>\n",
       "    </tr>\n",
       "    <tr>\n",
       "      <th>2</th>\n",
       "      <td>XRP</td>\n",
       "      <td>XRP</td>\n",
       "      <td>2016-07-10</td>\n",
       "      <td>-1.341469</td>\n",
       "      <td>-0.002847</td>\n",
       "      <td>-0.047057</td>\n",
       "      <td>2.225967</td>\n",
       "      <td>-0.036860</td>\n",
       "      <td>-0.000614</td>\n",
       "      <td>-0.033740</td>\n",
       "      <td>-0.071222</td>\n",
       "      <td>4.0</td>\n",
       "      <td>1.0</td>\n",
       "    </tr>\n",
       "    <tr>\n",
       "      <th>3</th>\n",
       "      <td>Litecoin</td>\n",
       "      <td>LTC</td>\n",
       "      <td>2016-07-10</td>\n",
       "      <td>-1.339886</td>\n",
       "      <td>-0.007928</td>\n",
       "      <td>-0.044544</td>\n",
       "      <td>-0.064695</td>\n",
       "      <td>-0.035110</td>\n",
       "      <td>-0.006670</td>\n",
       "      <td>-0.047613</td>\n",
       "      <td>-0.082599</td>\n",
       "      <td>4.0</td>\n",
       "      <td>0.0</td>\n",
       "    </tr>\n",
       "    <tr>\n",
       "      <th>4</th>\n",
       "      <td>The</td>\n",
       "      <td>DAO</td>\n",
       "      <td>2016-07-10</td>\n",
       "      <td>-1.338304</td>\n",
       "      <td>-0.016555</td>\n",
       "      <td>-0.047000</td>\n",
       "      <td>0.007156</td>\n",
       "      <td>-0.036827</td>\n",
       "      <td>0.009984</td>\n",
       "      <td>-0.020246</td>\n",
       "      <td>0.002194</td>\n",
       "      <td>4.0</td>\n",
       "      <td>1.0</td>\n",
       "    </tr>\n",
       "  </tbody>\n",
       "</table>\n",
       "</div>"
      ],
      "text/plain": [
       "       name symbol        date      rank  market_cap     price  \\\n",
       "0   Bitcoin    BTC  2016-07-10 -1.344634    1.128958  0.351651   \n",
       "1  Ethereum    ETH  2016-07-10 -1.343051    0.071937 -0.040338   \n",
       "2       XRP    XRP  2016-07-10 -1.341469   -0.002847 -0.047057   \n",
       "3  Litecoin    LTC  2016-07-10 -1.339886   -0.007928 -0.044544   \n",
       "4       The    DAO  2016-07-10 -1.338304   -0.016555 -0.047000   \n",
       "\n",
       "   circulating_supply  volume_24h       %1h       %7h      %24h class  \\\n",
       "0           -0.066697    0.035421 -0.002128 -0.040551 -0.069267   4.0   \n",
       "1           -0.062407   -0.033380  0.038748 -0.029452 -0.097650   4.0   \n",
       "2            2.225967   -0.036860 -0.000614 -0.033740 -0.071222   4.0   \n",
       "3           -0.064695   -0.035110 -0.006670 -0.047613 -0.082599   4.0   \n",
       "4            0.007156   -0.036827  0.009984 -0.020246  0.002194   4.0   \n",
       "\n",
       "  ismultiplatform  \n",
       "0             1.0  \n",
       "1             1.0  \n",
       "2             1.0  \n",
       "3             0.0  \n",
       "4             1.0  "
      ]
     },
     "execution_count": 264,
     "metadata": {},
     "output_type": "execute_result"
    }
   ],
   "source": [
    "halving_02_to_04.head()"
   ]
  },
  {
   "cell_type": "code",
   "execution_count": 260,
   "metadata": {},
   "outputs": [
    {
     "data": {
      "text/plain": [
       "name                  0\n",
       "symbol                0\n",
       "date                  0\n",
       "rank                  0\n",
       "market_cap            0\n",
       "price                 0\n",
       "circulating_supply    0\n",
       "volume_24h            0\n",
       "%1h                   0\n",
       "%7h                   0\n",
       "%24h                  0\n",
       "dtype: int64"
      ]
     },
     "execution_count": 260,
     "metadata": {},
     "output_type": "execute_result"
    }
   ],
   "source": [
    "halving_02_to_04.isnull().sum()"
   ]
  },
  {
   "cell_type": "code",
   "execution_count": 265,
   "metadata": {},
   "outputs": [],
   "source": [
    "halving_02_to_04.to_csv(\"data/clean/halving_02_to_04_v2.csv\",index=False)"
   ]
  }
 ],
 "metadata": {
  "kernelspec": {
   "display_name": "env",
   "language": "python",
   "name": "python3"
  },
  "language_info": {
   "codemirror_mode": {
    "name": "ipython",
    "version": 3
   },
   "file_extension": ".py",
   "mimetype": "text/x-python",
   "name": "python",
   "nbconvert_exporter": "python",
   "pygments_lexer": "ipython3",
   "version": "3.12.0"
  }
 },
 "nbformat": 4,
 "nbformat_minor": 2
}
