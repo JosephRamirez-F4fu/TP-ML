{
 "cells": [
  {
   "cell_type": "markdown",
   "metadata": {},
   "source": [
    "# DATA COMPREHESION"
   ]
  },
  {
   "cell_type": "markdown",
   "metadata": {},
   "source": [
    "## DATA MINING"
   ]
  },
  {
   "cell_type": "markdown",
   "metadata": {},
   "source": [
    "El objetivo es obtener todos los datos relacionados a cada token identificado por un atributo\n",
    "llamado clase: Clase: (0: IA, 1: Gaming, 2: RWA, 3: Meme).\n",
    "Se deben capturar datos en los siguientes periodos (desde la fecha del Halving, los siguientes\n",
    "250 días):\n",
    "<br/>\n",
    "- Halving #1: 2/12/2012 + 250 días\n",
    "- Halving #2: 2/07/2016 + 250 días\n",
    "- Halving #3: 3/05/2020 + 250 días\n",
    "\n",
    "Algunos de las características importantes a considerar son las siguientes:\n",
    "-  Fecha de la captura (en formato dd/mm/yyyy)\n",
    "-  Token: nombre corto del token\n",
    "-  Nombre: nombre del token/proyecto\n",
    "-  Valor del activo (en US$)\n",
    "-  Capitalización total de mercado (market cap)\n",
    "-  Posición en el ranking de criptomonedas\n",
    "-  Volumen (volumen 24h)\n",
    "-  Suministro circulante (circulating supply)\n",
    "-  Suministro total (total supply)\n",
    "-  Suministro máximo (max supply)\n",
    "-  Calificación\n",
    "-  Indicador de multi cadena (multichain)\n",
    "-  Indicador de listado o no en Exchanges Centralizados (CEX)\n",
    "- Clase: (0: IA, 1: Gaming, 2: RWA, 3: Meme)\n",
    "\n",
    "**IMPORTANTE: existirán tokens que son nuevos y por tanto no han vivido aun un Halving. Para estos\n",
    "casos, contemplar adquirir los datos de dichos tokens desde la fecha de su creación hasta la fecha\n",
    "del Halving #4: 20/04/2024.**\n"
   ]
  },
  {
   "cell_type": "code",
   "execution_count": 2,
   "metadata": {},
   "outputs": [],
   "source": [
    "import os\n",
    "from dotenv import load_dotenv\n",
    "import time\n",
    "load_dotenv()\n",
    "api_key = os.getenv(\"API_KEY\")"
   ]
  },
  {
   "cell_type": "code",
   "execution_count": 9,
   "metadata": {},
   "outputs": [],
   "source": [
    "from requests import Session\n",
    "from requests.exceptions import ConnectionError, Timeout, TooManyRedirects\n",
    "import json\n",
    "import pandas as pd\n",
    "from pathlib import Path"
   ]
  },
  {
   "cell_type": "code",
   "execution_count": 8,
   "metadata": {},
   "outputs": [],
   "source": [
    "#load json file\n",
    "def load_json(filepath,filename):\n",
    "    with open(filepath+filename, 'r') as f:\n",
    "        data = json.load(f)\n",
    "    return data"
   ]
  },
  {
   "cell_type": "code",
   "execution_count": 6,
   "metadata": {},
   "outputs": [],
   "source": [
    "class CoinGeckoClass:\n",
    "    def __init__(self):\n",
    "        self.api_key=\"CG-4iykpMQk3bQNCYrS4pMjmmXJ\"\n",
    "        self.url_base=\"https://api.coingecko.com/api/v3/\"\n",
    "        self.headers={\n",
    "            \"accept\": \"application/json\",\n",
    "            \"x-cg-api-key\":\"CG-4gmHK6qGSZHmTp1Uh7ThLwr6\"\n",
    "            }\n",
    "        self.session = Session()\n",
    "        self.session.headers.update(self.headers)\n",
    "\n",
    "        \n",
    "    def __catch_error(self, url):\n",
    "        try:\n",
    "            response = self.session.get(url)\n",
    "            data = json.loads(response.text)\n",
    "            return data\n",
    "        except (ConnectionError, Timeout, TooManyRedirects) as e:\n",
    "            print(e)\n",
    "    \n",
    "    def get_categories(self):\n",
    "        url = 'coins/categories'\n",
    "        return self.__catch_error(self.url_base+url)\n",
    "    \n",
    "    def get_asset_platforms(self):\n",
    "        url = 'asset_platforms'\n",
    "        return self.__catch_error(self.url_base+url)\n",
    "    \n",
    "    def get_coin_list(self):\n",
    "        url = 'coins/list?include_platform=true'\n",
    "        return self.__catch_error(self.url_base+url)\n",
    "    \n",
    "    def get_coin_list_with_market_data(self,category):\n",
    "        url = f\"coins/markets?vs_currency=usd&category={category}&per_page=250&sparkline=true&price_change_percentage=1h%2C24h%2C7d&precision=full\"\n",
    "        return self.__catch_error(self.url_base+url)\n",
    "    \n",
    "    def get_exchange_list(self):\n",
    "        url = 'exchanges/list'\n",
    "        return self.__catch_error(self.url_base+url)\n",
    "\n",
    "    def save_json(self,data,filepath,filename):\n",
    "        with open(filepath+filename, 'w') as f:\n",
    "            json.dump(data, f)\n",
    "\n",
    "     \n",
    "\n",
    "    def ping(self):\n",
    "        url=self.url_base+\"ping\"\n",
    "        response = self.session.get(url)\n",
    "        data = json.loads(response.text)\n",
    "        print(data)"
   ]
  },
  {
   "cell_type": "code",
   "execution_count": 13,
   "metadata": {},
   "outputs": [
    {
     "name": "stdout",
     "output_type": "stream",
     "text": [
      "{'gecko_says': '(V3) To the Moon!'}\n"
     ]
    }
   ],
   "source": [
    "api = CoinGeckoClass()\n",
    "api.ping()"
   ]
  },
  {
   "cell_type": "code",
   "execution_count": 18,
   "metadata": {},
   "outputs": [],
   "source": [
    "categories=api.get_categories()\n",
    "api.save_json(categories,\"data/raw/\",\"categories.json\")"
   ]
  },
  {
   "cell_type": "code",
   "execution_count": 22,
   "metadata": {},
   "outputs": [],
   "source": [
    "asset_platforms=api.get_asset_platforms()\n",
    "api.save_json(asset_platforms,\"data/raw/\",\"asset_platforms.json\")"
   ]
  },
  {
   "cell_type": "code",
   "execution_count": 25,
   "metadata": {},
   "outputs": [],
   "source": [
    "coin_list=api.get_coin_list()\n",
    "api.save_json(coin_list,\"data/raw/\",\"coin_list.json\")"
   ]
  },
  {
   "cell_type": "markdown",
   "metadata": {},
   "source": [
    "### rwa"
   ]
  },
  {
   "cell_type": "code",
   "execution_count": 28,
   "metadata": {},
   "outputs": [],
   "source": [
    "coin_list_with_market_data=api.get_coin_list_with_market_data(\"real-world-assets-rwa\")\n",
    "api.save_json(coin_list_with_market_data,\"data/raw/\",\"coin_list_with_market_data_real_world_assets_rwa.json\")"
   ]
  },
  {
   "cell_type": "markdown",
   "metadata": {},
   "source": [
    "### gaming"
   ]
  },
  {
   "cell_type": "code",
   "execution_count": 30,
   "metadata": {},
   "outputs": [],
   "source": [
    "coin_list_with_market_data=api.get_coin_list_with_market_data(\"gaming\")\n",
    "api.save_json(coin_list_with_market_data,\"data/raw/\",\"coin_list_with_market_data_gaming.json\")"
   ]
  },
  {
   "cell_type": "code",
   "execution_count": 31,
   "metadata": {},
   "outputs": [],
   "source": [
    "coin_list_with_market_data=api.get_coin_list_with_market_data(\"play-to-earn\")\n",
    "api.save_json(coin_list_with_market_data,\"data/raw/coin_list_with_market_data/\",\"play_to_earn.json\")\n"
   ]
  },
  {
   "cell_type": "code",
   "execution_count": 32,
   "metadata": {},
   "outputs": [],
   "source": [
    "coin_list_with_market_data=api.get_coin_list_with_market_data(\"gaming-blockchains\")\n",
    "api.save_json(coin_list_with_market_data,\"data/raw/coin_list_with_market_data/\",\"gaming_blockchains.json\")"
   ]
  },
  {
   "cell_type": "code",
   "execution_count": 33,
   "metadata": {},
   "outputs": [],
   "source": [
    "coin_list_with_market_data=api.get_coin_list_with_market_data(\"gaming-utility-token\")\n",
    "api.save_json(coin_list_with_market_data,\"data/raw/coin_list_with_market_data/\",\"gaming_utility_token.json\")"
   ]
  },
  {
   "cell_type": "code",
   "execution_count": 34,
   "metadata": {},
   "outputs": [],
   "source": [
    "coin_list_with_market_data=api.get_coin_list_with_market_data(\"gaming-governance-token\")\n",
    "api.save_json(coin_list_with_market_data,\"data/raw/coin_list_with_market_data/\",\"gaming_governance_token.json\")"
   ]
  },
  {
   "cell_type": "code",
   "execution_count": 35,
   "metadata": {},
   "outputs": [],
   "source": [
    "coin_list_with_market_data=api.get_coin_list_with_market_data(\"gaming-platform\")\n",
    "api.save_json(coin_list_with_market_data,\"data/raw/coin_list_with_market_data/\",\"gaming_platform.json\")"
   ]
  },
  {
   "cell_type": "code",
   "execution_count": 36,
   "metadata": {},
   "outputs": [],
   "source": [
    "coin_list_with_market_data=api.get_coin_list_with_market_data(\"on-chain-gaming\")\n",
    "api.save_json(coin_list_with_market_data,\"data/raw/coin_list_with_market_data/\",\"on_chain_gaming.json\")"
   ]
  },
  {
   "cell_type": "markdown",
   "metadata": {},
   "source": [
    "### memes"
   ]
  },
  {
   "cell_type": "code",
   "execution_count": 4,
   "metadata": {},
   "outputs": [],
   "source": [
    "categories = load_json(\"data/raw/\",\"categories.json\")"
   ]
  },
  {
   "cell_type": "code",
   "execution_count": 5,
   "metadata": {},
   "outputs": [],
   "source": [
    "df_categories=pd.DataFrame(categories)"
   ]
  },
  {
   "cell_type": "code",
   "execution_count": 6,
   "metadata": {},
   "outputs": [],
   "source": [
    "df_categories_meme = df_categories.loc[df_categories['content'].apply(lambda x : \"meme\" in str(x).lower())]"
   ]
  },
  {
   "cell_type": "code",
   "execution_count": 7,
   "metadata": {},
   "outputs": [
    {
     "data": {
      "text/plain": [
       "['meme-token',\n",
       " 'dog-themed-coins',\n",
       " 'elon-musk-inspired-coins',\n",
       " 'solana-meme-coins',\n",
       " 'cat-themed-coins',\n",
       " 'base-meme-coins',\n",
       " 'presale-meme-coins',\n",
       " 'politifi',\n",
       " 'ai-meme-coins',\n",
       " 'parody-meme-coins',\n",
       " 'ton-meme-coins',\n",
       " 'anime-themed-coins',\n",
       " 'duck-themed-coins']"
      ]
     },
     "execution_count": 7,
     "metadata": {},
     "output_type": "execute_result"
    }
   ],
   "source": [
    "df_categories_meme[\"id\"].to_list()"
   ]
  },
  {
   "cell_type": "code",
   "execution_count": 15,
   "metadata": {},
   "outputs": [],
   "source": [
    "for category in df_categories_meme[\"id\"].to_list():\n",
    "    coin_list_with_market_data=api.get_coin_list_with_market_data(category)\n",
    "    api.save_json(coin_list_with_market_data,\"data/raw/coin_list_with_market_data/memes/\",f\"{category.replace('-','_')}.json\")"
   ]
  },
  {
   "cell_type": "markdown",
   "metadata": {},
   "source": [
    "### IA"
   ]
  },
  {
   "cell_type": "code",
   "execution_count": 107,
   "metadata": {},
   "outputs": [],
   "source": [
    "coin_list_with_market_data=api.get_coin_list_with_market_data(\"artificial-intelligence\")\n",
    "api.save_json(coin_list_with_market_data,\"data/raw/coin_list_with_market_data/AI/\",\"artificial_intelligence.json\")"
   ]
  },
  {
   "cell_type": "markdown",
   "metadata": {},
   "source": [
    "### CEX TOKENS"
   ]
  },
  {
   "cell_type": "code",
   "execution_count": 88,
   "metadata": {},
   "outputs": [],
   "source": [
    "coin_list_with_market_data=api.get_coin_list_with_market_data(\"centralized-exchange-token-cex\")\n",
    "api.save_json(coin_list_with_market_data,\"data/raw/coin_list_with_market_data/\",\"centralized_exchange_token_cex.json\")\n"
   ]
  },
  {
   "cell_type": "code",
   "execution_count": 93,
   "metadata": {},
   "outputs": [],
   "source": [
    "data_cex=load_json(\"data/raw/coin_list_with_market_data/\",\"centralized_exchange_token_cex.json\")"
   ]
  },
  {
   "cell_type": "code",
   "execution_count": 95,
   "metadata": {},
   "outputs": [
    {
     "data": {
      "text/plain": [
       "42"
      ]
     },
     "execution_count": 95,
     "metadata": {},
     "output_type": "execute_result"
    }
   ],
   "source": [
    "len(data_cex)"
   ]
  },
  {
   "cell_type": "markdown",
   "metadata": {},
   "source": [
    "### exchanges"
   ]
  },
  {
   "cell_type": "code",
   "execution_count": 74,
   "metadata": {},
   "outputs": [],
   "source": [
    "exchange_list=api.get_exchange_list()\n",
    "api.save_json(exchange_list,\"data/raw/\",\"exchange_list.json\")"
   ]
  },
  {
   "cell_type": "markdown",
   "metadata": {},
   "source": [
    "### clasificando tokens por clase"
   ]
  },
  {
   "cell_type": "markdown",
   "metadata": {},
   "source": [
    "#### gaming"
   ]
  },
  {
   "cell_type": "code",
   "execution_count": 27,
   "metadata": {},
   "outputs": [],
   "source": [
    "#load gaming json files\n",
    "data_folder = Path(\"data/raw/coin_list_with_market_data/gaming/\")\n",
    "gaming_files = [file for file in data_folder.iterdir() if file.is_file()]\n",
    "# to string list"
   ]
  },
  {
   "cell_type": "code",
   "execution_count": 28,
   "metadata": {},
   "outputs": [],
   "source": [
    "df_all_tokens_gaming = pd.DataFrame()\n",
    "for file in gaming_files:\n",
    "    json_file=load_json(\"data/raw/coin_list_with_market_data/gaming/\",file.name)\n",
    "    df = pd.DataFrame(json_file)\n",
    "    df = df[['id','symbol','name']]\n",
    "    df['class']=1\n",
    "    df_all_tokens_gaming = pd.concat([df_all_tokens_gaming,df])\n",
    "    "
   ]
  },
  {
   "cell_type": "code",
   "execution_count": 29,
   "metadata": {},
   "outputs": [],
   "source": [
    "df_all_tokens_gaming.drop_duplicates(subset=['id'],inplace=True)"
   ]
  },
  {
   "cell_type": "code",
   "execution_count": 30,
   "metadata": {},
   "outputs": [
    {
     "data": {
      "text/plain": [
       "329"
      ]
     },
     "execution_count": 30,
     "metadata": {},
     "output_type": "execute_result"
    }
   ],
   "source": [
    "#numeor de toknens gaming\n",
    "len(df_all_tokens_gaming)"
   ]
  },
  {
   "cell_type": "markdown",
   "metadata": {},
   "source": [
    "#### ia"
   ]
  },
  {
   "cell_type": "code",
   "execution_count": 31,
   "metadata": {},
   "outputs": [],
   "source": [
    "data_folder = Path(\"data/raw/coin_list_with_market_data/AI/\")\n",
    "files = [file for file in data_folder.iterdir() if file.is_file()]"
   ]
  },
  {
   "cell_type": "code",
   "execution_count": 32,
   "metadata": {},
   "outputs": [],
   "source": [
    "df_all_tokens_ai = pd.DataFrame()\n",
    "for file in files:\n",
    "    json_file=load_json(\"data/raw/coin_list_with_market_data/AI/\",file.name)\n",
    "    df = pd.DataFrame(json_file)\n",
    "    df = df[['id','symbol','name']]\n",
    "    df['class']=0\n",
    "    df_all_tokens_ai = pd.concat([df_all_tokens_ai,df])"
   ]
  },
  {
   "cell_type": "code",
   "execution_count": 41,
   "metadata": {},
   "outputs": [
    {
     "data": {
      "text/plain": [
       "166"
      ]
     },
     "execution_count": 41,
     "metadata": {},
     "output_type": "execute_result"
    }
   ],
   "source": [
    "len(df_all_tokens_ai)"
   ]
  },
  {
   "cell_type": "markdown",
   "metadata": {},
   "source": [
    "#### memes"
   ]
  },
  {
   "cell_type": "code",
   "execution_count": 33,
   "metadata": {},
   "outputs": [],
   "source": [
    "data_folder = Path(\"data/raw/coin_list_with_market_data/memes/\")\n",
    "files = [file for file in data_folder.iterdir() if file.is_file()]"
   ]
  },
  {
   "cell_type": "code",
   "execution_count": 34,
   "metadata": {},
   "outputs": [],
   "source": [
    "df_all_tokens_memes = pd.DataFrame()\n",
    "for file in files:\n",
    "    json_file=load_json(\"data/raw/coin_list_with_market_data/memes/\",file.name)\n",
    "    df = pd.DataFrame(json_file)\n",
    "    df = df[['id','symbol','name']]\n",
    "    df['class']=3\n",
    "    df_all_tokens_memes = pd.concat([df_all_tokens_memes,df])"
   ]
  },
  {
   "cell_type": "code",
   "execution_count": 35,
   "metadata": {},
   "outputs": [
    {
     "data": {
      "text/plain": [
       "226"
      ]
     },
     "execution_count": 35,
     "metadata": {},
     "output_type": "execute_result"
    }
   ],
   "source": [
    "df_all_tokens_memes.duplicated(subset=['id']).sum()"
   ]
  },
  {
   "cell_type": "code",
   "execution_count": 36,
   "metadata": {},
   "outputs": [],
   "source": [
    "df_all_tokens_memes.drop_duplicates(subset=['id'],inplace=True)"
   ]
  },
  {
   "cell_type": "code",
   "execution_count": 40,
   "metadata": {},
   "outputs": [
    {
     "data": {
      "text/plain": [
       "414"
      ]
     },
     "execution_count": 40,
     "metadata": {},
     "output_type": "execute_result"
    }
   ],
   "source": [
    "len(df_all_tokens_memes)"
   ]
  },
  {
   "cell_type": "markdown",
   "metadata": {},
   "source": [
    "### rwa"
   ]
  },
  {
   "cell_type": "code",
   "execution_count": 37,
   "metadata": {},
   "outputs": [],
   "source": [
    "data_folder = Path(\"data/raw/coin_list_with_market_data/rwa/\")\n",
    "files = [file for file in data_folder.iterdir() if file.is_file()]"
   ]
  },
  {
   "cell_type": "code",
   "execution_count": 38,
   "metadata": {},
   "outputs": [],
   "source": [
    "df_all_tokens_rwa = pd.DataFrame()\n",
    "for file in files:\n",
    "    json_file=load_json(\"data/raw/coin_list_with_market_data/rwa/\",file.name)\n",
    "    df = pd.DataFrame(json_file)\n",
    "    df = df[['id','symbol','name']]\n",
    "    df['class']=2\n",
    "    df_all_tokens_rwa = pd.concat([df_all_tokens_rwa,df])"
   ]
  },
  {
   "cell_type": "code",
   "execution_count": 39,
   "metadata": {},
   "outputs": [
    {
     "data": {
      "text/plain": [
       "131"
      ]
     },
     "execution_count": 39,
     "metadata": {},
     "output_type": "execute_result"
    }
   ],
   "source": [
    "len(df_all_tokens_rwa)"
   ]
  },
  {
   "cell_type": "code",
   "execution_count": 44,
   "metadata": {},
   "outputs": [],
   "source": [
    "df_all_tokens  = pd.concat([df_all_tokens_gaming,df_all_tokens_ai,df_all_tokens_memes,df_all_tokens_rwa])"
   ]
  },
  {
   "cell_type": "code",
   "execution_count": 45,
   "metadata": {},
   "outputs": [
    {
     "data": {
      "text/plain": [
       "21"
      ]
     },
     "execution_count": 45,
     "metadata": {},
     "output_type": "execute_result"
    }
   ],
   "source": [
    "df_all_tokens.duplicated(subset=['id']).sum() # observamos que existen tokenes que tienen  mas de una class "
   ]
  },
  {
   "cell_type": "code",
   "execution_count": 46,
   "metadata": {},
   "outputs": [],
   "source": [
    "df_all_tokens.to_csv(\"data/clean/df_all_tokens.csv\",index=False)"
   ]
  },
  {
   "cell_type": "code",
   "execution_count": 22,
   "metadata": {},
   "outputs": [],
   "source": [
    "df_all_tokens = pd.read_csv(\"data/clean/df_all_tokens.csv\")"
   ]
  },
  {
   "cell_type": "code",
   "execution_count": 23,
   "metadata": {},
   "outputs": [
    {
     "data": {
      "text/html": [
       "<div>\n",
       "<style scoped>\n",
       "    .dataframe tbody tr th:only-of-type {\n",
       "        vertical-align: middle;\n",
       "    }\n",
       "\n",
       "    .dataframe tbody tr th {\n",
       "        vertical-align: top;\n",
       "    }\n",
       "\n",
       "    .dataframe thead th {\n",
       "        text-align: right;\n",
       "    }\n",
       "</style>\n",
       "<table border=\"1\" class=\"dataframe\">\n",
       "  <thead>\n",
       "    <tr style=\"text-align: right;\">\n",
       "      <th></th>\n",
       "      <th>id</th>\n",
       "      <th>symbol</th>\n",
       "      <th>name</th>\n",
       "      <th>class</th>\n",
       "    </tr>\n",
       "  </thead>\n",
       "  <tbody>\n",
       "    <tr>\n",
       "      <th>0</th>\n",
       "      <td>immutable-x</td>\n",
       "      <td>imx</td>\n",
       "      <td>Immutable</td>\n",
       "      <td>1</td>\n",
       "    </tr>\n",
       "    <tr>\n",
       "      <th>1</th>\n",
       "      <td>floki</td>\n",
       "      <td>floki</td>\n",
       "      <td>FLOKI</td>\n",
       "      <td>1</td>\n",
       "    </tr>\n",
       "    <tr>\n",
       "      <th>2</th>\n",
       "      <td>gala</td>\n",
       "      <td>gala</td>\n",
       "      <td>GALA</td>\n",
       "      <td>1</td>\n",
       "    </tr>\n",
       "    <tr>\n",
       "      <th>3</th>\n",
       "      <td>beam-2</td>\n",
       "      <td>beam</td>\n",
       "      <td>Beam</td>\n",
       "      <td>1</td>\n",
       "    </tr>\n",
       "    <tr>\n",
       "      <th>4</th>\n",
       "      <td>axie-infinity</td>\n",
       "      <td>axs</td>\n",
       "      <td>Axie Infinity</td>\n",
       "      <td>1</td>\n",
       "    </tr>\n",
       "  </tbody>\n",
       "</table>\n",
       "</div>"
      ],
      "text/plain": [
       "              id symbol           name  class\n",
       "0    immutable-x    imx      Immutable      1\n",
       "1          floki  floki          FLOKI      1\n",
       "2           gala   gala           GALA      1\n",
       "3         beam-2   beam           Beam      1\n",
       "4  axie-infinity    axs  Axie Infinity      1"
      ]
     },
     "execution_count": 23,
     "metadata": {},
     "output_type": "execute_result"
    }
   ],
   "source": [
    "df_all_tokens.head()"
   ]
  },
  {
   "cell_type": "code",
   "execution_count": 9,
   "metadata": {},
   "outputs": [
    {
     "data": {
      "text/plain": [
       "1040"
      ]
     },
     "execution_count": 9,
     "metadata": {},
     "output_type": "execute_result"
    }
   ],
   "source": [
    "len(df_all_tokens)"
   ]
  },
  {
   "cell_type": "code",
   "execution_count": 15,
   "metadata": {},
   "outputs": [],
   "source": [
    "## is in exchange centralized\n",
    "exchange_list=load_json(\"data/raw/coin_list_with_market_data/\",\"centralized_exchange_token_cex.json\")\n",
    "df_exchange_list = pd.DataFrame(exchange_list)"
   ]
  },
  {
   "cell_type": "code",
   "execution_count": 17,
   "metadata": {},
   "outputs": [],
   "source": [
    "df_exchange_list = df_exchange_list[['id','name']]"
   ]
  },
  {
   "cell_type": "code",
   "execution_count": 24,
   "metadata": {},
   "outputs": [],
   "source": [
    "## if id is in exchange centralized centralizaed true\n",
    "df_all_tokens['centralized']=df_all_tokens['id'].apply(lambda x: 1 if x in df_exchange_list['id'].to_list() else 0)"
   ]
  },
  {
   "cell_type": "code",
   "execution_count": 26,
   "metadata": {},
   "outputs": [
    {
     "data": {
      "text/plain": [
       "0"
      ]
     },
     "execution_count": 26,
     "metadata": {},
     "output_type": "execute_result"
    }
   ],
   "source": [
    "df_all_tokens[df_all_tokens['centralized']==1].count().sum()"
   ]
  },
  {
   "cell_type": "code",
   "execution_count": 27,
   "metadata": {},
   "outputs": [
    {
     "data": {
      "text/html": [
       "<div>\n",
       "<style scoped>\n",
       "    .dataframe tbody tr th:only-of-type {\n",
       "        vertical-align: middle;\n",
       "    }\n",
       "\n",
       "    .dataframe tbody tr th {\n",
       "        vertical-align: top;\n",
       "    }\n",
       "\n",
       "    .dataframe thead th {\n",
       "        text-align: right;\n",
       "    }\n",
       "</style>\n",
       "<table border=\"1\" class=\"dataframe\">\n",
       "  <thead>\n",
       "    <tr style=\"text-align: right;\">\n",
       "      <th></th>\n",
       "      <th>id</th>\n",
       "      <th>symbol</th>\n",
       "      <th>name</th>\n",
       "      <th>class</th>\n",
       "      <th>centralized</th>\n",
       "    </tr>\n",
       "  </thead>\n",
       "  <tbody>\n",
       "    <tr>\n",
       "      <th>0</th>\n",
       "      <td>immutable-x</td>\n",
       "      <td>imx</td>\n",
       "      <td>Immutable</td>\n",
       "      <td>1</td>\n",
       "      <td>0</td>\n",
       "    </tr>\n",
       "    <tr>\n",
       "      <th>1</th>\n",
       "      <td>floki</td>\n",
       "      <td>floki</td>\n",
       "      <td>FLOKI</td>\n",
       "      <td>1</td>\n",
       "      <td>0</td>\n",
       "    </tr>\n",
       "    <tr>\n",
       "      <th>2</th>\n",
       "      <td>gala</td>\n",
       "      <td>gala</td>\n",
       "      <td>GALA</td>\n",
       "      <td>1</td>\n",
       "      <td>0</td>\n",
       "    </tr>\n",
       "    <tr>\n",
       "      <th>3</th>\n",
       "      <td>beam-2</td>\n",
       "      <td>beam</td>\n",
       "      <td>Beam</td>\n",
       "      <td>1</td>\n",
       "      <td>0</td>\n",
       "    </tr>\n",
       "    <tr>\n",
       "      <th>4</th>\n",
       "      <td>axie-infinity</td>\n",
       "      <td>axs</td>\n",
       "      <td>Axie Infinity</td>\n",
       "      <td>1</td>\n",
       "      <td>0</td>\n",
       "    </tr>\n",
       "  </tbody>\n",
       "</table>\n",
       "</div>"
      ],
      "text/plain": [
       "              id symbol           name  class  centralized\n",
       "0    immutable-x    imx      Immutable      1            0\n",
       "1          floki  floki          FLOKI      1            0\n",
       "2           gala   gala           GALA      1            0\n",
       "3         beam-2   beam           Beam      1            0\n",
       "4  axie-infinity    axs  Axie Infinity      1            0"
      ]
     },
     "execution_count": 27,
     "metadata": {},
     "output_type": "execute_result"
    }
   ],
   "source": [
    "df_all_tokens.head()"
   ]
  },
  {
   "cell_type": "code",
   "execution_count": 29,
   "metadata": {},
   "outputs": [],
   "source": [
    "token_list_json = load_json(\"data/raw/\",\"coin_list.json\")\n",
    "df_token_list = pd.DataFrame(token_list_json)"
   ]
  },
  {
   "cell_type": "code",
   "execution_count": 30,
   "metadata": {},
   "outputs": [
    {
     "data": {
      "text/html": [
       "<div>\n",
       "<style scoped>\n",
       "    .dataframe tbody tr th:only-of-type {\n",
       "        vertical-align: middle;\n",
       "    }\n",
       "\n",
       "    .dataframe tbody tr th {\n",
       "        vertical-align: top;\n",
       "    }\n",
       "\n",
       "    .dataframe thead th {\n",
       "        text-align: right;\n",
       "    }\n",
       "</style>\n",
       "<table border=\"1\" class=\"dataframe\">\n",
       "  <thead>\n",
       "    <tr style=\"text-align: right;\">\n",
       "      <th></th>\n",
       "      <th>id</th>\n",
       "      <th>symbol</th>\n",
       "      <th>name</th>\n",
       "      <th>platforms</th>\n",
       "    </tr>\n",
       "  </thead>\n",
       "  <tbody>\n",
       "    <tr>\n",
       "      <th>0</th>\n",
       "      <td>01coin</td>\n",
       "      <td>zoc</td>\n",
       "      <td>01coin</td>\n",
       "      <td>{}</td>\n",
       "    </tr>\n",
       "    <tr>\n",
       "      <th>1</th>\n",
       "      <td>0chain</td>\n",
       "      <td>zcn</td>\n",
       "      <td>Zus</td>\n",
       "      <td>{'ethereum': '0xb9ef770b6a5e12e45983c5d8054525...</td>\n",
       "    </tr>\n",
       "    <tr>\n",
       "      <th>2</th>\n",
       "      <td>0-knowledge-network</td>\n",
       "      <td>0kn</td>\n",
       "      <td>0 Knowledge Network</td>\n",
       "      <td>{'ethereum': '0x4594cffbfc09bc5e7ecf1c2e1c1e24...</td>\n",
       "    </tr>\n",
       "    <tr>\n",
       "      <th>3</th>\n",
       "      <td>0-mee</td>\n",
       "      <td>ome</td>\n",
       "      <td>O-MEE</td>\n",
       "      <td>{'ethereum': '0xbd89b8d708809e7022135313683663...</td>\n",
       "    </tr>\n",
       "    <tr>\n",
       "      <th>4</th>\n",
       "      <td>0vix-protocol</td>\n",
       "      <td>vix</td>\n",
       "      <td>0VIX Protocol</td>\n",
       "      <td>{}</td>\n",
       "    </tr>\n",
       "  </tbody>\n",
       "</table>\n",
       "</div>"
      ],
      "text/plain": [
       "                    id symbol                 name  \\\n",
       "0               01coin    zoc               01coin   \n",
       "1               0chain    zcn                  Zus   \n",
       "2  0-knowledge-network    0kn  0 Knowledge Network   \n",
       "3                0-mee    ome                O-MEE   \n",
       "4        0vix-protocol    vix        0VIX Protocol   \n",
       "\n",
       "                                           platforms  \n",
       "0                                                 {}  \n",
       "1  {'ethereum': '0xb9ef770b6a5e12e45983c5d8054525...  \n",
       "2  {'ethereum': '0x4594cffbfc09bc5e7ecf1c2e1c1e24...  \n",
       "3  {'ethereum': '0xbd89b8d708809e7022135313683663...  \n",
       "4                                                 {}  "
      ]
     },
     "execution_count": 30,
     "metadata": {},
     "output_type": "execute_result"
    }
   ],
   "source": [
    "df_token_list.head()"
   ]
  },
  {
   "cell_type": "code",
   "execution_count": 31,
   "metadata": {},
   "outputs": [],
   "source": [
    "df_token_list['platforms']=df_token_list['platforms'].apply(lambda x: len(x.keys()))"
   ]
  },
  {
   "cell_type": "code",
   "execution_count": 32,
   "metadata": {},
   "outputs": [
    {
     "data": {
      "text/html": [
       "<div>\n",
       "<style scoped>\n",
       "    .dataframe tbody tr th:only-of-type {\n",
       "        vertical-align: middle;\n",
       "    }\n",
       "\n",
       "    .dataframe tbody tr th {\n",
       "        vertical-align: top;\n",
       "    }\n",
       "\n",
       "    .dataframe thead th {\n",
       "        text-align: right;\n",
       "    }\n",
       "</style>\n",
       "<table border=\"1\" class=\"dataframe\">\n",
       "  <thead>\n",
       "    <tr style=\"text-align: right;\">\n",
       "      <th></th>\n",
       "      <th>id</th>\n",
       "      <th>symbol</th>\n",
       "      <th>name</th>\n",
       "      <th>platforms</th>\n",
       "    </tr>\n",
       "  </thead>\n",
       "  <tbody>\n",
       "    <tr>\n",
       "      <th>0</th>\n",
       "      <td>01coin</td>\n",
       "      <td>zoc</td>\n",
       "      <td>01coin</td>\n",
       "      <td>0</td>\n",
       "    </tr>\n",
       "    <tr>\n",
       "      <th>1</th>\n",
       "      <td>0chain</td>\n",
       "      <td>zcn</td>\n",
       "      <td>Zus</td>\n",
       "      <td>2</td>\n",
       "    </tr>\n",
       "    <tr>\n",
       "      <th>2</th>\n",
       "      <td>0-knowledge-network</td>\n",
       "      <td>0kn</td>\n",
       "      <td>0 Knowledge Network</td>\n",
       "      <td>1</td>\n",
       "    </tr>\n",
       "    <tr>\n",
       "      <th>3</th>\n",
       "      <td>0-mee</td>\n",
       "      <td>ome</td>\n",
       "      <td>O-MEE</td>\n",
       "      <td>1</td>\n",
       "    </tr>\n",
       "    <tr>\n",
       "      <th>4</th>\n",
       "      <td>0vix-protocol</td>\n",
       "      <td>vix</td>\n",
       "      <td>0VIX Protocol</td>\n",
       "      <td>0</td>\n",
       "    </tr>\n",
       "  </tbody>\n",
       "</table>\n",
       "</div>"
      ],
      "text/plain": [
       "                    id symbol                 name  platforms\n",
       "0               01coin    zoc               01coin          0\n",
       "1               0chain    zcn                  Zus          2\n",
       "2  0-knowledge-network    0kn  0 Knowledge Network          1\n",
       "3                0-mee    ome                O-MEE          1\n",
       "4        0vix-protocol    vix        0VIX Protocol          0"
      ]
     },
     "execution_count": 32,
     "metadata": {},
     "output_type": "execute_result"
    }
   ],
   "source": [
    "df_token_list.head()"
   ]
  },
  {
   "cell_type": "code",
   "execution_count": 33,
   "metadata": {},
   "outputs": [],
   "source": [
    "## drop where platforms is 0\n",
    "df_token_list = df_token_list[df_token_list['platforms']>0]"
   ]
  },
  {
   "cell_type": "code",
   "execution_count": 34,
   "metadata": {},
   "outputs": [
    {
     "data": {
      "text/html": [
       "<div>\n",
       "<style scoped>\n",
       "    .dataframe tbody tr th:only-of-type {\n",
       "        vertical-align: middle;\n",
       "    }\n",
       "\n",
       "    .dataframe tbody tr th {\n",
       "        vertical-align: top;\n",
       "    }\n",
       "\n",
       "    .dataframe thead th {\n",
       "        text-align: right;\n",
       "    }\n",
       "</style>\n",
       "<table border=\"1\" class=\"dataframe\">\n",
       "  <thead>\n",
       "    <tr style=\"text-align: right;\">\n",
       "      <th></th>\n",
       "      <th>id</th>\n",
       "      <th>symbol</th>\n",
       "      <th>name</th>\n",
       "      <th>platforms</th>\n",
       "    </tr>\n",
       "  </thead>\n",
       "  <tbody>\n",
       "    <tr>\n",
       "      <th>1</th>\n",
       "      <td>0chain</td>\n",
       "      <td>zcn</td>\n",
       "      <td>Zus</td>\n",
       "      <td>2</td>\n",
       "    </tr>\n",
       "    <tr>\n",
       "      <th>2</th>\n",
       "      <td>0-knowledge-network</td>\n",
       "      <td>0kn</td>\n",
       "      <td>0 Knowledge Network</td>\n",
       "      <td>1</td>\n",
       "    </tr>\n",
       "    <tr>\n",
       "      <th>3</th>\n",
       "      <td>0-mee</td>\n",
       "      <td>ome</td>\n",
       "      <td>O-MEE</td>\n",
       "      <td>1</td>\n",
       "    </tr>\n",
       "    <tr>\n",
       "      <th>5</th>\n",
       "      <td>0vm</td>\n",
       "      <td>zerovm</td>\n",
       "      <td>0VM</td>\n",
       "      <td>1</td>\n",
       "    </tr>\n",
       "    <tr>\n",
       "      <th>6</th>\n",
       "      <td>0x</td>\n",
       "      <td>zrx</td>\n",
       "      <td>0x Protocol</td>\n",
       "      <td>4</td>\n",
       "    </tr>\n",
       "  </tbody>\n",
       "</table>\n",
       "</div>"
      ],
      "text/plain": [
       "                    id  symbol                 name  platforms\n",
       "1               0chain     zcn                  Zus          2\n",
       "2  0-knowledge-network     0kn  0 Knowledge Network          1\n",
       "3                0-mee     ome                O-MEE          1\n",
       "5                  0vm  zerovm                  0VM          1\n",
       "6                   0x     zrx          0x Protocol          4"
      ]
     },
     "execution_count": 34,
     "metadata": {},
     "output_type": "execute_result"
    }
   ],
   "source": [
    "df_token_list.head()"
   ]
  },
  {
   "cell_type": "code",
   "execution_count": 35,
   "metadata": {},
   "outputs": [],
   "source": [
    "## if id is in token list multiplatforms true and is more than one platform\n",
    "df_all_tokens['isMultiplatforms']=df_all_tokens['id'].apply(lambda x: 1 if x in df_token_list['id'].to_list() \n",
    "                                                          and df_token_list[df_token_list['id']==x]['platforms'].values[0]>1 else 0)"
   ]
  },
  {
   "cell_type": "code",
   "execution_count": 36,
   "metadata": {},
   "outputs": [
    {
     "data": {
      "text/html": [
       "<div>\n",
       "<style scoped>\n",
       "    .dataframe tbody tr th:only-of-type {\n",
       "        vertical-align: middle;\n",
       "    }\n",
       "\n",
       "    .dataframe tbody tr th {\n",
       "        vertical-align: top;\n",
       "    }\n",
       "\n",
       "    .dataframe thead th {\n",
       "        text-align: right;\n",
       "    }\n",
       "</style>\n",
       "<table border=\"1\" class=\"dataframe\">\n",
       "  <thead>\n",
       "    <tr style=\"text-align: right;\">\n",
       "      <th></th>\n",
       "      <th>id</th>\n",
       "      <th>symbol</th>\n",
       "      <th>name</th>\n",
       "      <th>class</th>\n",
       "      <th>centralized</th>\n",
       "      <th>isMultiplatforms</th>\n",
       "    </tr>\n",
       "  </thead>\n",
       "  <tbody>\n",
       "    <tr>\n",
       "      <th>0</th>\n",
       "      <td>immutable-x</td>\n",
       "      <td>imx</td>\n",
       "      <td>Immutable</td>\n",
       "      <td>1</td>\n",
       "      <td>0</td>\n",
       "      <td>0</td>\n",
       "    </tr>\n",
       "    <tr>\n",
       "      <th>1</th>\n",
       "      <td>floki</td>\n",
       "      <td>floki</td>\n",
       "      <td>FLOKI</td>\n",
       "      <td>1</td>\n",
       "      <td>0</td>\n",
       "      <td>1</td>\n",
       "    </tr>\n",
       "    <tr>\n",
       "      <th>2</th>\n",
       "      <td>gala</td>\n",
       "      <td>gala</td>\n",
       "      <td>GALA</td>\n",
       "      <td>1</td>\n",
       "      <td>0</td>\n",
       "      <td>0</td>\n",
       "    </tr>\n",
       "    <tr>\n",
       "      <th>3</th>\n",
       "      <td>beam-2</td>\n",
       "      <td>beam</td>\n",
       "      <td>Beam</td>\n",
       "      <td>1</td>\n",
       "      <td>0</td>\n",
       "      <td>1</td>\n",
       "    </tr>\n",
       "    <tr>\n",
       "      <th>4</th>\n",
       "      <td>axie-infinity</td>\n",
       "      <td>axs</td>\n",
       "      <td>Axie Infinity</td>\n",
       "      <td>1</td>\n",
       "      <td>0</td>\n",
       "      <td>1</td>\n",
       "    </tr>\n",
       "  </tbody>\n",
       "</table>\n",
       "</div>"
      ],
      "text/plain": [
       "              id symbol           name  class  centralized  isMultiplatforms\n",
       "0    immutable-x    imx      Immutable      1            0                 0\n",
       "1          floki  floki          FLOKI      1            0                 1\n",
       "2           gala   gala           GALA      1            0                 0\n",
       "3         beam-2   beam           Beam      1            0                 1\n",
       "4  axie-infinity    axs  Axie Infinity      1            0                 1"
      ]
     },
     "execution_count": 36,
     "metadata": {},
     "output_type": "execute_result"
    }
   ],
   "source": [
    "df_all_tokens.head()"
   ]
  },
  {
   "cell_type": "code",
   "execution_count": 37,
   "metadata": {},
   "outputs": [],
   "source": [
    "df_all_tokens.to_csv(\"data/clean/df_all_tokens_v2.csv\",index=False)"
   ]
  },
  {
   "cell_type": "markdown",
   "metadata": {},
   "source": [
    "### join all memes coins in one csv"
   ]
  },
  {
   "cell_type": "code",
   "execution_count": 55,
   "metadata": {},
   "outputs": [],
   "source": [
    "data_folder = Path(\"data/raw/coin_list_with_market_data/gaming/\")\n",
    "files = [file for file in data_folder.iterdir() if file.is_file()]\n",
    "df_gaming = pd.DataFrame()\n",
    "for file in files:\n",
    "    df = pd.read_json(file)\n",
    "    df_gaming = pd.concat([df_gaming,df])\n",
    "df_gaming.drop_duplicates(subset=['id'],inplace=True)\n",
    "df_gaming = df_gaming[['id',\"symbol\",\"name\",'current_price','market_cap','market_cap_rank','fully_diluted_valuation','total_volume','high_24h','low_24h','price_change_24h','price_change_percentage_24h','market_cap_change_24h','market_cap_change_percentage_24h','circulating_supply','total_supply','max_supply']]\n",
    "df_gaming.to_csv(\"data/clean/df_gaming.csv\",index=False)"
   ]
  },
  {
   "cell_type": "code",
   "execution_count": 56,
   "metadata": {},
   "outputs": [],
   "source": [
    "data_folder = Path(\"data/raw/coin_list_with_market_data/memes/\")\n",
    "files = [file for file in data_folder.iterdir() if file.is_file()]\n",
    "df_memes = pd.DataFrame()\n"
   ]
  },
  {
   "cell_type": "code",
   "execution_count": 57,
   "metadata": {},
   "outputs": [],
   "source": [
    "for file in files:\n",
    "    json_file=load_json(\"data/raw/coin_list_with_market_data/memes/\",file.name)\n",
    "    df = pd.DataFrame(json_file)\n",
    "    df_memes = pd.concat([df_gaming,df])\n",
    "df_memes.drop_duplicates(subset=['id'],inplace=True)\n",
    "df_memes = df_memes[['id',\"symbol\",\"name\",'current_price','market_cap','market_cap_rank','fully_diluted_valuation','total_volume','high_24h','low_24h','price_change_24h','price_change_percentage_24h','market_cap_change_24h','market_cap_change_percentage_24h','circulating_supply','total_supply','max_supply']]\n",
    "df_memes.to_csv(\"data/clean/df_memes.csv\",index=False)"
   ]
  },
  {
   "cell_type": "code",
   "execution_count": 58,
   "metadata": {},
   "outputs": [],
   "source": [
    "data_folder = Path(\"data/raw/coin_list_with_market_data/AI/\")\n",
    "files = [file for file in data_folder.iterdir() if file.is_file()]\n",
    "df_ai = pd.DataFrame()\n",
    "for file in files:\n",
    "    df = pd.read_json(file)\n",
    "    df_ai = pd.concat([df_ai,df])\n",
    "df_ai.drop_duplicates(subset=['id'],inplace=True)\n",
    "df_ai = df_ai[['id',\"symbol\",\"name\",'current_price','market_cap','market_cap_rank','fully_diluted_valuation','total_volume','high_24h','low_24h','price_change_24h','price_change_percentage_24h','market_cap_change_24h','market_cap_change_percentage_24h','circulating_supply','total_supply','max_supply']]\n",
    "df_ai.to_csv(\"data/clean/df_ai.csv\",index=False)"
   ]
  },
  {
   "cell_type": "code",
   "execution_count": 59,
   "metadata": {},
   "outputs": [],
   "source": [
    "data_folder = Path(\"data/raw/coin_list_with_market_data/rwa/\")\n",
    "files = [file for file in data_folder.iterdir() if file.is_file()]\n",
    "df_rwa = pd.DataFrame()\n",
    "for file in files:\n",
    "    df = pd.read_json(file)\n",
    "    df_rwa = pd.concat([df_rwa,df])\n",
    "df_rwa.drop_duplicates(subset=['id'],inplace=True)\n",
    "df_rwa = df_rwa[['id',\"symbol\",\"name\",'current_price','market_cap','market_cap_rank','fully_diluted_valuation','total_volume','high_24h','low_24h','price_change_24h','price_change_percentage_24h','market_cap_change_24h','market_cap_change_percentage_24h','circulating_supply','total_supply','max_supply']]\n",
    "df_rwa.to_csv(\"data/clean/df_rwa.csv\",index=False)"
   ]
  },
  {
   "cell_type": "code",
   "execution_count": 122,
   "metadata": {},
   "outputs": [],
   "source": [
    "df_all_tokens = pd.read_csv(\"data/clean/df_all_tokens_v2.csv\")"
   ]
  },
  {
   "cell_type": "code",
   "execution_count": 123,
   "metadata": {},
   "outputs": [],
   "source": [
    "df_all_tokens.drop_duplicates(subset=['id'],inplace=True)"
   ]
  },
  {
   "cell_type": "code",
   "execution_count": 124,
   "metadata": {},
   "outputs": [],
   "source": [
    "df_gaming = pd.read_csv(\"data/clean/df_gaming.csv\")\n",
    "df_memes = pd.read_csv(\"data/clean/df_memes.csv\")\n",
    "df_ai = pd.read_csv(\"data/clean/df_ai.csv\")\n",
    "df_rwa = pd.read_csv(\"data/clean/df_rwa.csv\")"
   ]
  },
  {
   "cell_type": "code",
   "execution_count": 125,
   "metadata": {},
   "outputs": [],
   "source": [
    "df_gaming = df_gaming.rename(columns=lambda x: x + '_gaming' if x not in ['id'] else x)\n",
    "df_ai = df_ai.rename(columns=lambda x: x + '_ai' if x not in ['id'] else x)\n",
    "df_memes = df_memes.rename(columns=lambda x: x + '_memes' if x not in ['id'] else x)\n",
    "df_rwa = df_rwa.rename(columns=lambda x: x + '_rwa' if x not in ['id'] else x)\n"
   ]
  },
  {
   "cell_type": "code",
   "execution_count": 126,
   "metadata": {},
   "outputs": [],
   "source": [
    "df_all_tokens = pd.merge(df_all_tokens,df_gaming,on='id',how='left')\n",
    "df_all_tokens = pd.merge(df_all_tokens,df_ai,on='id',how='left')\n",
    "df_all_tokens = pd.merge(df_all_tokens,df_memes,on='id',how='left')\n",
    "df_all_tokens = pd.merge(df_all_tokens,df_rwa,on='id',how='left')\n"
   ]
  },
  {
   "cell_type": "code",
   "execution_count": 127,
   "metadata": {},
   "outputs": [
    {
     "data": {
      "text/html": [
       "<div>\n",
       "<style scoped>\n",
       "    .dataframe tbody tr th:only-of-type {\n",
       "        vertical-align: middle;\n",
       "    }\n",
       "\n",
       "    .dataframe tbody tr th {\n",
       "        vertical-align: top;\n",
       "    }\n",
       "\n",
       "    .dataframe thead th {\n",
       "        text-align: right;\n",
       "    }\n",
       "</style>\n",
       "<table border=\"1\" class=\"dataframe\">\n",
       "  <thead>\n",
       "    <tr style=\"text-align: right;\">\n",
       "      <th></th>\n",
       "      <th>id</th>\n",
       "      <th>symbol</th>\n",
       "      <th>name</th>\n",
       "      <th>class</th>\n",
       "      <th>centralized</th>\n",
       "      <th>isMultiplatforms</th>\n",
       "      <th>symbol_gaming</th>\n",
       "      <th>name_gaming</th>\n",
       "      <th>current_price_gaming</th>\n",
       "      <th>market_cap_gaming</th>\n",
       "      <th>...</th>\n",
       "      <th>total_volume_rwa</th>\n",
       "      <th>high_24h_rwa</th>\n",
       "      <th>low_24h_rwa</th>\n",
       "      <th>price_change_24h_rwa</th>\n",
       "      <th>price_change_percentage_24h_rwa</th>\n",
       "      <th>market_cap_change_24h_rwa</th>\n",
       "      <th>market_cap_change_percentage_24h_rwa</th>\n",
       "      <th>circulating_supply_rwa</th>\n",
       "      <th>total_supply_rwa</th>\n",
       "      <th>max_supply_rwa</th>\n",
       "    </tr>\n",
       "  </thead>\n",
       "  <tbody>\n",
       "    <tr>\n",
       "      <th>0</th>\n",
       "      <td>immutable-x</td>\n",
       "      <td>imx</td>\n",
       "      <td>Immutable</td>\n",
       "      <td>1</td>\n",
       "      <td>0</td>\n",
       "      <td>0</td>\n",
       "      <td>imx</td>\n",
       "      <td>Immutable</td>\n",
       "      <td>2.177597</td>\n",
       "      <td>3.178447e+09</td>\n",
       "      <td>...</td>\n",
       "      <td>NaN</td>\n",
       "      <td>NaN</td>\n",
       "      <td>NaN</td>\n",
       "      <td>NaN</td>\n",
       "      <td>NaN</td>\n",
       "      <td>NaN</td>\n",
       "      <td>NaN</td>\n",
       "      <td>NaN</td>\n",
       "      <td>NaN</td>\n",
       "      <td>NaN</td>\n",
       "    </tr>\n",
       "    <tr>\n",
       "      <th>1</th>\n",
       "      <td>floki</td>\n",
       "      <td>floki</td>\n",
       "      <td>FLOKI</td>\n",
       "      <td>1</td>\n",
       "      <td>0</td>\n",
       "      <td>1</td>\n",
       "      <td>floki</td>\n",
       "      <td>FLOKI</td>\n",
       "      <td>0.000184</td>\n",
       "      <td>1.791909e+09</td>\n",
       "      <td>...</td>\n",
       "      <td>NaN</td>\n",
       "      <td>NaN</td>\n",
       "      <td>NaN</td>\n",
       "      <td>NaN</td>\n",
       "      <td>NaN</td>\n",
       "      <td>NaN</td>\n",
       "      <td>NaN</td>\n",
       "      <td>NaN</td>\n",
       "      <td>NaN</td>\n",
       "      <td>NaN</td>\n",
       "    </tr>\n",
       "    <tr>\n",
       "      <th>2</th>\n",
       "      <td>gala</td>\n",
       "      <td>gala</td>\n",
       "      <td>GALA</td>\n",
       "      <td>1</td>\n",
       "      <td>0</td>\n",
       "      <td>0</td>\n",
       "      <td>gala</td>\n",
       "      <td>GALA</td>\n",
       "      <td>0.046156</td>\n",
       "      <td>1.615799e+09</td>\n",
       "      <td>...</td>\n",
       "      <td>NaN</td>\n",
       "      <td>NaN</td>\n",
       "      <td>NaN</td>\n",
       "      <td>NaN</td>\n",
       "      <td>NaN</td>\n",
       "      <td>NaN</td>\n",
       "      <td>NaN</td>\n",
       "      <td>NaN</td>\n",
       "      <td>NaN</td>\n",
       "      <td>NaN</td>\n",
       "    </tr>\n",
       "    <tr>\n",
       "      <th>3</th>\n",
       "      <td>beam-2</td>\n",
       "      <td>beam</td>\n",
       "      <td>Beam</td>\n",
       "      <td>1</td>\n",
       "      <td>0</td>\n",
       "      <td>1</td>\n",
       "      <td>beam</td>\n",
       "      <td>Beam</td>\n",
       "      <td>0.026762</td>\n",
       "      <td>1.424825e+09</td>\n",
       "      <td>...</td>\n",
       "      <td>NaN</td>\n",
       "      <td>NaN</td>\n",
       "      <td>NaN</td>\n",
       "      <td>NaN</td>\n",
       "      <td>NaN</td>\n",
       "      <td>NaN</td>\n",
       "      <td>NaN</td>\n",
       "      <td>NaN</td>\n",
       "      <td>NaN</td>\n",
       "      <td>NaN</td>\n",
       "    </tr>\n",
       "    <tr>\n",
       "      <th>4</th>\n",
       "      <td>axie-infinity</td>\n",
       "      <td>axs</td>\n",
       "      <td>Axie Infinity</td>\n",
       "      <td>1</td>\n",
       "      <td>0</td>\n",
       "      <td>1</td>\n",
       "      <td>axs</td>\n",
       "      <td>Axie Infinity</td>\n",
       "      <td>7.421892</td>\n",
       "      <td>1.070006e+09</td>\n",
       "      <td>...</td>\n",
       "      <td>NaN</td>\n",
       "      <td>NaN</td>\n",
       "      <td>NaN</td>\n",
       "      <td>NaN</td>\n",
       "      <td>NaN</td>\n",
       "      <td>NaN</td>\n",
       "      <td>NaN</td>\n",
       "      <td>NaN</td>\n",
       "      <td>NaN</td>\n",
       "      <td>NaN</td>\n",
       "    </tr>\n",
       "  </tbody>\n",
       "</table>\n",
       "<p>5 rows × 70 columns</p>\n",
       "</div>"
      ],
      "text/plain": [
       "              id symbol           name  class  centralized  isMultiplatforms  \\\n",
       "0    immutable-x    imx      Immutable      1            0                 0   \n",
       "1          floki  floki          FLOKI      1            0                 1   \n",
       "2           gala   gala           GALA      1            0                 0   \n",
       "3         beam-2   beam           Beam      1            0                 1   \n",
       "4  axie-infinity    axs  Axie Infinity      1            0                 1   \n",
       "\n",
       "  symbol_gaming    name_gaming  current_price_gaming  market_cap_gaming  ...  \\\n",
       "0           imx      Immutable              2.177597       3.178447e+09  ...   \n",
       "1         floki          FLOKI              0.000184       1.791909e+09  ...   \n",
       "2          gala           GALA              0.046156       1.615799e+09  ...   \n",
       "3          beam           Beam              0.026762       1.424825e+09  ...   \n",
       "4           axs  Axie Infinity              7.421892       1.070006e+09  ...   \n",
       "\n",
       "   total_volume_rwa  high_24h_rwa  low_24h_rwa  price_change_24h_rwa  \\\n",
       "0               NaN           NaN          NaN                   NaN   \n",
       "1               NaN           NaN          NaN                   NaN   \n",
       "2               NaN           NaN          NaN                   NaN   \n",
       "3               NaN           NaN          NaN                   NaN   \n",
       "4               NaN           NaN          NaN                   NaN   \n",
       "\n",
       "   price_change_percentage_24h_rwa  market_cap_change_24h_rwa  \\\n",
       "0                              NaN                        NaN   \n",
       "1                              NaN                        NaN   \n",
       "2                              NaN                        NaN   \n",
       "3                              NaN                        NaN   \n",
       "4                              NaN                        NaN   \n",
       "\n",
       "   market_cap_change_percentage_24h_rwa  circulating_supply_rwa  \\\n",
       "0                                   NaN                     NaN   \n",
       "1                                   NaN                     NaN   \n",
       "2                                   NaN                     NaN   \n",
       "3                                   NaN                     NaN   \n",
       "4                                   NaN                     NaN   \n",
       "\n",
       "   total_supply_rwa  max_supply_rwa  \n",
       "0               NaN             NaN  \n",
       "1               NaN             NaN  \n",
       "2               NaN             NaN  \n",
       "3               NaN             NaN  \n",
       "4               NaN             NaN  \n",
       "\n",
       "[5 rows x 70 columns]"
      ]
     },
     "execution_count": 127,
     "metadata": {},
     "output_type": "execute_result"
    }
   ],
   "source": [
    "df_all_tokens.head()"
   ]
  },
  {
   "cell_type": "code",
   "execution_count": 128,
   "metadata": {},
   "outputs": [],
   "source": [
    "#change nana for 0 \n",
    "df_all_tokens.fillna(0,inplace=True)"
   ]
  },
  {
   "cell_type": "code",
   "execution_count": 129,
   "metadata": {},
   "outputs": [
    {
     "data": {
      "text/html": [
       "<div>\n",
       "<style scoped>\n",
       "    .dataframe tbody tr th:only-of-type {\n",
       "        vertical-align: middle;\n",
       "    }\n",
       "\n",
       "    .dataframe tbody tr th {\n",
       "        vertical-align: top;\n",
       "    }\n",
       "\n",
       "    .dataframe thead th {\n",
       "        text-align: right;\n",
       "    }\n",
       "</style>\n",
       "<table border=\"1\" class=\"dataframe\">\n",
       "  <thead>\n",
       "    <tr style=\"text-align: right;\">\n",
       "      <th></th>\n",
       "      <th>id</th>\n",
       "      <th>symbol</th>\n",
       "      <th>name</th>\n",
       "      <th>class</th>\n",
       "      <th>centralized</th>\n",
       "      <th>isMultiplatforms</th>\n",
       "      <th>symbol_gaming</th>\n",
       "      <th>name_gaming</th>\n",
       "      <th>current_price_gaming</th>\n",
       "      <th>market_cap_gaming</th>\n",
       "      <th>...</th>\n",
       "      <th>total_volume_rwa</th>\n",
       "      <th>high_24h_rwa</th>\n",
       "      <th>low_24h_rwa</th>\n",
       "      <th>price_change_24h_rwa</th>\n",
       "      <th>price_change_percentage_24h_rwa</th>\n",
       "      <th>market_cap_change_24h_rwa</th>\n",
       "      <th>market_cap_change_percentage_24h_rwa</th>\n",
       "      <th>circulating_supply_rwa</th>\n",
       "      <th>total_supply_rwa</th>\n",
       "      <th>max_supply_rwa</th>\n",
       "    </tr>\n",
       "  </thead>\n",
       "  <tbody>\n",
       "    <tr>\n",
       "      <th>0</th>\n",
       "      <td>immutable-x</td>\n",
       "      <td>imx</td>\n",
       "      <td>Immutable</td>\n",
       "      <td>1</td>\n",
       "      <td>0</td>\n",
       "      <td>0</td>\n",
       "      <td>imx</td>\n",
       "      <td>Immutable</td>\n",
       "      <td>2.177597</td>\n",
       "      <td>3.178447e+09</td>\n",
       "      <td>...</td>\n",
       "      <td>0.0</td>\n",
       "      <td>0.0</td>\n",
       "      <td>0.0</td>\n",
       "      <td>0.0</td>\n",
       "      <td>0.0</td>\n",
       "      <td>0.0</td>\n",
       "      <td>0.0</td>\n",
       "      <td>0.0</td>\n",
       "      <td>0.0</td>\n",
       "      <td>0.0</td>\n",
       "    </tr>\n",
       "    <tr>\n",
       "      <th>1</th>\n",
       "      <td>floki</td>\n",
       "      <td>floki</td>\n",
       "      <td>FLOKI</td>\n",
       "      <td>1</td>\n",
       "      <td>0</td>\n",
       "      <td>1</td>\n",
       "      <td>floki</td>\n",
       "      <td>FLOKI</td>\n",
       "      <td>0.000184</td>\n",
       "      <td>1.791909e+09</td>\n",
       "      <td>...</td>\n",
       "      <td>0.0</td>\n",
       "      <td>0.0</td>\n",
       "      <td>0.0</td>\n",
       "      <td>0.0</td>\n",
       "      <td>0.0</td>\n",
       "      <td>0.0</td>\n",
       "      <td>0.0</td>\n",
       "      <td>0.0</td>\n",
       "      <td>0.0</td>\n",
       "      <td>0.0</td>\n",
       "    </tr>\n",
       "    <tr>\n",
       "      <th>2</th>\n",
       "      <td>gala</td>\n",
       "      <td>gala</td>\n",
       "      <td>GALA</td>\n",
       "      <td>1</td>\n",
       "      <td>0</td>\n",
       "      <td>0</td>\n",
       "      <td>gala</td>\n",
       "      <td>GALA</td>\n",
       "      <td>0.046156</td>\n",
       "      <td>1.615799e+09</td>\n",
       "      <td>...</td>\n",
       "      <td>0.0</td>\n",
       "      <td>0.0</td>\n",
       "      <td>0.0</td>\n",
       "      <td>0.0</td>\n",
       "      <td>0.0</td>\n",
       "      <td>0.0</td>\n",
       "      <td>0.0</td>\n",
       "      <td>0.0</td>\n",
       "      <td>0.0</td>\n",
       "      <td>0.0</td>\n",
       "    </tr>\n",
       "    <tr>\n",
       "      <th>3</th>\n",
       "      <td>beam-2</td>\n",
       "      <td>beam</td>\n",
       "      <td>Beam</td>\n",
       "      <td>1</td>\n",
       "      <td>0</td>\n",
       "      <td>1</td>\n",
       "      <td>beam</td>\n",
       "      <td>Beam</td>\n",
       "      <td>0.026762</td>\n",
       "      <td>1.424825e+09</td>\n",
       "      <td>...</td>\n",
       "      <td>0.0</td>\n",
       "      <td>0.0</td>\n",
       "      <td>0.0</td>\n",
       "      <td>0.0</td>\n",
       "      <td>0.0</td>\n",
       "      <td>0.0</td>\n",
       "      <td>0.0</td>\n",
       "      <td>0.0</td>\n",
       "      <td>0.0</td>\n",
       "      <td>0.0</td>\n",
       "    </tr>\n",
       "    <tr>\n",
       "      <th>4</th>\n",
       "      <td>axie-infinity</td>\n",
       "      <td>axs</td>\n",
       "      <td>Axie Infinity</td>\n",
       "      <td>1</td>\n",
       "      <td>0</td>\n",
       "      <td>1</td>\n",
       "      <td>axs</td>\n",
       "      <td>Axie Infinity</td>\n",
       "      <td>7.421892</td>\n",
       "      <td>1.070006e+09</td>\n",
       "      <td>...</td>\n",
       "      <td>0.0</td>\n",
       "      <td>0.0</td>\n",
       "      <td>0.0</td>\n",
       "      <td>0.0</td>\n",
       "      <td>0.0</td>\n",
       "      <td>0.0</td>\n",
       "      <td>0.0</td>\n",
       "      <td>0.0</td>\n",
       "      <td>0.0</td>\n",
       "      <td>0.0</td>\n",
       "    </tr>\n",
       "  </tbody>\n",
       "</table>\n",
       "<p>5 rows × 70 columns</p>\n",
       "</div>"
      ],
      "text/plain": [
       "              id symbol           name  class  centralized  isMultiplatforms  \\\n",
       "0    immutable-x    imx      Immutable      1            0                 0   \n",
       "1          floki  floki          FLOKI      1            0                 1   \n",
       "2           gala   gala           GALA      1            0                 0   \n",
       "3         beam-2   beam           Beam      1            0                 1   \n",
       "4  axie-infinity    axs  Axie Infinity      1            0                 1   \n",
       "\n",
       "  symbol_gaming    name_gaming  current_price_gaming  market_cap_gaming  ...  \\\n",
       "0           imx      Immutable              2.177597       3.178447e+09  ...   \n",
       "1         floki          FLOKI              0.000184       1.791909e+09  ...   \n",
       "2          gala           GALA              0.046156       1.615799e+09  ...   \n",
       "3          beam           Beam              0.026762       1.424825e+09  ...   \n",
       "4           axs  Axie Infinity              7.421892       1.070006e+09  ...   \n",
       "\n",
       "   total_volume_rwa  high_24h_rwa  low_24h_rwa  price_change_24h_rwa  \\\n",
       "0               0.0           0.0          0.0                   0.0   \n",
       "1               0.0           0.0          0.0                   0.0   \n",
       "2               0.0           0.0          0.0                   0.0   \n",
       "3               0.0           0.0          0.0                   0.0   \n",
       "4               0.0           0.0          0.0                   0.0   \n",
       "\n",
       "   price_change_percentage_24h_rwa  market_cap_change_24h_rwa  \\\n",
       "0                              0.0                        0.0   \n",
       "1                              0.0                        0.0   \n",
       "2                              0.0                        0.0   \n",
       "3                              0.0                        0.0   \n",
       "4                              0.0                        0.0   \n",
       "\n",
       "   market_cap_change_percentage_24h_rwa  circulating_supply_rwa  \\\n",
       "0                                   0.0                     0.0   \n",
       "1                                   0.0                     0.0   \n",
       "2                                   0.0                     0.0   \n",
       "3                                   0.0                     0.0   \n",
       "4                                   0.0                     0.0   \n",
       "\n",
       "   total_supply_rwa  max_supply_rwa  \n",
       "0               0.0             0.0  \n",
       "1               0.0             0.0  \n",
       "2               0.0             0.0  \n",
       "3               0.0             0.0  \n",
       "4               0.0             0.0  \n",
       "\n",
       "[5 rows x 70 columns]"
      ]
     },
     "execution_count": 129,
     "metadata": {},
     "output_type": "execute_result"
    }
   ],
   "source": [
    "df_all_tokens.head()"
   ]
  },
  {
   "cell_type": "code",
   "execution_count": 130,
   "metadata": {},
   "outputs": [],
   "source": [
    "df_all_tokens.drop(columns=['symbol_gaming','name_gaming'],inplace=True)\n",
    "df_all_tokens.drop(columns=['symbol_ai','name_ai'],inplace=True)\n",
    "df_all_tokens.drop(columns=['symbol_memes','name_memes'],inplace=True)\n",
    "df_all_tokens.drop(columns=['symbol_rwa','name_rwa'],inplace=True)"
   ]
  },
  {
   "cell_type": "code",
   "execution_count": 131,
   "metadata": {},
   "outputs": [],
   "source": [
    "df_all_tokens['market_cap'] = df_all_tokens['market_cap_gaming']+df_all_tokens['market_cap_ai']+df_all_tokens['market_cap_memes']+df_all_tokens['market_cap_rwa']\n",
    "df_all_tokens.drop(columns=['market_cap_gaming','market_cap_ai','market_cap_memes','market_cap_rwa'],inplace=True)"
   ]
  },
  {
   "cell_type": "code",
   "execution_count": 132,
   "metadata": {},
   "outputs": [],
   "source": [
    "df_all_tokens['total_volume'] = df_all_tokens['total_volume_gaming']+df_all_tokens['total_volume_ai']+df_all_tokens['total_volume_memes']+df_all_tokens['total_volume_rwa']\n",
    "df_all_tokens.drop(columns=['total_volume_gaming','total_volume_ai','total_volume_memes','total_volume_rwa'],inplace=True)"
   ]
  },
  {
   "cell_type": "code",
   "execution_count": 133,
   "metadata": {},
   "outputs": [],
   "source": [
    "df_all_tokens['high_24h'] = df_all_tokens['high_24h_gaming']+df_all_tokens['high_24h_ai']+df_all_tokens['high_24h_memes']+df_all_tokens['high_24h_rwa']\n",
    "df_all_tokens.drop(columns=['high_24h_gaming','high_24h_ai','high_24h_memes','high_24h_rwa'],inplace=True)"
   ]
  },
  {
   "cell_type": "code",
   "execution_count": 134,
   "metadata": {},
   "outputs": [],
   "source": [
    "df_all_tokens['low_24h'] = df_all_tokens['low_24h_gaming']+df_all_tokens['low_24h_ai']+df_all_tokens['low_24h_memes']+df_all_tokens['low_24h_rwa']\n",
    "df_all_tokens.drop(columns=['low_24h_gaming','low_24h_ai','low_24h_memes','low_24h_rwa'],inplace=True)"
   ]
  },
  {
   "cell_type": "code",
   "execution_count": 135,
   "metadata": {},
   "outputs": [],
   "source": [
    "df_all_tokens['price_change_24h'] = df_all_tokens['price_change_24h_gaming']+df_all_tokens['price_change_24h_ai']+df_all_tokens['price_change_24h_memes']+df_all_tokens['price_change_24h_rwa']\n",
    "df_all_tokens.drop(columns=['price_change_24h_gaming','price_change_24h_ai','price_change_24h_memes','price_change_24h_rwa'],inplace=True)\n",
    "\n"
   ]
  },
  {
   "cell_type": "code",
   "execution_count": 136,
   "metadata": {},
   "outputs": [],
   "source": [
    "df_all_tokens['price_change_percentage_24h'] = df_all_tokens['price_change_percentage_24h_gaming']+df_all_tokens['price_change_percentage_24h_ai']+df_all_tokens['price_change_percentage_24h_memes']+df_all_tokens['price_change_percentage_24h_rwa']\n",
    "df_all_tokens.drop(columns=['price_change_percentage_24h_gaming','price_change_percentage_24h_ai','price_change_percentage_24h_memes','price_change_percentage_24h_rwa'],inplace=True)\n",
    "\n"
   ]
  },
  {
   "cell_type": "code",
   "execution_count": 137,
   "metadata": {},
   "outputs": [],
   "source": [
    "df_all_tokens['market_cap_change_24h'] = df_all_tokens['market_cap_change_24h_gaming']+df_all_tokens['market_cap_change_24h_ai']+df_all_tokens['market_cap_change_24h_memes']+df_all_tokens['market_cap_change_24h_rwa']\n",
    "df_all_tokens.drop(columns=['market_cap_change_24h_gaming','market_cap_change_24h_ai','market_cap_change_24h_memes','market_cap_change_24h_rwa'],inplace=True)"
   ]
  },
  {
   "cell_type": "code",
   "execution_count": 138,
   "metadata": {},
   "outputs": [],
   "source": [
    "df_all_tokens['current_price'] = df_all_tokens['current_price_gaming']+df_all_tokens['current_price_ai']+df_all_tokens['current_price_memes']+df_all_tokens['current_price_rwa']\n",
    "df_all_tokens.drop(columns=['current_price_gaming','current_price_ai','current_price_memes','current_price_rwa'],inplace=True)"
   ]
  },
  {
   "cell_type": "code",
   "execution_count": 139,
   "metadata": {},
   "outputs": [],
   "source": [
    "df_all_tokens['circulating_supply'] = df_all_tokens['circulating_supply_gaming']+df_all_tokens['circulating_supply_ai']+df_all_tokens['circulating_supply_memes']+df_all_tokens['circulating_supply_rwa']\n",
    "df_all_tokens.drop(columns=['circulating_supply_gaming','circulating_supply_ai','circulating_supply_memes','circulating_supply_rwa'],inplace=True)"
   ]
  },
  {
   "cell_type": "code",
   "execution_count": 140,
   "metadata": {},
   "outputs": [],
   "source": [
    "df_all_tokens['total_supply'] = df_all_tokens['total_supply_gaming']+df_all_tokens['total_supply_ai']+df_all_tokens['total_supply_memes']+df_all_tokens['total_supply_rwa']\n",
    "df_all_tokens.drop(columns=['total_supply_gaming','total_supply_ai','total_supply_memes','total_supply_rwa'],inplace=True)"
   ]
  },
  {
   "cell_type": "code",
   "execution_count": 141,
   "metadata": {},
   "outputs": [],
   "source": [
    "df_all_tokens['max_supply'] = df_all_tokens['max_supply_gaming']+df_all_tokens['max_supply_ai']+df_all_tokens['max_supply_memes']+df_all_tokens['max_supply_rwa']\n",
    "df_all_tokens.drop(columns=['max_supply_gaming','max_supply_ai','max_supply_memes','max_supply_rwa'],inplace=True)"
   ]
  },
  {
   "cell_type": "code",
   "execution_count": 142,
   "metadata": {},
   "outputs": [],
   "source": [
    "df_all_tokens['fully_diluted_valuation']= df_all_tokens['fully_diluted_valuation_gaming']+df_all_tokens['fully_diluted_valuation_ai']+df_all_tokens['fully_diluted_valuation_memes']+df_all_tokens['fully_diluted_valuation_rwa']\n",
    "df_all_tokens.drop(columns=['fully_diluted_valuation_gaming','fully_diluted_valuation_ai','fully_diluted_valuation_memes','fully_diluted_valuation_rwa'],inplace=True)"
   ]
  },
  {
   "cell_type": "code",
   "execution_count": 143,
   "metadata": {},
   "outputs": [],
   "source": [
    "df_all_tokens['market_cap_change_percentage_24h'] = df_all_tokens['market_cap_change_percentage_24h_gaming']+df_all_tokens['market_cap_change_percentage_24h_ai']+df_all_tokens['market_cap_change_percentage_24h_memes']+df_all_tokens['market_cap_change_percentage_24h_rwa']\n",
    "df_all_tokens.drop(columns=['market_cap_change_percentage_24h_gaming','market_cap_change_percentage_24h_ai','market_cap_change_percentage_24h_memes','market_cap_change_percentage_24h_rwa'],inplace=True)"
   ]
  },
  {
   "cell_type": "code",
   "execution_count": 146,
   "metadata": {},
   "outputs": [],
   "source": [
    "df_all_tokens.loc[df_all_tokens['class'] == 0, 'rank'] = df_all_tokens['market_cap_rank_ai']\n",
    "df_all_tokens.loc[df_all_tokens['class'] == 1, 'rank'] = df_all_tokens['market_cap_rank_gaming']\n",
    "df_all_tokens.loc[df_all_tokens['class'] == 2, 'rank'] = df_all_tokens['market_cap_rank_rwa']\n",
    "df_all_tokens.loc[df_all_tokens['class'] == 3, 'rank'] = df_all_tokens['market_cap_rank_memes']\n",
    "\n",
    "df_all_tokens.drop(columns=['market_cap_rank_gaming','market_cap_rank_ai','market_cap_rank_memes','market_cap_rank_rwa'],inplace=True)"
   ]
  },
  {
   "cell_type": "code",
   "execution_count": 147,
   "metadata": {},
   "outputs": [
    {
     "data": {
      "text/html": [
       "<div>\n",
       "<style scoped>\n",
       "    .dataframe tbody tr th:only-of-type {\n",
       "        vertical-align: middle;\n",
       "    }\n",
       "\n",
       "    .dataframe tbody tr th {\n",
       "        vertical-align: top;\n",
       "    }\n",
       "\n",
       "    .dataframe thead th {\n",
       "        text-align: right;\n",
       "    }\n",
       "</style>\n",
       "<table border=\"1\" class=\"dataframe\">\n",
       "  <thead>\n",
       "    <tr style=\"text-align: right;\">\n",
       "      <th></th>\n",
       "      <th>id</th>\n",
       "      <th>symbol</th>\n",
       "      <th>name</th>\n",
       "      <th>class</th>\n",
       "      <th>centralized</th>\n",
       "      <th>isMultiplatforms</th>\n",
       "      <th>market_cap</th>\n",
       "      <th>total_volume</th>\n",
       "      <th>high_24h</th>\n",
       "      <th>low_24h</th>\n",
       "      <th>price_change_24h</th>\n",
       "      <th>price_change_percentage_24h</th>\n",
       "      <th>market_cap_change_24h</th>\n",
       "      <th>current_price</th>\n",
       "      <th>circulating_supply</th>\n",
       "      <th>total_supply</th>\n",
       "      <th>max_supply</th>\n",
       "      <th>fully_diluted_valuation</th>\n",
       "      <th>market_cap_change_percentage_24h</th>\n",
       "      <th>rank</th>\n",
       "    </tr>\n",
       "  </thead>\n",
       "  <tbody>\n",
       "    <tr>\n",
       "      <th>0</th>\n",
       "      <td>immutable-x</td>\n",
       "      <td>imx</td>\n",
       "      <td>Immutable</td>\n",
       "      <td>1</td>\n",
       "      <td>0</td>\n",
       "      <td>0</td>\n",
       "      <td>6.356894e+09</td>\n",
       "      <td>99469710.0</td>\n",
       "      <td>4.860000</td>\n",
       "      <td>4.360000</td>\n",
       "      <td>-0.332313</td>\n",
       "      <td>-14.17866</td>\n",
       "      <td>-4.820781e+08</td>\n",
       "      <td>4.355194</td>\n",
       "      <td>2.913630e+09</td>\n",
       "      <td>4.000000e+09</td>\n",
       "      <td>4.000000e+09</td>\n",
       "      <td>8.727111e+09</td>\n",
       "      <td>-14.09798</td>\n",
       "      <td>38.0</td>\n",
       "    </tr>\n",
       "    <tr>\n",
       "      <th>1</th>\n",
       "      <td>floki</td>\n",
       "      <td>floki</td>\n",
       "      <td>FLOKI</td>\n",
       "      <td>1</td>\n",
       "      <td>0</td>\n",
       "      <td>1</td>\n",
       "      <td>3.583818e+09</td>\n",
       "      <td>588523888.0</td>\n",
       "      <td>0.000409</td>\n",
       "      <td>0.000361</td>\n",
       "      <td>-0.000027</td>\n",
       "      <td>-13.46436</td>\n",
       "      <td>-2.338301e+08</td>\n",
       "      <td>0.000367</td>\n",
       "      <td>1.942253e+13</td>\n",
       "      <td>2.000000e+13</td>\n",
       "      <td>2.000000e+13</td>\n",
       "      <td>3.690373e+09</td>\n",
       "      <td>-12.24996</td>\n",
       "      <td>61.0</td>\n",
       "    </tr>\n",
       "    <tr>\n",
       "      <th>2</th>\n",
       "      <td>gala</td>\n",
       "      <td>gala</td>\n",
       "      <td>GALA</td>\n",
       "      <td>1</td>\n",
       "      <td>0</td>\n",
       "      <td>0</td>\n",
       "      <td>3.231598e+09</td>\n",
       "      <td>354364488.0</td>\n",
       "      <td>0.104118</td>\n",
       "      <td>0.092706</td>\n",
       "      <td>-0.009738</td>\n",
       "      <td>-19.08504</td>\n",
       "      <td>-3.311218e+08</td>\n",
       "      <td>0.092311</td>\n",
       "      <td>6.974528e+10</td>\n",
       "      <td>6.974530e+10</td>\n",
       "      <td>1.000000e+11</td>\n",
       "      <td>3.231599e+09</td>\n",
       "      <td>-18.58814</td>\n",
       "      <td>67.0</td>\n",
       "    </tr>\n",
       "    <tr>\n",
       "      <th>3</th>\n",
       "      <td>beam-2</td>\n",
       "      <td>beam</td>\n",
       "      <td>Beam</td>\n",
       "      <td>1</td>\n",
       "      <td>0</td>\n",
       "      <td>1</td>\n",
       "      <td>2.849650e+09</td>\n",
       "      <td>83199828.0</td>\n",
       "      <td>0.060932</td>\n",
       "      <td>0.053563</td>\n",
       "      <td>-0.006298</td>\n",
       "      <td>-21.05540</td>\n",
       "      <td>-3.296291e+08</td>\n",
       "      <td>0.053525</td>\n",
       "      <td>1.059963e+11</td>\n",
       "      <td>1.248680e+11</td>\n",
       "      <td>1.248680e+11</td>\n",
       "      <td>3.357006e+09</td>\n",
       "      <td>-20.73608</td>\n",
       "      <td>72.0</td>\n",
       "    </tr>\n",
       "    <tr>\n",
       "      <th>4</th>\n",
       "      <td>axie-infinity</td>\n",
       "      <td>axs</td>\n",
       "      <td>Axie Infinity</td>\n",
       "      <td>1</td>\n",
       "      <td>0</td>\n",
       "      <td>1</td>\n",
       "      <td>2.140012e+09</td>\n",
       "      <td>206036026.0</td>\n",
       "      <td>16.760000</td>\n",
       "      <td>14.800000</td>\n",
       "      <td>-0.624770</td>\n",
       "      <td>-8.07794</td>\n",
       "      <td>-7.935332e+07</td>\n",
       "      <td>14.843783</td>\n",
       "      <td>2.873198e+08</td>\n",
       "      <td>5.400000e+08</td>\n",
       "      <td>5.400000e+08</td>\n",
       "      <td>4.022022e+09</td>\n",
       "      <td>-7.15100</td>\n",
       "      <td>89.0</td>\n",
       "    </tr>\n",
       "  </tbody>\n",
       "</table>\n",
       "</div>"
      ],
      "text/plain": [
       "              id symbol           name  class  centralized  isMultiplatforms  \\\n",
       "0    immutable-x    imx      Immutable      1            0                 0   \n",
       "1          floki  floki          FLOKI      1            0                 1   \n",
       "2           gala   gala           GALA      1            0                 0   \n",
       "3         beam-2   beam           Beam      1            0                 1   \n",
       "4  axie-infinity    axs  Axie Infinity      1            0                 1   \n",
       "\n",
       "     market_cap  total_volume   high_24h    low_24h  price_change_24h  \\\n",
       "0  6.356894e+09    99469710.0   4.860000   4.360000         -0.332313   \n",
       "1  3.583818e+09   588523888.0   0.000409   0.000361         -0.000027   \n",
       "2  3.231598e+09   354364488.0   0.104118   0.092706         -0.009738   \n",
       "3  2.849650e+09    83199828.0   0.060932   0.053563         -0.006298   \n",
       "4  2.140012e+09   206036026.0  16.760000  14.800000         -0.624770   \n",
       "\n",
       "   price_change_percentage_24h  market_cap_change_24h  current_price  \\\n",
       "0                    -14.17866          -4.820781e+08       4.355194   \n",
       "1                    -13.46436          -2.338301e+08       0.000367   \n",
       "2                    -19.08504          -3.311218e+08       0.092311   \n",
       "3                    -21.05540          -3.296291e+08       0.053525   \n",
       "4                     -8.07794          -7.935332e+07      14.843783   \n",
       "\n",
       "   circulating_supply  total_supply    max_supply  fully_diluted_valuation  \\\n",
       "0        2.913630e+09  4.000000e+09  4.000000e+09             8.727111e+09   \n",
       "1        1.942253e+13  2.000000e+13  2.000000e+13             3.690373e+09   \n",
       "2        6.974528e+10  6.974530e+10  1.000000e+11             3.231599e+09   \n",
       "3        1.059963e+11  1.248680e+11  1.248680e+11             3.357006e+09   \n",
       "4        2.873198e+08  5.400000e+08  5.400000e+08             4.022022e+09   \n",
       "\n",
       "   market_cap_change_percentage_24h  rank  \n",
       "0                         -14.09798  38.0  \n",
       "1                         -12.24996  61.0  \n",
       "2                         -18.58814  67.0  \n",
       "3                         -20.73608  72.0  \n",
       "4                          -7.15100  89.0  "
      ]
     },
     "execution_count": 147,
     "metadata": {},
     "output_type": "execute_result"
    }
   ],
   "source": [
    "df_all_tokens.head()"
   ]
  },
  {
   "cell_type": "code",
   "execution_count": 149,
   "metadata": {},
   "outputs": [],
   "source": [
    "df_all_tokens.rename(columns={'id':'id_coingecko'},inplace=True)"
   ]
  },
  {
   "cell_type": "code",
   "execution_count": 150,
   "metadata": {},
   "outputs": [
    {
     "data": {
      "text/plain": [
       "['id_coingecko',\n",
       " 'symbol',\n",
       " 'name',\n",
       " 'class',\n",
       " 'centralized',\n",
       " 'isMultiplatforms',\n",
       " 'market_cap',\n",
       " 'total_volume',\n",
       " 'high_24h',\n",
       " 'low_24h',\n",
       " 'price_change_24h',\n",
       " 'price_change_percentage_24h',\n",
       " 'market_cap_change_24h',\n",
       " 'current_price',\n",
       " 'circulating_supply',\n",
       " 'total_supply',\n",
       " 'max_supply',\n",
       " 'fully_diluted_valuation',\n",
       " 'market_cap_change_percentage_24h',\n",
       " 'rank']"
      ]
     },
     "execution_count": 150,
     "metadata": {},
     "output_type": "execute_result"
    }
   ],
   "source": [
    "df_all_tokens.columns.to_list()"
   ]
  },
  {
   "cell_type": "code",
   "execution_count": 152,
   "metadata": {},
   "outputs": [],
   "source": [
    "## dd/mm/yyyy\n",
    "df_all_tokens['date'] = time.strftime(\"%d/%m/%Y\")"
   ]
  },
  {
   "cell_type": "code",
   "execution_count": 153,
   "metadata": {},
   "outputs": [],
   "source": [
    "df_all_tokens.to_csv(\"data/clean/df_all_tokens_v3.csv\",index=False)"
   ]
  },
  {
   "cell_type": "code",
   "execution_count": 154,
   "metadata": {},
   "outputs": [],
   "source": [
    "df_all_tokens = pd.read_csv(\"data/clean/df_all_tokens_v3.csv\")"
   ]
  },
  {
   "cell_type": "code",
   "execution_count": 155,
   "metadata": {},
   "outputs": [
    {
     "data": {
      "text/html": [
       "<div>\n",
       "<style scoped>\n",
       "    .dataframe tbody tr th:only-of-type {\n",
       "        vertical-align: middle;\n",
       "    }\n",
       "\n",
       "    .dataframe tbody tr th {\n",
       "        vertical-align: top;\n",
       "    }\n",
       "\n",
       "    .dataframe thead th {\n",
       "        text-align: right;\n",
       "    }\n",
       "</style>\n",
       "<table border=\"1\" class=\"dataframe\">\n",
       "  <thead>\n",
       "    <tr style=\"text-align: right;\">\n",
       "      <th></th>\n",
       "      <th>id_coingecko</th>\n",
       "      <th>symbol</th>\n",
       "      <th>name</th>\n",
       "      <th>class</th>\n",
       "      <th>centralized</th>\n",
       "      <th>isMultiplatforms</th>\n",
       "      <th>market_cap</th>\n",
       "      <th>total_volume</th>\n",
       "      <th>high_24h</th>\n",
       "      <th>low_24h</th>\n",
       "      <th>...</th>\n",
       "      <th>price_change_percentage_24h</th>\n",
       "      <th>market_cap_change_24h</th>\n",
       "      <th>current_price</th>\n",
       "      <th>circulating_supply</th>\n",
       "      <th>total_supply</th>\n",
       "      <th>max_supply</th>\n",
       "      <th>fully_diluted_valuation</th>\n",
       "      <th>market_cap_change_percentage_24h</th>\n",
       "      <th>rank</th>\n",
       "      <th>date</th>\n",
       "    </tr>\n",
       "  </thead>\n",
       "  <tbody>\n",
       "    <tr>\n",
       "      <th>0</th>\n",
       "      <td>immutable-x</td>\n",
       "      <td>imx</td>\n",
       "      <td>Immutable</td>\n",
       "      <td>1</td>\n",
       "      <td>0</td>\n",
       "      <td>0</td>\n",
       "      <td>6.356894e+09</td>\n",
       "      <td>99469710.0</td>\n",
       "      <td>4.860000</td>\n",
       "      <td>4.360000</td>\n",
       "      <td>...</td>\n",
       "      <td>-14.17866</td>\n",
       "      <td>-4.820781e+08</td>\n",
       "      <td>4.355194</td>\n",
       "      <td>2.913630e+09</td>\n",
       "      <td>4.000000e+09</td>\n",
       "      <td>4.000000e+09</td>\n",
       "      <td>8.727111e+09</td>\n",
       "      <td>-14.09798</td>\n",
       "      <td>38.0</td>\n",
       "      <td>28/04/2024</td>\n",
       "    </tr>\n",
       "    <tr>\n",
       "      <th>1</th>\n",
       "      <td>floki</td>\n",
       "      <td>floki</td>\n",
       "      <td>FLOKI</td>\n",
       "      <td>1</td>\n",
       "      <td>0</td>\n",
       "      <td>1</td>\n",
       "      <td>3.583818e+09</td>\n",
       "      <td>588523888.0</td>\n",
       "      <td>0.000409</td>\n",
       "      <td>0.000361</td>\n",
       "      <td>...</td>\n",
       "      <td>-13.46436</td>\n",
       "      <td>-2.338301e+08</td>\n",
       "      <td>0.000367</td>\n",
       "      <td>1.942253e+13</td>\n",
       "      <td>2.000000e+13</td>\n",
       "      <td>2.000000e+13</td>\n",
       "      <td>3.690373e+09</td>\n",
       "      <td>-12.24996</td>\n",
       "      <td>61.0</td>\n",
       "      <td>28/04/2024</td>\n",
       "    </tr>\n",
       "    <tr>\n",
       "      <th>2</th>\n",
       "      <td>gala</td>\n",
       "      <td>gala</td>\n",
       "      <td>GALA</td>\n",
       "      <td>1</td>\n",
       "      <td>0</td>\n",
       "      <td>0</td>\n",
       "      <td>3.231598e+09</td>\n",
       "      <td>354364488.0</td>\n",
       "      <td>0.104118</td>\n",
       "      <td>0.092706</td>\n",
       "      <td>...</td>\n",
       "      <td>-19.08504</td>\n",
       "      <td>-3.311218e+08</td>\n",
       "      <td>0.092311</td>\n",
       "      <td>6.974528e+10</td>\n",
       "      <td>6.974530e+10</td>\n",
       "      <td>1.000000e+11</td>\n",
       "      <td>3.231599e+09</td>\n",
       "      <td>-18.58814</td>\n",
       "      <td>67.0</td>\n",
       "      <td>28/04/2024</td>\n",
       "    </tr>\n",
       "    <tr>\n",
       "      <th>3</th>\n",
       "      <td>beam-2</td>\n",
       "      <td>beam</td>\n",
       "      <td>Beam</td>\n",
       "      <td>1</td>\n",
       "      <td>0</td>\n",
       "      <td>1</td>\n",
       "      <td>2.849650e+09</td>\n",
       "      <td>83199828.0</td>\n",
       "      <td>0.060932</td>\n",
       "      <td>0.053563</td>\n",
       "      <td>...</td>\n",
       "      <td>-21.05540</td>\n",
       "      <td>-3.296291e+08</td>\n",
       "      <td>0.053525</td>\n",
       "      <td>1.059963e+11</td>\n",
       "      <td>1.248680e+11</td>\n",
       "      <td>1.248680e+11</td>\n",
       "      <td>3.357006e+09</td>\n",
       "      <td>-20.73608</td>\n",
       "      <td>72.0</td>\n",
       "      <td>28/04/2024</td>\n",
       "    </tr>\n",
       "    <tr>\n",
       "      <th>4</th>\n",
       "      <td>axie-infinity</td>\n",
       "      <td>axs</td>\n",
       "      <td>Axie Infinity</td>\n",
       "      <td>1</td>\n",
       "      <td>0</td>\n",
       "      <td>1</td>\n",
       "      <td>2.140012e+09</td>\n",
       "      <td>206036026.0</td>\n",
       "      <td>16.760000</td>\n",
       "      <td>14.800000</td>\n",
       "      <td>...</td>\n",
       "      <td>-8.07794</td>\n",
       "      <td>-7.935332e+07</td>\n",
       "      <td>14.843783</td>\n",
       "      <td>2.873198e+08</td>\n",
       "      <td>5.400000e+08</td>\n",
       "      <td>5.400000e+08</td>\n",
       "      <td>4.022022e+09</td>\n",
       "      <td>-7.15100</td>\n",
       "      <td>89.0</td>\n",
       "      <td>28/04/2024</td>\n",
       "    </tr>\n",
       "  </tbody>\n",
       "</table>\n",
       "<p>5 rows × 21 columns</p>\n",
       "</div>"
      ],
      "text/plain": [
       "    id_coingecko symbol           name  class  centralized  isMultiplatforms  \\\n",
       "0    immutable-x    imx      Immutable      1            0                 0   \n",
       "1          floki  floki          FLOKI      1            0                 1   \n",
       "2           gala   gala           GALA      1            0                 0   \n",
       "3         beam-2   beam           Beam      1            0                 1   \n",
       "4  axie-infinity    axs  Axie Infinity      1            0                 1   \n",
       "\n",
       "     market_cap  total_volume   high_24h    low_24h  ...  \\\n",
       "0  6.356894e+09    99469710.0   4.860000   4.360000  ...   \n",
       "1  3.583818e+09   588523888.0   0.000409   0.000361  ...   \n",
       "2  3.231598e+09   354364488.0   0.104118   0.092706  ...   \n",
       "3  2.849650e+09    83199828.0   0.060932   0.053563  ...   \n",
       "4  2.140012e+09   206036026.0  16.760000  14.800000  ...   \n",
       "\n",
       "   price_change_percentage_24h  market_cap_change_24h  current_price  \\\n",
       "0                    -14.17866          -4.820781e+08       4.355194   \n",
       "1                    -13.46436          -2.338301e+08       0.000367   \n",
       "2                    -19.08504          -3.311218e+08       0.092311   \n",
       "3                    -21.05540          -3.296291e+08       0.053525   \n",
       "4                     -8.07794          -7.935332e+07      14.843783   \n",
       "\n",
       "   circulating_supply  total_supply    max_supply  fully_diluted_valuation  \\\n",
       "0        2.913630e+09  4.000000e+09  4.000000e+09             8.727111e+09   \n",
       "1        1.942253e+13  2.000000e+13  2.000000e+13             3.690373e+09   \n",
       "2        6.974528e+10  6.974530e+10  1.000000e+11             3.231599e+09   \n",
       "3        1.059963e+11  1.248680e+11  1.248680e+11             3.357006e+09   \n",
       "4        2.873198e+08  5.400000e+08  5.400000e+08             4.022022e+09   \n",
       "\n",
       "   market_cap_change_percentage_24h  rank        date  \n",
       "0                         -14.09798  38.0  28/04/2024  \n",
       "1                         -12.24996  61.0  28/04/2024  \n",
       "2                         -18.58814  67.0  28/04/2024  \n",
       "3                         -20.73608  72.0  28/04/2024  \n",
       "4                          -7.15100  89.0  28/04/2024  \n",
       "\n",
       "[5 rows x 21 columns]"
      ]
     },
     "execution_count": 155,
     "metadata": {},
     "output_type": "execute_result"
    }
   ],
   "source": [
    "df_all_tokens.head()"
   ]
  },
  {
   "cell_type": "code",
   "execution_count": null,
   "metadata": {},
   "outputs": [],
   "source": [
    "### halving tokens"
   ]
  }
 ],
 "metadata": {
  "kernelspec": {
   "display_name": "env",
   "language": "python",
   "name": "python3"
  },
  "language_info": {
   "codemirror_mode": {
    "name": "ipython",
    "version": 3
   },
   "file_extension": ".py",
   "mimetype": "text/x-python",
   "name": "python",
   "nbconvert_exporter": "python",
   "pygments_lexer": "ipython3",
   "version": "3.12.0"
  }
 },
 "nbformat": 4,
 "nbformat_minor": 2
}
