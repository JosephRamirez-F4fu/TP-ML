{
 "cells": [
  {
   "cell_type": "markdown",
   "metadata": {},
   "source": [
    "# DATA COMPREHESION"
   ]
  },
  {
   "cell_type": "markdown",
   "metadata": {},
   "source": [
    "## DATA MINING"
   ]
  },
  {
   "cell_type": "markdown",
   "metadata": {},
   "source": [
    "El objetivo es obtener todos los datos relacionados a cada token identificado por un atributo\n",
    "llamado clase: Clase: (0: IA, 1: Gaming, 2: RWA, 3: Meme).\n",
    "Se deben capturar datos en los siguientes periodos (desde la fecha del Halving, los siguientes\n",
    "250 días):\n",
    "<br/>\n",
    "- Halving #1: 2/12/2012 + 250 días\n",
    "- Halving #2: 2/07/2016 + 250 días\n",
    "- Halving #3: 3/05/2020 + 250 días\n",
    "\n",
    "Algunos de las características importantes a considerar son las siguientes:\n",
    "-  Fecha de la captura (en formato dd/mm/yyyy)\n",
    "-  Token: nombre corto del token\n",
    "-  Nombre: nombre del token/proyecto\n",
    "-  Valor del activo (en US$)\n",
    "-  Capitalización total de mercado (market cap)\n",
    "-  Posición en el ranking de criptomonedas\n",
    "-  Volumen (volumen 24h)\n",
    "-  Porcentaje del volumen diario (volumen 24h / market cap)\n",
    "-  Suministro circulante (circulating supply)\n",
    "-  Suministro total (total supply)\n",
    "-  Suministro máximo (max supply)\n",
    "- X lograble Comunidad (página web, redes sociales, etc.)\n",
    "- X lograble lograble Porcentaje/ factor de difusión en redes\n",
    "-   Calificación\n",
    "- X Indicador (si vivió o no un halving previamente)\n",
    "-   Indicador de multi cadena (multichain)\n",
    "-   Indicador de listado o no en Exchanges Centralizados (CEX)\n",
    "- X Contrato del proyecto\n",
    "- Clase: (0: IA, 1: Gaming, 2: RWA, 3: Meme)\n",
    "\n",
    "**IMPORTANTE: existirán tokens que son nuevos y por tanto no han vivido aun un Halving. Para estos\n",
    "casos, contemplar adquirir los datos de dichos tokens desde la fecha de su creación hasta la fecha\n",
    "del Halving #4: 20/04/2024.**\n"
   ]
  },
  {
   "cell_type": "code",
   "execution_count": 17,
   "metadata": {},
   "outputs": [],
   "source": [
    "import os\n",
    "from dotenv import load_dotenv\n",
    "import time\n",
    "load_dotenv()\n",
    "api_key = os.getenv(\"API_KEY\")"
   ]
  },
  {
   "cell_type": "code",
   "execution_count": 18,
   "metadata": {},
   "outputs": [],
   "source": [
    "from requests import Session\n",
    "from requests.exceptions import ConnectionError, Timeout, TooManyRedirects\n",
    "import json\n",
    "import pandas as pd"
   ]
  },
  {
   "cell_type": "code",
   "execution_count": 3,
   "metadata": {},
   "outputs": [],
   "source": [
    "#load json file\n",
    "def load_json(filepath,filename):\n",
    "    with open(filepath+filename, 'r') as f:\n",
    "        data = json.load(f)\n",
    "    return data"
   ]
  },
  {
   "cell_type": "code",
   "execution_count": 4,
   "metadata": {},
   "outputs": [],
   "source": []
  },
  {
   "cell_type": "code",
   "execution_count": 75,
   "metadata": {},
   "outputs": [],
   "source": [
    "class CoinMarketCapAPI:\n",
    "    def __init__(self, api_key):\n",
    "        self.api_key = api_key\n",
    "        self.headers = {\n",
    "            'Accepts': 'application/json',\n",
    "            'X-CMC_PRO_API_KEY': api_key,\n",
    "        }\n",
    "        self.session = Session()\n",
    "        self.session.headers.update(self.headers)\n",
    "        self.url_base = 'https://pro-api.coinmarketcap.com/v1/'\n",
    "    \n",
    "    def get_categories(self):\n",
    "        url = 'cryptocurrency/categories'\n",
    "        return self.__catch_error(self.url_base+url)\n",
    "    \n",
    "    def save_to_csv(self, data, filename):\n",
    "        df = pd.DataFrame(data)\n",
    "        df.to_csv(filename, index=False)\n",
    "    \n",
    "    def load_csv(self, filename):\n",
    "        return pd.read_csv(filename, index_col=False)\n",
    "\n",
    "    def __catch_error(self, url):\n",
    "        try:\n",
    "            response = self.session.get(url)\n",
    "            data = json.loads(response.text)\n",
    "            return data[\"data\"]\n",
    "        except (ConnectionError, Timeout, TooManyRedirects) as e:\n",
    "            print(e)\n",
    "        "
   ]
  },
  {
   "cell_type": "code",
   "execution_count": 12,
   "metadata": {},
   "outputs": [],
   "source": [
    "class CoinGeckoClass:\n",
    "    def __init__(self):\n",
    "        self.api_key=\"CG-4iykpMQk3bQNCYrS4pMjmmXJ\"\n",
    "        self.url_base=\"https://api.coingecko.com/api/v3/\"\n",
    "        self.headers={\n",
    "            \"accept\": \"application/json\",\n",
    "            \"x-cg-api-key\":\"CG-4gmHK6qGSZHmTp1Uh7ThLwr6\"\n",
    "            }\n",
    "        self.session = Session()\n",
    "        self.session.headers.update(self.headers)\n",
    "\n",
    "        \n",
    "    def __catch_error(self, url):\n",
    "        try:\n",
    "            response = self.session.get(url)\n",
    "            data = json.loads(response.text)\n",
    "            return data\n",
    "        except (ConnectionError, Timeout, TooManyRedirects) as e:\n",
    "            print(e)\n",
    "    \n",
    "    def get_categories(self):\n",
    "        url = 'coins/categories'\n",
    "        return self.__catch_error(self.url_base+url)\n",
    "    \n",
    "    def get_asset_platforms(self):\n",
    "        url = 'asset_platforms'\n",
    "        return self.__catch_error(self.url_base+url)\n",
    "    \n",
    "    def get_coin_list(self):\n",
    "        url = 'coins/list?include_platform=true'\n",
    "        return self.__catch_error(self.url_base+url)\n",
    "    \n",
    "    def get_coin_list_with_market_data(self,category):\n",
    "        url = f\"coins/markets?vs_currency=usd&category={category}&per_page=250&sparkline=true&price_change_percentage=1h%2C24h%2C7d&precision=full\"\n",
    "        return self.__catch_error(self.url_base+url)\n",
    "    \n",
    "    def get_exchange_list(self):\n",
    "        url = 'exchanges/list'\n",
    "        return self.__catch_error(self.url_base+url)\n",
    "\n",
    "    def save_json(self,data,filepath,filename):\n",
    "        with open(filepath+filename, 'w') as f:\n",
    "            json.dump(data, f)\n",
    "\n",
    "     \n",
    "\n",
    "    def ping(self):\n",
    "        url=self.url_base+\"ping\"\n",
    "        response = self.session.get(url)\n",
    "        data = json.loads(response.text)\n",
    "        print(data)"
   ]
  },
  {
   "cell_type": "code",
   "execution_count": 13,
   "metadata": {},
   "outputs": [
    {
     "name": "stdout",
     "output_type": "stream",
     "text": [
      "{'gecko_says': '(V3) To the Moon!'}\n"
     ]
    }
   ],
   "source": [
    "api = CoinGeckoClass()\n",
    "api.ping()"
   ]
  },
  {
   "cell_type": "code",
   "execution_count": 18,
   "metadata": {},
   "outputs": [],
   "source": [
    "categories=api.get_categories()\n",
    "api.save_json(categories,\"data/raw/\",\"categories.json\")"
   ]
  },
  {
   "cell_type": "code",
   "execution_count": 22,
   "metadata": {},
   "outputs": [],
   "source": [
    "asset_platforms=api.get_asset_platforms()\n",
    "api.save_json(asset_platforms,\"data/raw/\",\"asset_platforms.json\")"
   ]
  },
  {
   "cell_type": "code",
   "execution_count": 25,
   "metadata": {},
   "outputs": [],
   "source": [
    "coin_list=api.get_coin_list()\n",
    "api.save_json(coin_list,\"data/raw/\",\"coin_list.json\")"
   ]
  },
  {
   "cell_type": "markdown",
   "metadata": {},
   "source": [
    "### rwa"
   ]
  },
  {
   "cell_type": "code",
   "execution_count": 28,
   "metadata": {},
   "outputs": [],
   "source": [
    "coin_list_with_market_data=api.get_coin_list_with_market_data(\"real-world-assets-rwa\")\n",
    "api.save_json(coin_list_with_market_data,\"data/raw/\",\"coin_list_with_market_data_real_world_assets_rwa.json\")"
   ]
  },
  {
   "cell_type": "markdown",
   "metadata": {},
   "source": [
    "### gaming"
   ]
  },
  {
   "cell_type": "code",
   "execution_count": 30,
   "metadata": {},
   "outputs": [],
   "source": [
    "coin_list_with_market_data=api.get_coin_list_with_market_data(\"gaming\")\n",
    "api.save_json(coin_list_with_market_data,\"data/raw/\",\"coin_list_with_market_data_gaming.json\")"
   ]
  },
  {
   "cell_type": "code",
   "execution_count": 31,
   "metadata": {},
   "outputs": [],
   "source": [
    "coin_list_with_market_data=api.get_coin_list_with_market_data(\"play-to-earn\")\n",
    "api.save_json(coin_list_with_market_data,\"data/raw/coin_list_with_market_data/\",\"play_to_earn.json\")\n"
   ]
  },
  {
   "cell_type": "code",
   "execution_count": 32,
   "metadata": {},
   "outputs": [],
   "source": [
    "coin_list_with_market_data=api.get_coin_list_with_market_data(\"gaming-blockchains\")\n",
    "api.save_json(coin_list_with_market_data,\"data/raw/coin_list_with_market_data/\",\"gaming_blockchains.json\")"
   ]
  },
  {
   "cell_type": "code",
   "execution_count": 33,
   "metadata": {},
   "outputs": [],
   "source": [
    "coin_list_with_market_data=api.get_coin_list_with_market_data(\"gaming-utility-token\")\n",
    "api.save_json(coin_list_with_market_data,\"data/raw/coin_list_with_market_data/\",\"gaming_utility_token.json\")"
   ]
  },
  {
   "cell_type": "code",
   "execution_count": 34,
   "metadata": {},
   "outputs": [],
   "source": [
    "coin_list_with_market_data=api.get_coin_list_with_market_data(\"gaming-governance-token\")\n",
    "api.save_json(coin_list_with_market_data,\"data/raw/coin_list_with_market_data/\",\"gaming_governance_token.json\")"
   ]
  },
  {
   "cell_type": "code",
   "execution_count": 35,
   "metadata": {},
   "outputs": [],
   "source": [
    "coin_list_with_market_data=api.get_coin_list_with_market_data(\"gaming-platform\")\n",
    "api.save_json(coin_list_with_market_data,\"data/raw/coin_list_with_market_data/\",\"gaming_platform.json\")"
   ]
  },
  {
   "cell_type": "code",
   "execution_count": 36,
   "metadata": {},
   "outputs": [],
   "source": [
    "coin_list_with_market_data=api.get_coin_list_with_market_data(\"on-chain-gaming\")\n",
    "api.save_json(coin_list_with_market_data,\"data/raw/coin_list_with_market_data/\",\"on_chain_gaming.json\")"
   ]
  },
  {
   "cell_type": "markdown",
   "metadata": {},
   "source": [
    "### memes"
   ]
  },
  {
   "cell_type": "code",
   "execution_count": 4,
   "metadata": {},
   "outputs": [],
   "source": [
    "categories = load_json(\"data/raw/\",\"categories.json\")"
   ]
  },
  {
   "cell_type": "code",
   "execution_count": 5,
   "metadata": {},
   "outputs": [],
   "source": [
    "df_categories=pd.DataFrame(categories)"
   ]
  },
  {
   "cell_type": "code",
   "execution_count": 6,
   "metadata": {},
   "outputs": [],
   "source": [
    "df_categories_meme = df_categories.loc[df_categories['content'].apply(lambda x : \"meme\" in str(x).lower())]"
   ]
  },
  {
   "cell_type": "code",
   "execution_count": 7,
   "metadata": {},
   "outputs": [
    {
     "data": {
      "text/plain": [
       "['meme-token',\n",
       " 'dog-themed-coins',\n",
       " 'elon-musk-inspired-coins',\n",
       " 'solana-meme-coins',\n",
       " 'cat-themed-coins',\n",
       " 'base-meme-coins',\n",
       " 'presale-meme-coins',\n",
       " 'politifi',\n",
       " 'ai-meme-coins',\n",
       " 'parody-meme-coins',\n",
       " 'ton-meme-coins',\n",
       " 'anime-themed-coins',\n",
       " 'duck-themed-coins']"
      ]
     },
     "execution_count": 7,
     "metadata": {},
     "output_type": "execute_result"
    }
   ],
   "source": [
    "df_categories_meme[\"id\"].to_list()"
   ]
  },
  {
   "cell_type": "code",
   "execution_count": 15,
   "metadata": {},
   "outputs": [],
   "source": [
    "for category in df_categories_meme[\"id\"].to_list():\n",
    "    coin_list_with_market_data=api.get_coin_list_with_market_data(category)\n",
    "    api.save_json(coin_list_with_market_data,\"data/raw/coin_list_with_market_data/memes/\",f\"{category.replace('-','_')}.json\")"
   ]
  },
  {
   "cell_type": "markdown",
   "metadata": {},
   "source": [
    "### IA"
   ]
  },
  {
   "cell_type": "code",
   "execution_count": 107,
   "metadata": {},
   "outputs": [],
   "source": [
    "coin_list_with_market_data=api.get_coin_list_with_market_data(\"artificial-intelligence\")\n",
    "api.save_json(coin_list_with_market_data,\"data/raw/coin_list_with_market_data/AI/\",\"artificial_intelligence.json\")"
   ]
  },
  {
   "cell_type": "markdown",
   "metadata": {},
   "source": [
    "### CEX TOKENS"
   ]
  },
  {
   "cell_type": "code",
   "execution_count": 88,
   "metadata": {},
   "outputs": [],
   "source": [
    "coin_list_with_market_data=api.get_coin_list_with_market_data(\"centralized-exchange-token-cex\")\n",
    "api.save_json(coin_list_with_market_data,\"data/raw/coin_list_with_market_data/\",\"centralized_exchange_token_cex.json\")\n"
   ]
  },
  {
   "cell_type": "code",
   "execution_count": 93,
   "metadata": {},
   "outputs": [],
   "source": [
    "data_cex=load_json(\"data/raw/coin_list_with_market_data/\",\"centralized_exchange_token_cex.json\")"
   ]
  },
  {
   "cell_type": "code",
   "execution_count": 95,
   "metadata": {},
   "outputs": [
    {
     "data": {
      "text/plain": [
       "42"
      ]
     },
     "execution_count": 95,
     "metadata": {},
     "output_type": "execute_result"
    }
   ],
   "source": [
    "len(data_cex)"
   ]
  },
  {
   "cell_type": "markdown",
   "metadata": {},
   "source": [
    "### exchanges"
   ]
  },
  {
   "cell_type": "code",
   "execution_count": 74,
   "metadata": {},
   "outputs": [],
   "source": [
    "exchange_list=api.get_exchange_list()\n",
    "api.save_json(exchange_list,\"data/raw/\",\"exchange_list.json\")"
   ]
  },
  {
   "cell_type": "markdown",
   "metadata": {},
   "source": [
    "### clasificando tokens por clase"
   ]
  },
  {
   "cell_type": "code",
   "execution_count": 19,
   "metadata": {},
   "outputs": [],
   "source": [
    "from pathlib import Path"
   ]
  },
  {
   "cell_type": "markdown",
   "metadata": {},
   "source": [
    "#### gaming"
   ]
  },
  {
   "cell_type": "code",
   "execution_count": 27,
   "metadata": {},
   "outputs": [],
   "source": [
    "#load gaming json files\n",
    "data_folder = Path(\"data/raw/coin_list_with_market_data/gaming/\")\n",
    "gaming_files = [file for file in data_folder.iterdir() if file.is_file()]\n",
    "# to string list"
   ]
  },
  {
   "cell_type": "code",
   "execution_count": 28,
   "metadata": {},
   "outputs": [],
   "source": [
    "df_all_tokens_gaming = pd.DataFrame()\n",
    "for file in gaming_files:\n",
    "    json_file=load_json(\"data/raw/coin_list_with_market_data/gaming/\",file.name)\n",
    "    df = pd.DataFrame(json_file)\n",
    "    df = df[['id','symbol','name']]\n",
    "    df['class']=1\n",
    "    df_all_tokens_gaming = pd.concat([df_all_tokens_gaming,df])\n",
    "    "
   ]
  },
  {
   "cell_type": "code",
   "execution_count": 29,
   "metadata": {},
   "outputs": [],
   "source": [
    "df_all_tokens_gaming.drop_duplicates(subset=['id'],inplace=True)"
   ]
  },
  {
   "cell_type": "code",
   "execution_count": 30,
   "metadata": {},
   "outputs": [
    {
     "data": {
      "text/plain": [
       "329"
      ]
     },
     "execution_count": 30,
     "metadata": {},
     "output_type": "execute_result"
    }
   ],
   "source": [
    "#numeor de toknens gaming\n",
    "len(df_all_tokens_gaming)"
   ]
  },
  {
   "cell_type": "markdown",
   "metadata": {},
   "source": [
    "#### ia"
   ]
  },
  {
   "cell_type": "code",
   "execution_count": 31,
   "metadata": {},
   "outputs": [],
   "source": [
    "data_folder = Path(\"data/raw/coin_list_with_market_data/AI/\")\n",
    "files = [file for file in data_folder.iterdir() if file.is_file()]"
   ]
  },
  {
   "cell_type": "code",
   "execution_count": 32,
   "metadata": {},
   "outputs": [],
   "source": [
    "df_all_tokens_ai = pd.DataFrame()\n",
    "for file in files:\n",
    "    json_file=load_json(\"data/raw/coin_list_with_market_data/AI/\",file.name)\n",
    "    df = pd.DataFrame(json_file)\n",
    "    df = df[['id','symbol','name']]\n",
    "    df['class']=0\n",
    "    df_all_tokens_ai = pd.concat([df_all_tokens_ai,df])"
   ]
  },
  {
   "cell_type": "code",
   "execution_count": 41,
   "metadata": {},
   "outputs": [
    {
     "data": {
      "text/plain": [
       "166"
      ]
     },
     "execution_count": 41,
     "metadata": {},
     "output_type": "execute_result"
    }
   ],
   "source": [
    "len(df_all_tokens_ai)"
   ]
  },
  {
   "cell_type": "markdown",
   "metadata": {},
   "source": [
    "#### memes"
   ]
  },
  {
   "cell_type": "code",
   "execution_count": 33,
   "metadata": {},
   "outputs": [],
   "source": [
    "data_folder = Path(\"data/raw/coin_list_with_market_data/memes/\")\n",
    "files = [file for file in data_folder.iterdir() if file.is_file()]"
   ]
  },
  {
   "cell_type": "code",
   "execution_count": 34,
   "metadata": {},
   "outputs": [],
   "source": [
    "df_all_tokens_memes = pd.DataFrame()\n",
    "for file in files:\n",
    "    json_file=load_json(\"data/raw/coin_list_with_market_data/memes/\",file.name)\n",
    "    df = pd.DataFrame(json_file)\n",
    "    df = df[['id','symbol','name']]\n",
    "    df['class']=3\n",
    "    df_all_tokens_memes = pd.concat([df_all_tokens_memes,df])"
   ]
  },
  {
   "cell_type": "code",
   "execution_count": 35,
   "metadata": {},
   "outputs": [
    {
     "data": {
      "text/plain": [
       "226"
      ]
     },
     "execution_count": 35,
     "metadata": {},
     "output_type": "execute_result"
    }
   ],
   "source": [
    "df_all_tokens_memes.duplicated(subset=['id']).sum()"
   ]
  },
  {
   "cell_type": "code",
   "execution_count": 36,
   "metadata": {},
   "outputs": [],
   "source": [
    "df_all_tokens_memes.drop_duplicates(subset=['id'],inplace=True)"
   ]
  },
  {
   "cell_type": "code",
   "execution_count": 40,
   "metadata": {},
   "outputs": [
    {
     "data": {
      "text/plain": [
       "414"
      ]
     },
     "execution_count": 40,
     "metadata": {},
     "output_type": "execute_result"
    }
   ],
   "source": [
    "len(df_all_tokens_memes)"
   ]
  },
  {
   "cell_type": "markdown",
   "metadata": {},
   "source": [
    "### rwa"
   ]
  },
  {
   "cell_type": "code",
   "execution_count": 37,
   "metadata": {},
   "outputs": [],
   "source": [
    "data_folder = Path(\"data/raw/coin_list_with_market_data/rwa/\")\n",
    "files = [file for file in data_folder.iterdir() if file.is_file()]"
   ]
  },
  {
   "cell_type": "code",
   "execution_count": 38,
   "metadata": {},
   "outputs": [],
   "source": [
    "df_all_tokens_rwa = pd.DataFrame()\n",
    "for file in files:\n",
    "    json_file=load_json(\"data/raw/coin_list_with_market_data/rwa/\",file.name)\n",
    "    df = pd.DataFrame(json_file)\n",
    "    df = df[['id','symbol','name']]\n",
    "    df['class']=2\n",
    "    df_all_tokens_rwa = pd.concat([df_all_tokens_rwa,df])"
   ]
  },
  {
   "cell_type": "code",
   "execution_count": 39,
   "metadata": {},
   "outputs": [
    {
     "data": {
      "text/plain": [
       "131"
      ]
     },
     "execution_count": 39,
     "metadata": {},
     "output_type": "execute_result"
    }
   ],
   "source": [
    "len(df_all_tokens_rwa)"
   ]
  },
  {
   "cell_type": "code",
   "execution_count": 44,
   "metadata": {},
   "outputs": [],
   "source": [
    "df_all_tokens  = pd.concat([df_all_tokens_gaming,df_all_tokens_ai,df_all_tokens_memes,df_all_tokens_rwa])"
   ]
  },
  {
   "cell_type": "code",
   "execution_count": 45,
   "metadata": {},
   "outputs": [
    {
     "data": {
      "text/plain": [
       "21"
      ]
     },
     "execution_count": 45,
     "metadata": {},
     "output_type": "execute_result"
    }
   ],
   "source": [
    "df_all_tokens.duplicated(subset=['id']).sum() # observamos que existen tokenes que tienen  mas de una class "
   ]
  },
  {
   "cell_type": "code",
   "execution_count": 46,
   "metadata": {},
   "outputs": [],
   "source": [
    "df_all_tokens.to_csv(\"data/clean/df_all_tokens.csv\",index=False)"
   ]
  }
 ],
 "metadata": {
  "kernelspec": {
   "display_name": "env",
   "language": "python",
   "name": "python3"
  },
  "language_info": {
   "codemirror_mode": {
    "name": "ipython",
    "version": 3
   },
   "file_extension": ".py",
   "mimetype": "text/x-python",
   "name": "python",
   "nbconvert_exporter": "python",
   "pygments_lexer": "ipython3",
   "version": "3.12.0"
  }
 },
 "nbformat": 4,
 "nbformat_minor": 2
}
